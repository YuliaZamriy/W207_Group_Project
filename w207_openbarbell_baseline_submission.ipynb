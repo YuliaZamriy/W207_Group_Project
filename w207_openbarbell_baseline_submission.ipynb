{
 "cells": [
  {
   "cell_type": "markdown",
   "metadata": {},
   "source": [
    "# W207 Final Project Baseline: OpenBarbell\n",
    "\n",
    "## 30 July 2018\n",
    "\n",
    "### Project Description\n",
    "\n",
    "OpenBarbell is a device that measures key weightlifting metrics during a lifter's workout. Example metrics are weight, peak velocity, and rep time. These metrics can be used by a lifter to better understand and improve their performance. The goal of this project is to use the data produced by OpenBarbell to add greater intelligence to the user experience.\n",
    "\n",
    "### Project Goals\n",
    "\n",
    " 1. *Exercise classification*. Exercise name is an open field (lifters can enter whatever they want or nothing at all). However, it is one of the key variables to analyze lifter performance. Hence, we would like to build an algorithm to determine exercise for each set based on its characteristics (weight, range of motion, velocity etc.)\n",
    " 2. *Lifter segmentation*. Can we create distinct groups of lifters based on their lifting characteristics for each exercise (velocity, range of motion, weight)? This would help create semi-customized training programs.\n",
    "\n",
    "### Data and Source\n",
    "\n",
    " - [OpenBarbell Data](https://github.com/squatsandsciencelabs/OpenBarbell-V3/wiki/OpenBarbell-Data-Storage-Format) - the dataset is provided by Squats and Science Barbell, no NDA is required per owner (Jordan Berke)\n",
    " - [Project GitHub Repository](https://github.com/YuliaZamriy/W207_Group_Project)\n",
    "\n",
    "### Team\n",
    " - Renzee Reyes\n",
    " - Tim Witthoefft\n",
    " - Jack Workman\n",
    " - Yulia Zamriy\n",
    " \n",
    "## Summary, Next Steps, and Open Questions at the Bottom"
   ]
  },
  {
   "cell_type": "code",
   "execution_count": 1,
   "metadata": {},
   "outputs": [
    {
     "data": {
      "text/plain": [
       "'English_United States.1252'"
      ]
     },
     "execution_count": 1,
     "metadata": {},
     "output_type": "execute_result"
    }
   ],
   "source": [
    "import os\n",
    "import zipfile\n",
    "import pandas as pd\n",
    "import matplotlib.pyplot as plt\n",
    "import locale\n",
    "from locale import atof\n",
    "from sklearn.neighbors import KNeighborsClassifier\n",
    "\n",
    "%matplotlib inline\n",
    "\n",
    "csv_data_file = 'ob_data_w207_filtered.csv'\n",
    "zip_data_file = 'ob_data_w207_filtered.zip'\n",
    "\n",
    "locale.setlocale(locale.LC_NUMERIC, '')"
   ]
  },
  {
   "cell_type": "markdown",
   "metadata": {},
   "source": [
    "# 1. Import The Data\n",
    "\n",
    "The data exists as a CSV encased in a zip file. Here, we unzip if not already unzipped and load the data file with pandas.\n",
    "\n",
    "## 1.1 Note on CSV Data\n",
    "\n",
    "The CSV data imported here is modified slightly from the original data source. The original data source is in JSON and contains 'deleted' or 'removed' observations that the devices recorded but the user did not want to retain. Since we do not know why the users deleted these rows (deletion could have been an accident, the user recognized the data was incorrect, etc), we have elected to not include these in our model.\n",
    "\n",
    "Other data processing operations not seen in this notebook include:\n",
    "- filtering exercises to \"big 3\" - squat, bench press, and deadlift\n",
    "- converting certain fields from strings to datetime and numeric objects\n",
    "- handle numbers with a comma as a decimal point\n",
    "- converting 'weight' to lbs\n",
    "- some outlier processing\n",
    "\n",
    "The script used to do this pre-processing can be seen here: https://github.com/YuliaZamriy/W207_Group_Project/blob/master/OBDB_processing_v2.py\n",
    "\n",
    "## 1.2 Import"
   ]
  },
  {
   "cell_type": "code",
   "execution_count": 2,
   "metadata": {},
   "outputs": [],
   "source": [
    "df = None\n",
    "if not os.path.exists(csv_data_file) and os.path.exists(zip_data_file):\n",
    "    zip_ref = zipfile.ZipFile(zip_data_file, 'r')\n",
    "    zip_ref.extractall('\\\\')\n",
    "    zip_ref.close()\n",
    "if os.path.exists(csv_data_file):\n",
    "    df = pd.read_csv(csv_data_file)\n",
    "    # -- pandas supposedly coverts '7,39' to '7.39' with decimal arg but it didn't work\n",
    "    #df = pd.read_csv(csv_data_file, decimal='.')\n",
    "else:\n",
    "    raise Exception('Data file not found! {0}'.format(csv_data_file))"
   ]
  },
  {
   "cell_type": "markdown",
   "metadata": {},
   "source": [
    "# 2. Quick EDA\n",
    "\n",
    "To ensure that the data contains no hidden surprises, we do a quick EDA."
   ]
  },
  {
   "cell_type": "markdown",
   "metadata": {},
   "source": [
    "## 2.1 Shape and Head"
   ]
  },
  {
   "cell_type": "code",
   "execution_count": 3,
   "metadata": {},
   "outputs": [
    {
     "name": "stdout",
     "output_type": "stream",
     "text": [
      "Data shape: (292910, 45)\n"
     ]
    }
   ],
   "source": [
    "print(\"Data shape: {0}\".format(df.shape))"
   ]
  },
  {
   "cell_type": "code",
   "execution_count": 4,
   "metadata": {
    "scrolled": true
   },
   "outputs": [
    {
     "data": {
      "text/html": [
       "<div>\n",
       "<style scoped>\n",
       "    .dataframe tbody tr th:only-of-type {\n",
       "        vertical-align: middle;\n",
       "    }\n",
       "\n",
       "    .dataframe tbody tr th {\n",
       "        vertical-align: top;\n",
       "    }\n",
       "\n",
       "    .dataframe thead th {\n",
       "        text-align: right;\n",
       "    }\n",
       "</style>\n",
       "<table border=\"1\" class=\"dataframe\">\n",
       "  <thead>\n",
       "    <tr style=\"text-align: right;\">\n",
       "      <th></th>\n",
       "      <th>_id</th>\n",
       "      <th>deleted</th>\n",
       "      <th>endTime</th>\n",
       "      <th>exercise</th>\n",
       "      <th>initialStartTime</th>\n",
       "      <th>metric</th>\n",
       "      <th>removed_set</th>\n",
       "      <th>rpe</th>\n",
       "      <th>setID</th>\n",
       "      <th>setNumber</th>\n",
       "      <th>...</th>\n",
       "      <th>TimeRepWait</th>\n",
       "      <th>SlowAllow</th>\n",
       "      <th>Backlight</th>\n",
       "      <th>MinAllow</th>\n",
       "      <th>PeakAccel</th>\n",
       "      <th>_merge</th>\n",
       "      <th>rpe_num</th>\n",
       "      <th>weight_lbs</th>\n",
       "      <th>exercise_clean</th>\n",
       "      <th>exercise_clean2</th>\n",
       "    </tr>\n",
       "  </thead>\n",
       "  <tbody>\n",
       "    <tr>\n",
       "      <th>0</th>\n",
       "      <td>000051e0-54b2-48d8-98d2-79f65505c3e6</td>\n",
       "      <td>NaN</td>\n",
       "      <td>NaN</td>\n",
       "      <td>Bench</td>\n",
       "      <td>2018-01-03 01:29:46.904</td>\n",
       "      <td>kgs</td>\n",
       "      <td>0.0</td>\n",
       "      <td>7.5</td>\n",
       "      <td>000051e0-54b2-48d8-98d2-79f65505c3e6</td>\n",
       "      <td>3.0</td>\n",
       "      <td>...</td>\n",
       "      <td>0.0</td>\n",
       "      <td>130000.0</td>\n",
       "      <td>10000.0</td>\n",
       "      <td>150000.0</td>\n",
       "      <td>11.073610</td>\n",
       "      <td>both</td>\n",
       "      <td>7.5</td>\n",
       "      <td>192.90425</td>\n",
       "      <td>bench</td>\n",
       "      <td>bench</td>\n",
       "    </tr>\n",
       "    <tr>\n",
       "      <th>1</th>\n",
       "      <td>000051e0-54b2-48d8-98d2-79f65505c3e6</td>\n",
       "      <td>NaN</td>\n",
       "      <td>NaN</td>\n",
       "      <td>Bench</td>\n",
       "      <td>2018-01-03 01:29:46.904</td>\n",
       "      <td>kgs</td>\n",
       "      <td>0.0</td>\n",
       "      <td>7.5</td>\n",
       "      <td>000051e0-54b2-48d8-98d2-79f65505c3e6</td>\n",
       "      <td>3.0</td>\n",
       "      <td>...</td>\n",
       "      <td>0.0</td>\n",
       "      <td>130000.0</td>\n",
       "      <td>10000.0</td>\n",
       "      <td>150000.0</td>\n",
       "      <td>0.714399</td>\n",
       "      <td>both</td>\n",
       "      <td>7.5</td>\n",
       "      <td>192.90425</td>\n",
       "      <td>bench</td>\n",
       "      <td>bench</td>\n",
       "    </tr>\n",
       "    <tr>\n",
       "      <th>2</th>\n",
       "      <td>000051e0-54b2-48d8-98d2-79f65505c3e6</td>\n",
       "      <td>NaN</td>\n",
       "      <td>NaN</td>\n",
       "      <td>Bench</td>\n",
       "      <td>2018-01-03 01:29:46.904</td>\n",
       "      <td>kgs</td>\n",
       "      <td>0.0</td>\n",
       "      <td>7.5</td>\n",
       "      <td>000051e0-54b2-48d8-98d2-79f65505c3e6</td>\n",
       "      <td>3.0</td>\n",
       "      <td>...</td>\n",
       "      <td>0.0</td>\n",
       "      <td>130000.0</td>\n",
       "      <td>10000.0</td>\n",
       "      <td>150000.0</td>\n",
       "      <td>0.730685</td>\n",
       "      <td>both</td>\n",
       "      <td>7.5</td>\n",
       "      <td>192.90425</td>\n",
       "      <td>bench</td>\n",
       "      <td>bench</td>\n",
       "    </tr>\n",
       "    <tr>\n",
       "      <th>3</th>\n",
       "      <td>000051e0-54b2-48d8-98d2-79f65505c3e6</td>\n",
       "      <td>NaN</td>\n",
       "      <td>NaN</td>\n",
       "      <td>Bench</td>\n",
       "      <td>2018-01-03 01:29:46.904</td>\n",
       "      <td>kgs</td>\n",
       "      <td>0.0</td>\n",
       "      <td>7.5</td>\n",
       "      <td>000051e0-54b2-48d8-98d2-79f65505c3e6</td>\n",
       "      <td>3.0</td>\n",
       "      <td>...</td>\n",
       "      <td>0.0</td>\n",
       "      <td>130000.0</td>\n",
       "      <td>10000.0</td>\n",
       "      <td>150000.0</td>\n",
       "      <td>0.923557</td>\n",
       "      <td>both</td>\n",
       "      <td>7.5</td>\n",
       "      <td>192.90425</td>\n",
       "      <td>bench</td>\n",
       "      <td>bench</td>\n",
       "    </tr>\n",
       "    <tr>\n",
       "      <th>4</th>\n",
       "      <td>000051e0-54b2-48d8-98d2-79f65505c3e6</td>\n",
       "      <td>NaN</td>\n",
       "      <td>NaN</td>\n",
       "      <td>Bench</td>\n",
       "      <td>2018-01-03 01:29:46.904</td>\n",
       "      <td>kgs</td>\n",
       "      <td>0.0</td>\n",
       "      <td>7.5</td>\n",
       "      <td>000051e0-54b2-48d8-98d2-79f65505c3e6</td>\n",
       "      <td>3.0</td>\n",
       "      <td>...</td>\n",
       "      <td>0.0</td>\n",
       "      <td>130000.0</td>\n",
       "      <td>10000.0</td>\n",
       "      <td>150000.0</td>\n",
       "      <td>0.827607</td>\n",
       "      <td>both</td>\n",
       "      <td>7.5</td>\n",
       "      <td>192.90425</td>\n",
       "      <td>bench</td>\n",
       "      <td>bench</td>\n",
       "    </tr>\n",
       "  </tbody>\n",
       "</table>\n",
       "<p>5 rows × 45 columns</p>\n",
       "</div>"
      ],
      "text/plain": [
       "                                    _id  deleted endTime exercise  \\\n",
       "0  000051e0-54b2-48d8-98d2-79f65505c3e6      NaN     NaN    Bench   \n",
       "1  000051e0-54b2-48d8-98d2-79f65505c3e6      NaN     NaN    Bench   \n",
       "2  000051e0-54b2-48d8-98d2-79f65505c3e6      NaN     NaN    Bench   \n",
       "3  000051e0-54b2-48d8-98d2-79f65505c3e6      NaN     NaN    Bench   \n",
       "4  000051e0-54b2-48d8-98d2-79f65505c3e6      NaN     NaN    Bench   \n",
       "\n",
       "          initialStartTime metric  removed_set  rpe  \\\n",
       "0  2018-01-03 01:29:46.904    kgs          0.0  7.5   \n",
       "1  2018-01-03 01:29:46.904    kgs          0.0  7.5   \n",
       "2  2018-01-03 01:29:46.904    kgs          0.0  7.5   \n",
       "3  2018-01-03 01:29:46.904    kgs          0.0  7.5   \n",
       "4  2018-01-03 01:29:46.904    kgs          0.0  7.5   \n",
       "\n",
       "                                  setID  setNumber       ...         \\\n",
       "0  000051e0-54b2-48d8-98d2-79f65505c3e6        3.0       ...          \n",
       "1  000051e0-54b2-48d8-98d2-79f65505c3e6        3.0       ...          \n",
       "2  000051e0-54b2-48d8-98d2-79f65505c3e6        3.0       ...          \n",
       "3  000051e0-54b2-48d8-98d2-79f65505c3e6        3.0       ...          \n",
       "4  000051e0-54b2-48d8-98d2-79f65505c3e6        3.0       ...          \n",
       "\n",
       "  TimeRepWait SlowAllow Backlight  MinAllow  PeakAccel _merge rpe_num  \\\n",
       "0         0.0  130000.0   10000.0  150000.0  11.073610   both     7.5   \n",
       "1         0.0  130000.0   10000.0  150000.0   0.714399   both     7.5   \n",
       "2         0.0  130000.0   10000.0  150000.0   0.730685   both     7.5   \n",
       "3         0.0  130000.0   10000.0  150000.0   0.923557   both     7.5   \n",
       "4         0.0  130000.0   10000.0  150000.0   0.827607   both     7.5   \n",
       "\n",
       "   weight_lbs  exercise_clean  exercise_clean2  \n",
       "0   192.90425           bench            bench  \n",
       "1   192.90425           bench            bench  \n",
       "2   192.90425           bench            bench  \n",
       "3   192.90425           bench            bench  \n",
       "4   192.90425           bench            bench  \n",
       "\n",
       "[5 rows x 45 columns]"
      ]
     },
     "execution_count": 4,
     "metadata": {},
     "output_type": "execute_result"
    }
   ],
   "source": [
    "df.head()"
   ]
  },
  {
   "cell_type": "markdown",
   "metadata": {},
   "source": [
    "## 2.2 Check for Null Values\n",
    "\n",
    "Here we observe that there are, in fact, quite a few null values in the dataset. Prior domain knowledge tells us that most of this is because the dataset is a combination of observations from multiple versions of the OpenBarbell platform and that older versions do not support some of the newer fields (like videoURL).\n",
    "\n",
    "The majority of null values seen here can be safely ignored. However, some, like PeakAccel, will need to be handled. We do this in Section 3."
   ]
  },
  {
   "cell_type": "code",
   "execution_count": 5,
   "metadata": {},
   "outputs": [
    {
     "data": {
      "image/png": "[encoded data removed]",
      "text/plain": [
       "<matplotlib.figure.Figure at 0x1948393a668>"
      ]
     },
     "metadata": {},
     "output_type": "display_data"
    }
   ],
   "source": [
    "null_sums = df.isnull().sum()\n",
    "fig, ax = plt.subplots()\n",
    "fig.set_size_inches(18.5, 8.5)\n",
    "for i, null_col in enumerate(null_sums):\n",
    "    plt.bar(i, null_col)\n",
    "\n",
    "_ = plt.title('Null Values by Column in Dataset')\n",
    "_ = plt.xticks(list(range(len(null_sums))), null_sums.index, rotation='vertical')"
   ]
  },
  {
   "cell_type": "markdown",
   "metadata": {},
   "source": [
    "# 3. Clean and Feature Engineer the Data"
   ]
  },
  {
   "cell_type": "markdown",
   "metadata": {},
   "source": [
    "## 3.1 Clean the Data\n",
    "\n",
    "There are many columns in the dataset that are not especially important. The first step is to drop those. Then, the outcome column must be factorized. We also drop all nulls for the purpose of this notebook. This approach might be improved as the project progresses."
   ]
  },
  {
   "cell_type": "code",
   "execution_count": 6,
   "metadata": {},
   "outputs": [],
   "source": [
    "LABEL_COLUMN = 'exercise_clean'\n",
    "DATA_COLUMNS = ['RepCount', 'AvgVel',\n",
    "                 'ROM', 'PeakVel', 'PeakVelLoc', 'RepDur', 'TimeBWReps',\n",
    "                 'TimeRepComp', 'TimeRepWait', 'PeakAccel', 'weight_lbs']"
   ]
  },
  {
   "cell_type": "code",
   "execution_count": 8,
   "metadata": {},
   "outputs": [],
   "source": [
    "def clean_data(data):\n",
    "\n",
    "    # keep only the columns we care about\n",
    "    data = data[[LABEL_COLUMN] + DATA_COLUMNS]\n",
    "\n",
    "    # convert nums with commas to decimals\n",
    "    # https://stackoverflow.com/questions/24037507/converting-string-objects-to-int-float-using-pandas\n",
    "    # data['weight'] = pd.to_numeric(data['weight'], errors='coerce')\n",
    "    \n",
    "    # convert categorical labels to ints\n",
    "    # https://stackoverflow.com/questions/47595268/convert-classes-to-numeric-in-a-pandas-dataframe\n",
    "    data[LABEL_COLUMN] = pd.factorize(data[LABEL_COLUMN])[0]\n",
    "    # todo: figure out what nums match to which label\n",
    "    \n",
    "    # remove nulls\n",
    "    data = data.dropna()\n",
    "    \n",
    "    return data\n",
    "\n",
    "# -- will be useful for categorical data! but not for labels as it creates a col for each unique label\n",
    "## http://fastml.com/converting-categorical-data-into-numbers-with-pandas-and-scikit-learn/\n",
    "#d = pd.DataFrame({'a': [11, 22, 33, 55], 'b': ['one', 'two', 'three', 'five']})\n",
    "#pd.get_dummies(d, columns=['b'])\n",
    "#print(d)"
   ]
  },
  {
   "cell_type": "code",
   "execution_count": 9,
   "metadata": {},
   "outputs": [
    {
     "name": "stdout",
     "output_type": "stream",
     "text": [
      "Observations before cleaning = (292910, 45)\n",
      "Observations after cleaning = (196034, 12)\n"
     ]
    },
    {
     "name": "stderr",
     "output_type": "stream",
     "text": [
      "c:\\python36\\lib\\site-packages\\ipykernel_launcher.py:12: SettingWithCopyWarning: \n",
      "A value is trying to be set on a copy of a slice from a DataFrame.\n",
      "Try using .loc[row_indexer,col_indexer] = value instead\n",
      "\n",
      "See the caveats in the documentation: http://pandas.pydata.org/pandas-docs/stable/indexing.html#indexing-view-versus-copy\n",
      "  if sys.path[0] == '':\n"
     ]
    }
   ],
   "source": [
    "print('Observations before cleaning = {0}'.format(df.shape))\n",
    "df_cleaned = clean_data(df)\n",
    "print('Observations after cleaning = {0}'.format(df_cleaned.shape))"
   ]
  },
  {
   "cell_type": "markdown",
   "metadata": {},
   "source": [
    "## 3.2 Feature Engineering\n",
    "\n",
    "Todo!"
   ]
  },
  {
   "cell_type": "code",
   "execution_count": 10,
   "metadata": {},
   "outputs": [],
   "source": [
    "def feature_engineer_data(data):\n",
    "    # todo\n",
    "    return data"
   ]
  },
  {
   "cell_type": "code",
   "execution_count": 12,
   "metadata": {},
   "outputs": [
    {
     "name": "stdout",
     "output_type": "stream",
     "text": [
      "Observations before feature engineering = (196034, 12)\n",
      "Observations after feature engineering = (196034, 12)\n"
     ]
    }
   ],
   "source": [
    "print('Observations before feature engineering = {0}'.format(df_cleaned.shape))\n",
    "df_cleaned_and_engineered = feature_engineer_data(df_cleaned)\n",
    "print('Observations after feature engineering = {0}'.format(df_cleaned.shape))\n",
    "\n",
    "df_labels = df_cleaned_and_engineered[LABEL_COLUMN]\n",
    "df_data = df_cleaned_and_engineered.drop(LABEL_COLUMN, axis=1)"
   ]
  },
  {
   "cell_type": "markdown",
   "metadata": {},
   "source": [
    "# 4. Separate Data Into Train, Dev, & Test Sets\n",
    "\n",
    "For this project, we are splitting the dataset into the following three categories:\n",
    "1. Train - 80%\n",
    "2. Dev - 10%\n",
    "3. Test - 10%\n",
    "\n",
    "Train will be used to train the model. We will use Dev to test our pipeline and model modifications. We will use Test as a final checkpoint of model performance.\n"
   ]
  },
  {
   "cell_type": "code",
   "execution_count": 13,
   "metadata": {},
   "outputs": [
    {
     "name": "stdout",
     "output_type": "stream",
     "text": [
      "Dev data & labels shapes: (29291, 11), (29291,)\n",
      "Test data & labels shapes: (29291, 11), (29291,)\n",
      "Train data & labels shapes: (137452, 11), (137452,)\n"
     ]
    }
   ],
   "source": [
    "n = len(df)\n",
    "dev_pct = .1\n",
    "dev_cnt = int(n * dev_pct)\n",
    "test_pct = .1\n",
    "test_cnt = int(n * test_pct)\n",
    "dev_data, dev_labels = df_data[:dev_cnt], df_labels[:dev_cnt]\n",
    "test_data, test_labels = df_data[dev_cnt:dev_cnt+test_cnt], df_labels[dev_cnt:dev_cnt+test_cnt]\n",
    "train_data, train_labels = df_data[dev_cnt+test_cnt:], df_labels[dev_cnt+test_cnt:]\n",
    "\n",
    "print('Dev data & labels shapes: {0}, {1}'.format(dev_data.shape, dev_labels.shape))\n",
    "print('Test data & labels shapes: {0}, {1}'.format(test_data.shape, test_labels.shape))\n",
    "print('Train data & labels shapes: {0}, {1}'.format(train_data.shape, train_labels.shape))"
   ]
  },
  {
   "cell_type": "markdown",
   "metadata": {},
   "source": [
    "# 5. Train and Test the Model\n",
    "\n",
    "Using a K Nearest Neighbors classifier, we train the model using the train dataset and evaluate its performance on the dev dataset. We use the dev dataset to determine the optimal value of k."
   ]
  },
  {
   "cell_type": "code",
   "execution_count": 14,
   "metadata": {},
   "outputs": [],
   "source": [
    "def do_knn(k, train_data, train_labels, dev_data, dev_labels):\n",
    "    knn_clsf = KNeighborsClassifier(k)\n",
    "    knn_clsf.fit(train_data, train_labels)\n",
    "    y_pred = knn_clsf.predict(dev_data)\n",
    "    accuracy = knn_clsf.score(dev_data, dev_labels)\n",
    "    return knn_clsf, accuracy"
   ]
  },
  {
   "cell_type": "code",
   "execution_count": 15,
   "metadata": {},
   "outputs": [
    {
     "name": "stdout",
     "output_type": "stream",
     "text": [
      "0.3100269707418661\n"
     ]
    }
   ],
   "source": [
    "knn_clsf, acc = do_knn(1, train_data, train_labels, dev_data, dev_labels)\n",
    "print(acc)"
   ]
  },
  {
   "cell_type": "code",
   "execution_count": 16,
   "metadata": {},
   "outputs": [
    {
     "name": "stdout",
     "output_type": "stream",
     "text": [
      "1 0.3100269707418661\n",
      "2 0.34112867433682703\n",
      "3 0.3587108668191595\n",
      "4 0.36052029633675875\n",
      "5 0.36396845447407056\n",
      "6 0.36809941620292924\n",
      "7 0.374415349424738\n",
      "8 0.3754395548120583\n",
      "9 0.37537127445290364\n"
     ]
    }
   ],
   "source": [
    "accuracies = list()\n",
    "for k in range(1, 10, 1):\n",
    "    knn_clsf, accuracy = do_knn(k, train_data, train_labels, dev_data, dev_labels)\n",
    "    print(k, accuracy)\n",
    "    accuracies.append(accuracy)"
   ]
  },
  {
   "cell_type": "code",
   "execution_count": 18,
   "metadata": {},
   "outputs": [
    {
     "name": "stdout",
     "output_type": "stream",
     "text": [
      "Best KNN is k=8 with accuracy of 37.54%\n"
     ]
    }
   ],
   "source": [
    "optimal_k = accuracies.index(max(accuracies)) + 1  # k values start at 1 but array indicies start at 0\n",
    "print('Best KNN is k={0} with accuracy of {1:.2f}%'.format(optimal_k, accuracies[optimal_k] * 100))"
   ]
  },
  {
   "cell_type": "markdown",
   "metadata": {},
   "source": [
    "# 6. Model Performance\n",
    "\n",
    "Finally, we use the optimal k value determined in Section 5 to test the performance of our model on the Test dataset."
   ]
  },
  {
   "cell_type": "code",
   "execution_count": 19,
   "metadata": {},
   "outputs": [
    {
     "name": "stdout",
     "output_type": "stream",
     "text": [
      "Model Accuracy at Exercise Classification = 0.36297838926632753\n"
     ]
    }
   ],
   "source": [
    "knn_clsf, accuracy = do_knn(optimal_k, train_data, train_labels, test_data, test_labels)\n",
    "print('Model Accuracy at Exercise Classification = {0}'.format(accuracy))"
   ]
  },
  {
   "cell_type": "markdown",
   "metadata": {},
   "source": [
    "# Summary\n",
    "\n",
    "Our group has successfully put together a pipeline where we can rapidly iterate on improving our model. The remaining time before submission will be spent analyzing, iterating, and improving our model's performance.\n",
    "\n",
    "# Next Steps\n",
    "\n",
    "- Continue analyzing the data to improve cleaning and feature engineering\n",
    "- Explore additional machine learning algorithms to determine which is best for this dataset and problem\n",
    "- Develop a more robust method of scoring performance to guide what needs to be improved in the pipeline and model\n",
    "- Apply an unsupervised algorithm for Goal #2: Lifter Segmentation\n",
    "\n",
    "# Open Questions\n",
    "\n",
    "- What model algorithm gives the best performance and why?\n",
    "- Filtering to \"Big 3\" lifts leaves us with two options for labels: 'exercise_clean' and 'exercise_clean2'. Which is better and why?\n",
    "- What's the best way to handle null values?"
   ]
  },
  {
   "cell_type": "code",
   "execution_count": null,
   "metadata": {},
   "outputs": [],
   "source": []
  }
 ],
 "metadata": {
  "kernelspec": {
   "display_name": "Python 3",
   "language": "python",
   "name": "python3"
  },
  "language_info": {
   "codemirror_mode": {
    "name": "ipython",
    "version": 3
   },
   "file_extension": ".py",
   "mimetype": "text/x-python",
   "name": "python",
   "nbconvert_exporter": "python",
   "pygments_lexer": "ipython3",
   "version": "3.6.4"
  }
 },
 "nbformat": 4,
 "nbformat_minor": 2
}
