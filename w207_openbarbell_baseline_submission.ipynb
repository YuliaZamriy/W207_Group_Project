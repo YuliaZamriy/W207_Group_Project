{
 "cells": [
  {
   "cell_type": "markdown",
   "metadata": {},
   "source": [
    "# W207 Final Project Baseline: OpenBarbell\n",
    "\n",
    "## 30 July 2018\n",
    "\n",
    "### Project Description\n",
    "\n",
    "OpenBarbell is a device that measures key lifting metrics during a lifter's workout. Example metrics are weight (user entry), peak velocity, and rep time (device captured). These metrics can be used by a lifter to better understand and improve their performance. The goal of this project is to use the data produced by OpenBarbell to add greater intelligence to the user experience.\n",
    "\n",
    "### Project Goals\n",
    "\n",
    " 1. *Exercise classification*. Exercise name is an open field (lifters can enter whatever they want or nothing at all). However, it is one of the key variables to analyze lifter performance. Hence, we would like to build an algorithm to determine exercise for each set based on its characteristics (weight, range of motion, velocity etc.)\n",
    " 2. *Lifter segmentation*. Can we create distinct groups of lifters based on their lifting characteristics for each exercise (velocity, range of motion, weight)? This would help create semi-customized training programs.\n",
    "\n",
    "### Data and Source\n",
    "\n",
    " - [OpenBarbell Data](https://github.com/squatsandsciencelabs/OpenBarbell-V3/wiki/OpenBarbell-Data-Storage-Format) - the dataset is provided by Squats and Science Barbell, no NDA is required per owner (Jordan Berke)\n",
    " - [Project GitHub Repository](https://github.com/YuliaZamriy/W207_Group_Project)\n",
    "\n",
    "### Team\n",
    " - Renzee Reyes\n",
    " - Tim Witthoefft\n",
    " - Jack Workman\n",
    " - Yulia Zamriy\n",
    " \n",
    "## Summary, Next Steps, and Open Questions at the Bottom"
   ]
  },
  {
   "cell_type": "code",
   "execution_count": 2,
   "metadata": {},
   "outputs": [
    {
     "data": {
      "text/plain": [
       "'en_US.UTF-8'"
      ]
     },
     "execution_count": 2,
     "metadata": {},
     "output_type": "execute_result"
    }
   ],
   "source": [
    "import os\n",
    "import zipfile\n",
    "import numpy as np\n",
    "import pandas as pd\n",
    "import matplotlib.pyplot as plt\n",
    "import locale\n",
    "import sys\n",
    "import itertools\n",
    "from locale import atof\n",
    "from sklearn import preprocessing\n",
    "from sklearn.neighbors import KNeighborsClassifier\n",
    "from sklearn.naive_bayes import GaussianNB\n",
    "from sklearn.model_selection import train_test_split\n",
    "from sklearn.metrics import confusion_matrix\n",
    "from sklearn.metrics import classification_report\n",
    "from sklearn.ensemble import RandomForestClassifier\n",
    "from sklearn.pipeline import Pipeline\n",
    "from sklearn.model_selection import GridSearchCV\n",
    "from sklearn.decomposition import PCA\n",
    "from sklearn import metrics\n",
    "\n",
    "from scipy.stats import mode\n",
    "\n",
    "%matplotlib inline\n",
    "\n",
    "csv_data_file = 'ob_data_w207_filtered.csv'\n",
    "zip_data_file = 'ob_data_w207_filtered.zip'\n",
    "\n",
    "locale.setlocale(locale.LC_NUMERIC, '')"
   ]
  },
  {
   "cell_type": "code",
   "execution_count": 3,
   "metadata": {},
   "outputs": [
    {
     "data": {
      "text/html": [
       "<style>.container { width:90% !important; }</style>"
      ],
      "text/plain": [
       "<IPython.core.display.HTML object>"
      ]
     },
     "metadata": {},
     "output_type": "display_data"
    }
   ],
   "source": [
    "# Jupyter viewing options\n",
    "from IPython.core.display import display, HTML\n",
    "display(HTML(\"<style>.container { width:90% !important; }</style>\"))\n",
    "pd.set_option('display.max_columns', 500)"
   ]
  },
  {
   "cell_type": "markdown",
   "metadata": {},
   "source": [
    "# 1. Import The Data\n",
    "\n",
    "The data exists as a CSV encased in a zip file. Here, we unzip if not already unzipped and load the data file with pandas.\n",
    "\n",
    "## 1.1 Note on CSV Data\n",
    "\n",
    "The CSV data imported here is modified slightly from the original data source. The original data source is in JSON and contains 'deleted' or 'removed' observations that the devices recorded but the user did not want to retain. Since we do not know why the users deleted these rows (deletion could have been an accident, the user recognized the data was incorrect, etc), we have elected to not include these in our model.\n",
    "\n",
    "Other data processing operations not seen in this notebook include:\n",
    "- filtering exercises to \"big 3\" - squat, bench press, and deadlift\n",
    "- converting certain fields from strings to datetime and numeric objects\n",
    "- handle numbers with a comma as a decimal point\n",
    "- converting 'weight' to lbs\n",
    "- some outlier processing\n",
    "\n",
    "The script used to do this pre-processing can be seen here: https://github.com/YuliaZamriy/W207_Group_Project/blob/master/OBDB_processing_v2.py\n",
    "\n",
    "## 1.2 Import"
   ]
  },
  {
   "cell_type": "code",
   "execution_count": 4,
   "metadata": {},
   "outputs": [],
   "source": [
    "df = None\n",
    "if not os.path.exists(csv_data_file) and os.path.exists(zip_data_file):\n",
    "    zip_ref = zipfile.ZipFile(zip_data_file, 'r')\n",
    "    zip_ref.extractall()\n",
    "    zip_ref.close()\n",
    "if os.path.exists(csv_data_file):\n",
    "    df = pd.read_csv(csv_data_file)\n",
    "    # -- pandas supposedly coverts '7,39' to '7.39' with decimal arg but it didn't work\n",
    "    #df = pd.read_csv(csv_data_file, decimal='.')\n",
    "else:\n",
    "    raise Exception('Data file not found! {0}'.format(csv_data_file))"
   ]
  },
  {
   "cell_type": "markdown",
   "metadata": {},
   "source": [
    "# 2. Quick EDA\n",
    "\n",
    "To ensure that the data contains no hidden surprises, we do a quick EDA."
   ]
  },
  {
   "cell_type": "markdown",
   "metadata": {},
   "source": [
    "## 2.1 Shape and Head"
   ]
  },
  {
   "cell_type": "code",
   "execution_count": 5,
   "metadata": {},
   "outputs": [
    {
     "name": "stdout",
     "output_type": "stream",
     "text": [
      "Data shape: (292910, 45)\n"
     ]
    }
   ],
   "source": [
    "print(\"Data shape: {0}\".format(df.shape))"
   ]
  },
  {
   "cell_type": "code",
   "execution_count": 6,
   "metadata": {
    "scrolled": true
   },
   "outputs": [
    {
     "data": {
      "text/html": [
       "<div>\n",
       "<style scoped>\n",
       "    .dataframe tbody tr th:only-of-type {\n",
       "        vertical-align: middle;\n",
       "    }\n",
       "\n",
       "    .dataframe tbody tr th {\n",
       "        vertical-align: top;\n",
       "    }\n",
       "\n",
       "    .dataframe thead th {\n",
       "        text-align: right;\n",
       "    }\n",
       "</style>\n",
       "<table border=\"1\" class=\"dataframe\">\n",
       "  <thead>\n",
       "    <tr style=\"text-align: right;\">\n",
       "      <th></th>\n",
       "      <th>_id</th>\n",
       "      <th>deleted</th>\n",
       "      <th>endTime</th>\n",
       "      <th>exercise</th>\n",
       "      <th>initialStartTime</th>\n",
       "      <th>metric</th>\n",
       "      <th>removed_set</th>\n",
       "      <th>rpe</th>\n",
       "      <th>setID</th>\n",
       "      <th>setNumber</th>\n",
       "      <th>startTime</th>\n",
       "      <th>tags</th>\n",
       "      <th>userID</th>\n",
       "      <th>videoFileURL</th>\n",
       "      <th>videoType</th>\n",
       "      <th>weight</th>\n",
       "      <th>workoutID</th>\n",
       "      <th>RepCount</th>\n",
       "      <th>isValid</th>\n",
       "      <th>removed_rep</th>\n",
       "      <th>hardware</th>\n",
       "      <th>appVersion</th>\n",
       "      <th>deviceName</th>\n",
       "      <th>deviceIdentifier</th>\n",
       "      <th>time</th>\n",
       "      <th>StartMessg</th>\n",
       "      <th>RepN</th>\n",
       "      <th>AvgVel</th>\n",
       "      <th>ROM</th>\n",
       "      <th>PeakVel</th>\n",
       "      <th>PeakVelLoc</th>\n",
       "      <th>StartData</th>\n",
       "      <th>RepDur</th>\n",
       "      <th>TimeBWReps</th>\n",
       "      <th>TimeRepComp</th>\n",
       "      <th>TimeRepWait</th>\n",
       "      <th>SlowAllow</th>\n",
       "      <th>Backlight</th>\n",
       "      <th>MinAllow</th>\n",
       "      <th>PeakAccel</th>\n",
       "      <th>_merge</th>\n",
       "      <th>rpe_num</th>\n",
       "      <th>weight_lbs</th>\n",
       "      <th>exercise_clean</th>\n",
       "      <th>exercise_clean2</th>\n",
       "    </tr>\n",
       "  </thead>\n",
       "  <tbody>\n",
       "    <tr>\n",
       "      <th>0</th>\n",
       "      <td>000051e0-54b2-48d8-98d2-79f65505c3e6</td>\n",
       "      <td>NaN</td>\n",
       "      <td>NaN</td>\n",
       "      <td>Bench</td>\n",
       "      <td>2018-01-03 01:29:46.904</td>\n",
       "      <td>kgs</td>\n",
       "      <td>0.0</td>\n",
       "      <td>7.5</td>\n",
       "      <td>000051e0-54b2-48d8-98d2-79f65505c3e6</td>\n",
       "      <td>3.0</td>\n",
       "      <td>NaN</td>\n",
       "      <td>[]</td>\n",
       "      <td>5a2e998b05cbc9b8ef26ac7e</td>\n",
       "      <td>assets-library://asset/asset.mov?id=CFFFFAC8-0...</td>\n",
       "      <td>lift</td>\n",
       "      <td>87.5</td>\n",
       "      <td>5bac5444-7c37-49d0-be8e-32be1a09fbb1</td>\n",
       "      <td>0.0</td>\n",
       "      <td>True</td>\n",
       "      <td>False</td>\n",
       "      <td>ios</td>\n",
       "      <td>3.2.3</td>\n",
       "      <td>OB 6666</td>\n",
       "      <td>709A15B7-B43C-AF0E-953A-6D4CEFEB4C83</td>\n",
       "      <td>2018-01-03 01:29:46.902</td>\n",
       "      <td>-3456.0</td>\n",
       "      <td>11.0</td>\n",
       "      <td>0.258460</td>\n",
       "      <td>252.0</td>\n",
       "      <td>0.308408</td>\n",
       "      <td>37.0</td>\n",
       "      <td>NaN</td>\n",
       "      <td>978699.0</td>\n",
       "      <td>0.0</td>\n",
       "      <td>1.752134e+09</td>\n",
       "      <td>0.0</td>\n",
       "      <td>130000.0</td>\n",
       "      <td>10000.0</td>\n",
       "      <td>150000.0</td>\n",
       "      <td>11.073610</td>\n",
       "      <td>both</td>\n",
       "      <td>7.5</td>\n",
       "      <td>192.90425</td>\n",
       "      <td>bench</td>\n",
       "      <td>bench</td>\n",
       "    </tr>\n",
       "    <tr>\n",
       "      <th>1</th>\n",
       "      <td>000051e0-54b2-48d8-98d2-79f65505c3e6</td>\n",
       "      <td>NaN</td>\n",
       "      <td>NaN</td>\n",
       "      <td>Bench</td>\n",
       "      <td>2018-01-03 01:29:46.904</td>\n",
       "      <td>kgs</td>\n",
       "      <td>0.0</td>\n",
       "      <td>7.5</td>\n",
       "      <td>000051e0-54b2-48d8-98d2-79f65505c3e6</td>\n",
       "      <td>3.0</td>\n",
       "      <td>NaN</td>\n",
       "      <td>[]</td>\n",
       "      <td>5a2e998b05cbc9b8ef26ac7e</td>\n",
       "      <td>assets-library://asset/asset.mov?id=CFFFFAC8-0...</td>\n",
       "      <td>lift</td>\n",
       "      <td>87.5</td>\n",
       "      <td>5bac5444-7c37-49d0-be8e-32be1a09fbb1</td>\n",
       "      <td>1.0</td>\n",
       "      <td>True</td>\n",
       "      <td>False</td>\n",
       "      <td>ios</td>\n",
       "      <td>3.2.3</td>\n",
       "      <td>OB 6666</td>\n",
       "      <td>709A15B7-B43C-AF0E-953A-6D4CEFEB4C83</td>\n",
       "      <td>2018-01-03 01:29:49.526</td>\n",
       "      <td>-3456.0</td>\n",
       "      <td>12.0</td>\n",
       "      <td>0.273285</td>\n",
       "      <td>250.0</td>\n",
       "      <td>0.368293</td>\n",
       "      <td>72.0</td>\n",
       "      <td>NaN</td>\n",
       "      <td>915894.0</td>\n",
       "      <td>0.0</td>\n",
       "      <td>1.754801e+09</td>\n",
       "      <td>0.0</td>\n",
       "      <td>130000.0</td>\n",
       "      <td>10000.0</td>\n",
       "      <td>150000.0</td>\n",
       "      <td>0.714399</td>\n",
       "      <td>both</td>\n",
       "      <td>7.5</td>\n",
       "      <td>192.90425</td>\n",
       "      <td>bench</td>\n",
       "      <td>bench</td>\n",
       "    </tr>\n",
       "    <tr>\n",
       "      <th>2</th>\n",
       "      <td>000051e0-54b2-48d8-98d2-79f65505c3e6</td>\n",
       "      <td>NaN</td>\n",
       "      <td>NaN</td>\n",
       "      <td>Bench</td>\n",
       "      <td>2018-01-03 01:29:46.904</td>\n",
       "      <td>kgs</td>\n",
       "      <td>0.0</td>\n",
       "      <td>7.5</td>\n",
       "      <td>000051e0-54b2-48d8-98d2-79f65505c3e6</td>\n",
       "      <td>3.0</td>\n",
       "      <td>NaN</td>\n",
       "      <td>[]</td>\n",
       "      <td>5a2e998b05cbc9b8ef26ac7e</td>\n",
       "      <td>assets-library://asset/asset.mov?id=CFFFFAC8-0...</td>\n",
       "      <td>lift</td>\n",
       "      <td>87.5</td>\n",
       "      <td>5bac5444-7c37-49d0-be8e-32be1a09fbb1</td>\n",
       "      <td>2.0</td>\n",
       "      <td>True</td>\n",
       "      <td>False</td>\n",
       "      <td>ios</td>\n",
       "      <td>3.2.3</td>\n",
       "      <td>OB 6666</td>\n",
       "      <td>709A15B7-B43C-AF0E-953A-6D4CEFEB4C83</td>\n",
       "      <td>2018-01-03 01:29:52.272</td>\n",
       "      <td>-3456.0</td>\n",
       "      <td>13.0</td>\n",
       "      <td>0.268205</td>\n",
       "      <td>263.0</td>\n",
       "      <td>0.378763</td>\n",
       "      <td>72.0</td>\n",
       "      <td>NaN</td>\n",
       "      <td>983460.0</td>\n",
       "      <td>0.0</td>\n",
       "      <td>1.757625e+09</td>\n",
       "      <td>0.0</td>\n",
       "      <td>130000.0</td>\n",
       "      <td>10000.0</td>\n",
       "      <td>150000.0</td>\n",
       "      <td>0.730685</td>\n",
       "      <td>both</td>\n",
       "      <td>7.5</td>\n",
       "      <td>192.90425</td>\n",
       "      <td>bench</td>\n",
       "      <td>bench</td>\n",
       "    </tr>\n",
       "    <tr>\n",
       "      <th>3</th>\n",
       "      <td>000051e0-54b2-48d8-98d2-79f65505c3e6</td>\n",
       "      <td>NaN</td>\n",
       "      <td>NaN</td>\n",
       "      <td>Bench</td>\n",
       "      <td>2018-01-03 01:29:46.904</td>\n",
       "      <td>kgs</td>\n",
       "      <td>0.0</td>\n",
       "      <td>7.5</td>\n",
       "      <td>000051e0-54b2-48d8-98d2-79f65505c3e6</td>\n",
       "      <td>3.0</td>\n",
       "      <td>NaN</td>\n",
       "      <td>[]</td>\n",
       "      <td>5a2e998b05cbc9b8ef26ac7e</td>\n",
       "      <td>assets-library://asset/asset.mov?id=CFFFFAC8-0...</td>\n",
       "      <td>lift</td>\n",
       "      <td>87.5</td>\n",
       "      <td>5bac5444-7c37-49d0-be8e-32be1a09fbb1</td>\n",
       "      <td>3.0</td>\n",
       "      <td>True</td>\n",
       "      <td>False</td>\n",
       "      <td>ios</td>\n",
       "      <td>3.2.3</td>\n",
       "      <td>OB 6666</td>\n",
       "      <td>709A15B7-B43C-AF0E-953A-6D4CEFEB4C83</td>\n",
       "      <td>2018-01-03 01:29:55.633</td>\n",
       "      <td>-3456.0</td>\n",
       "      <td>14.0</td>\n",
       "      <td>0.268338</td>\n",
       "      <td>252.0</td>\n",
       "      <td>0.392775</td>\n",
       "      <td>72.0</td>\n",
       "      <td>NaN</td>\n",
       "      <td>942963.0</td>\n",
       "      <td>0.0</td>\n",
       "      <td>1.760793e+09</td>\n",
       "      <td>0.0</td>\n",
       "      <td>130000.0</td>\n",
       "      <td>10000.0</td>\n",
       "      <td>150000.0</td>\n",
       "      <td>0.923557</td>\n",
       "      <td>both</td>\n",
       "      <td>7.5</td>\n",
       "      <td>192.90425</td>\n",
       "      <td>bench</td>\n",
       "      <td>bench</td>\n",
       "    </tr>\n",
       "    <tr>\n",
       "      <th>4</th>\n",
       "      <td>000051e0-54b2-48d8-98d2-79f65505c3e6</td>\n",
       "      <td>NaN</td>\n",
       "      <td>NaN</td>\n",
       "      <td>Bench</td>\n",
       "      <td>2018-01-03 01:29:46.904</td>\n",
       "      <td>kgs</td>\n",
       "      <td>0.0</td>\n",
       "      <td>7.5</td>\n",
       "      <td>000051e0-54b2-48d8-98d2-79f65505c3e6</td>\n",
       "      <td>3.0</td>\n",
       "      <td>NaN</td>\n",
       "      <td>[]</td>\n",
       "      <td>5a2e998b05cbc9b8ef26ac7e</td>\n",
       "      <td>assets-library://asset/asset.mov?id=CFFFFAC8-0...</td>\n",
       "      <td>lift</td>\n",
       "      <td>87.5</td>\n",
       "      <td>5bac5444-7c37-49d0-be8e-32be1a09fbb1</td>\n",
       "      <td>4.0</td>\n",
       "      <td>True</td>\n",
       "      <td>False</td>\n",
       "      <td>ios</td>\n",
       "      <td>3.2.3</td>\n",
       "      <td>OB 6666</td>\n",
       "      <td>709A15B7-B43C-AF0E-953A-6D4CEFEB4C83</td>\n",
       "      <td>2018-01-03 01:29:58.932</td>\n",
       "      <td>-3456.0</td>\n",
       "      <td>15.0</td>\n",
       "      <td>0.254381</td>\n",
       "      <td>250.0</td>\n",
       "      <td>0.389622</td>\n",
       "      <td>77.0</td>\n",
       "      <td>NaN</td>\n",
       "      <td>983978.0</td>\n",
       "      <td>0.0</td>\n",
       "      <td>1.764224e+09</td>\n",
       "      <td>0.0</td>\n",
       "      <td>130000.0</td>\n",
       "      <td>10000.0</td>\n",
       "      <td>150000.0</td>\n",
       "      <td>0.827607</td>\n",
       "      <td>both</td>\n",
       "      <td>7.5</td>\n",
       "      <td>192.90425</td>\n",
       "      <td>bench</td>\n",
       "      <td>bench</td>\n",
       "    </tr>\n",
       "  </tbody>\n",
       "</table>\n",
       "</div>"
      ],
      "text/plain": [
       "                                    _id  deleted endTime exercise  \\\n",
       "0  000051e0-54b2-48d8-98d2-79f65505c3e6      NaN     NaN    Bench   \n",
       "1  000051e0-54b2-48d8-98d2-79f65505c3e6      NaN     NaN    Bench   \n",
       "2  000051e0-54b2-48d8-98d2-79f65505c3e6      NaN     NaN    Bench   \n",
       "3  000051e0-54b2-48d8-98d2-79f65505c3e6      NaN     NaN    Bench   \n",
       "4  000051e0-54b2-48d8-98d2-79f65505c3e6      NaN     NaN    Bench   \n",
       "\n",
       "          initialStartTime metric  removed_set  rpe  \\\n",
       "0  2018-01-03 01:29:46.904    kgs          0.0  7.5   \n",
       "1  2018-01-03 01:29:46.904    kgs          0.0  7.5   \n",
       "2  2018-01-03 01:29:46.904    kgs          0.0  7.5   \n",
       "3  2018-01-03 01:29:46.904    kgs          0.0  7.5   \n",
       "4  2018-01-03 01:29:46.904    kgs          0.0  7.5   \n",
       "\n",
       "                                  setID  setNumber startTime tags  \\\n",
       "0  000051e0-54b2-48d8-98d2-79f65505c3e6        3.0       NaN   []   \n",
       "1  000051e0-54b2-48d8-98d2-79f65505c3e6        3.0       NaN   []   \n",
       "2  000051e0-54b2-48d8-98d2-79f65505c3e6        3.0       NaN   []   \n",
       "3  000051e0-54b2-48d8-98d2-79f65505c3e6        3.0       NaN   []   \n",
       "4  000051e0-54b2-48d8-98d2-79f65505c3e6        3.0       NaN   []   \n",
       "\n",
       "                     userID  \\\n",
       "0  5a2e998b05cbc9b8ef26ac7e   \n",
       "1  5a2e998b05cbc9b8ef26ac7e   \n",
       "2  5a2e998b05cbc9b8ef26ac7e   \n",
       "3  5a2e998b05cbc9b8ef26ac7e   \n",
       "4  5a2e998b05cbc9b8ef26ac7e   \n",
       "\n",
       "                                        videoFileURL videoType weight  \\\n",
       "0  assets-library://asset/asset.mov?id=CFFFFAC8-0...      lift   87.5   \n",
       "1  assets-library://asset/asset.mov?id=CFFFFAC8-0...      lift   87.5   \n",
       "2  assets-library://asset/asset.mov?id=CFFFFAC8-0...      lift   87.5   \n",
       "3  assets-library://asset/asset.mov?id=CFFFFAC8-0...      lift   87.5   \n",
       "4  assets-library://asset/asset.mov?id=CFFFFAC8-0...      lift   87.5   \n",
       "\n",
       "                              workoutID  RepCount  isValid  removed_rep  \\\n",
       "0  5bac5444-7c37-49d0-be8e-32be1a09fbb1       0.0     True        False   \n",
       "1  5bac5444-7c37-49d0-be8e-32be1a09fbb1       1.0     True        False   \n",
       "2  5bac5444-7c37-49d0-be8e-32be1a09fbb1       2.0     True        False   \n",
       "3  5bac5444-7c37-49d0-be8e-32be1a09fbb1       3.0     True        False   \n",
       "4  5bac5444-7c37-49d0-be8e-32be1a09fbb1       4.0     True        False   \n",
       "\n",
       "  hardware appVersion deviceName                      deviceIdentifier  \\\n",
       "0      ios      3.2.3    OB 6666  709A15B7-B43C-AF0E-953A-6D4CEFEB4C83   \n",
       "1      ios      3.2.3    OB 6666  709A15B7-B43C-AF0E-953A-6D4CEFEB4C83   \n",
       "2      ios      3.2.3    OB 6666  709A15B7-B43C-AF0E-953A-6D4CEFEB4C83   \n",
       "3      ios      3.2.3    OB 6666  709A15B7-B43C-AF0E-953A-6D4CEFEB4C83   \n",
       "4      ios      3.2.3    OB 6666  709A15B7-B43C-AF0E-953A-6D4CEFEB4C83   \n",
       "\n",
       "                      time  StartMessg  RepN    AvgVel    ROM   PeakVel  \\\n",
       "0  2018-01-03 01:29:46.902     -3456.0  11.0  0.258460  252.0  0.308408   \n",
       "1  2018-01-03 01:29:49.526     -3456.0  12.0  0.273285  250.0  0.368293   \n",
       "2  2018-01-03 01:29:52.272     -3456.0  13.0  0.268205  263.0  0.378763   \n",
       "3  2018-01-03 01:29:55.633     -3456.0  14.0  0.268338  252.0  0.392775   \n",
       "4  2018-01-03 01:29:58.932     -3456.0  15.0  0.254381  250.0  0.389622   \n",
       "\n",
       "   PeakVelLoc  StartData    RepDur  TimeBWReps   TimeRepComp  TimeRepWait  \\\n",
       "0        37.0        NaN  978699.0         0.0  1.752134e+09          0.0   \n",
       "1        72.0        NaN  915894.0         0.0  1.754801e+09          0.0   \n",
       "2        72.0        NaN  983460.0         0.0  1.757625e+09          0.0   \n",
       "3        72.0        NaN  942963.0         0.0  1.760793e+09          0.0   \n",
       "4        77.0        NaN  983978.0         0.0  1.764224e+09          0.0   \n",
       "\n",
       "   SlowAllow  Backlight  MinAllow  PeakAccel _merge  rpe_num  weight_lbs  \\\n",
       "0   130000.0    10000.0  150000.0  11.073610   both      7.5   192.90425   \n",
       "1   130000.0    10000.0  150000.0   0.714399   both      7.5   192.90425   \n",
       "2   130000.0    10000.0  150000.0   0.730685   both      7.5   192.90425   \n",
       "3   130000.0    10000.0  150000.0   0.923557   both      7.5   192.90425   \n",
       "4   130000.0    10000.0  150000.0   0.827607   both      7.5   192.90425   \n",
       "\n",
       "  exercise_clean exercise_clean2  \n",
       "0          bench           bench  \n",
       "1          bench           bench  \n",
       "2          bench           bench  \n",
       "3          bench           bench  \n",
       "4          bench           bench  "
      ]
     },
     "execution_count": 6,
     "metadata": {},
     "output_type": "execute_result"
    }
   ],
   "source": [
    "df.head()"
   ]
  },
  {
   "cell_type": "markdown",
   "metadata": {},
   "source": [
    "## 2.2 Check for Null Values\n",
    "\n",
    "Here we observe that there are, in fact, quite a few null values in the dataset. Prior domain knowledge tells us that most of this is because the dataset is a combination of observations from multiple versions of the OpenBarbell platform and that older versions do not support some of the newer fields:\n",
    "\n",
    " - `endTime` and `startTime` replaced by `initialStartTime` and `time` in newer versions of the app\n",
    " - `PeakAccel` has been tracked since the latest app version (and this metric has some tracking issues)\n",
    " - `weight_lbs` (cleaned version of `weight`), `rpe_num` (cleaned version of `rpe`), `tags` are user's manual entries\n",
    " - `hardware`, `appVersion`, `deviceName`, `deviceIdentifier`, and `StartData` are hardware/software specific metrics not related to lifting\n",
    " - `videoFileURL` and `videoType` are place holder for user's videos\n",
    "\n",
    "The majority of null values seen here can be safely ignored. However, some, like PeakAccel, will need to be handled. We do this in Section 3."
   ]
  },
  {
   "cell_type": "code",
   "execution_count": 7,
   "metadata": {},
   "outputs": [
    {
     "data": {
      "image/png": "[encoded data removed]",
      "text/plain": [
       "<Figure size 1332x612 with 1 Axes>"
      ]
     },
     "metadata": {},
     "output_type": "display_data"
    }
   ],
   "source": [
    "null_sums = df.isnull().sum()\n",
    "fig, ax = plt.subplots()\n",
    "fig.set_size_inches(18.5, 8.5)\n",
    "for i, null_col in enumerate(null_sums):\n",
    "    plt.bar(i, null_col)\n",
    "\n",
    "plt.title('Null Values by Column in Dataset')\n",
    "plt.xticks(list(range(len(null_sums))), null_sums.index, rotation='vertical')\n",
    "plt.show()"
   ]
  },
  {
   "cell_type": "markdown",
   "metadata": {},
   "source": [
    "## 2.3 Target label variable\n",
    "\n",
    "Our primary variable of interest is `exercise_clean`. As we can see based on table below, there are six possible values:\n",
    "\n",
    " - 3 *clean* values: **bench**, **deadlift**, **squat** where user entries for `exercise` were clean and specific \n",
    " - 3 *other* values: **bench_other**, **deadlift_other**, **squat_other** where we had to perform `exercise` preprocessing to extract exercise name (it's possible that these capture variations of 3 main lifts)"
   ]
  },
  {
   "cell_type": "code",
   "execution_count": 8,
   "metadata": {},
   "outputs": [
    {
     "data": {
      "text/html": [
       "<div>\n",
       "<style scoped>\n",
       "    .dataframe tbody tr th:only-of-type {\n",
       "        vertical-align: middle;\n",
       "    }\n",
       "\n",
       "    .dataframe tbody tr th {\n",
       "        vertical-align: top;\n",
       "    }\n",
       "\n",
       "    .dataframe thead th {\n",
       "        text-align: right;\n",
       "    }\n",
       "</style>\n",
       "<table border=\"1\" class=\"dataframe\">\n",
       "  <thead>\n",
       "    <tr style=\"text-align: right;\">\n",
       "      <th></th>\n",
       "      <th>Exercise</th>\n",
       "      <th>Row count</th>\n",
       "    </tr>\n",
       "  </thead>\n",
       "  <tbody>\n",
       "    <tr>\n",
       "      <th>0</th>\n",
       "      <td>bench</td>\n",
       "      <td>94640</td>\n",
       "    </tr>\n",
       "    <tr>\n",
       "      <th>1</th>\n",
       "      <td>bench other</td>\n",
       "      <td>35117</td>\n",
       "    </tr>\n",
       "    <tr>\n",
       "      <th>2</th>\n",
       "      <td>deadlift</td>\n",
       "      <td>35966</td>\n",
       "    </tr>\n",
       "    <tr>\n",
       "      <th>3</th>\n",
       "      <td>deadlift other</td>\n",
       "      <td>7366</td>\n",
       "    </tr>\n",
       "    <tr>\n",
       "      <th>4</th>\n",
       "      <td>squat</td>\n",
       "      <td>77680</td>\n",
       "    </tr>\n",
       "    <tr>\n",
       "      <th>5</th>\n",
       "      <td>squat other</td>\n",
       "      <td>42141</td>\n",
       "    </tr>\n",
       "  </tbody>\n",
       "</table>\n",
       "</div>"
      ],
      "text/plain": [
       "         Exercise  Row count\n",
       "0           bench      94640\n",
       "1     bench other      35117\n",
       "2        deadlift      35966\n",
       "3  deadlift other       7366\n",
       "4           squat      77680\n",
       "5     squat other      42141"
      ]
     },
     "execution_count": 8,
     "metadata": {},
     "output_type": "execute_result"
    }
   ],
   "source": [
    "def get_label_distribution(label):\n",
    "    i, j = np.unique(label, return_counts = True)\n",
    "    return pd.DataFrame({\"Exercise\": i, \"Row count\": j})\n",
    "        \n",
    "        \n",
    "get_label_distribution(df['exercise_clean'])"
   ]
  },
  {
   "cell_type": "markdown",
   "metadata": {},
   "source": [
    "## 2.4 Analysis key features \n",
    "\n",
    "We are going to focus our analysis on the following set of features:\n",
    "\n",
    "*Rep* specific:\n",
    "\n",
    " - `AvgVel`: Average velocity (m/s)\n",
    " - `ROM`: Range of motion (mm)\n",
    " - `PeakVel`: Peak Velocity (m/s) \n",
    " - `PeakVelLoc`: Peak Velocity Location (%)\n",
    " - `PeakAccel`: Peak Acceleration (potentially drop as it has tracking issues)\n",
    " - `RepDur`: Duration of Rep (microseconds)\n",
    "\n",
    "*Set* specific:\n",
    "\n",
    " - `weight_lbs`: weight (in lbs) for each set (user entry). Potentially exclude it from the analysis to reduce reliance on user inputs \n",
    "\n",
    "The following *rep* specific metrics have inconsistent data and are be dropped for now:\n",
    " - `TimeBWReps`: Time between Reps (minutes)\n",
    " - `TimeRepComp`: Timestamp of Rep Completion (microseconds)\n",
    " - `TimeRepWait`: Timestamp of time \"waiting\" in rep (microseconds)"
   ]
  },
  {
   "cell_type": "code",
   "execution_count": 9,
   "metadata": {},
   "outputs": [
    {
     "data": {
      "text/html": [
       "<div>\n",
       "<style scoped>\n",
       "    .dataframe tbody tr th:only-of-type {\n",
       "        vertical-align: middle;\n",
       "    }\n",
       "\n",
       "    .dataframe tbody tr th {\n",
       "        vertical-align: top;\n",
       "    }\n",
       "\n",
       "    .dataframe thead th {\n",
       "        text-align: right;\n",
       "    }\n",
       "</style>\n",
       "<table border=\"1\" class=\"dataframe\">\n",
       "  <thead>\n",
       "    <tr style=\"text-align: right;\">\n",
       "      <th></th>\n",
       "      <th>AvgVel</th>\n",
       "      <th>ROM</th>\n",
       "      <th>PeakVel</th>\n",
       "      <th>PeakVelLoc</th>\n",
       "      <th>RepDur</th>\n",
       "      <th>weight_lbs</th>\n",
       "    </tr>\n",
       "  </thead>\n",
       "  <tbody>\n",
       "    <tr>\n",
       "      <th>count</th>\n",
       "      <td>292891.000000</td>\n",
       "      <td>292910.000000</td>\n",
       "      <td>292910.000000</td>\n",
       "      <td>288513.000000</td>\n",
       "      <td>2.885130e+05</td>\n",
       "      <td>283142.000000</td>\n",
       "    </tr>\n",
       "    <tr>\n",
       "      <th>mean</th>\n",
       "      <td>0.479184</td>\n",
       "      <td>462.061456</td>\n",
       "      <td>0.771857</td>\n",
       "      <td>72.132299</td>\n",
       "      <td>1.102977e+06</td>\n",
       "      <td>235.271909</td>\n",
       "    </tr>\n",
       "    <tr>\n",
       "      <th>std</th>\n",
       "      <td>0.223486</td>\n",
       "      <td>157.312786</td>\n",
       "      <td>0.377337</td>\n",
       "      <td>20.038203</td>\n",
       "      <td>4.745798e+05</td>\n",
       "      <td>105.251502</td>\n",
       "    </tr>\n",
       "    <tr>\n",
       "      <th>min</th>\n",
       "      <td>0.000000</td>\n",
       "      <td>0.000000</td>\n",
       "      <td>0.000000</td>\n",
       "      <td>0.000000</td>\n",
       "      <td>0.000000e+00</td>\n",
       "      <td>0.000000</td>\n",
       "    </tr>\n",
       "    <tr>\n",
       "      <th>25%</th>\n",
       "      <td>0.320720</td>\n",
       "      <td>326.000000</td>\n",
       "      <td>0.483974</td>\n",
       "      <td>65.000000</td>\n",
       "      <td>7.656250e+05</td>\n",
       "      <td>165.000000</td>\n",
       "    </tr>\n",
       "    <tr>\n",
       "      <th>50%</th>\n",
       "      <td>0.435733</td>\n",
       "      <td>450.000000</td>\n",
       "      <td>0.718287</td>\n",
       "      <td>79.000000</td>\n",
       "      <td>1.030670e+06</td>\n",
       "      <td>225.000000</td>\n",
       "    </tr>\n",
       "    <tr>\n",
       "      <th>75%</th>\n",
       "      <td>0.591369</td>\n",
       "      <td>598.000000</td>\n",
       "      <td>0.976293</td>\n",
       "      <td>87.000000</td>\n",
       "      <td>1.363892e+06</td>\n",
       "      <td>300.000000</td>\n",
       "    </tr>\n",
       "    <tr>\n",
       "      <th>max</th>\n",
       "      <td>2.960175</td>\n",
       "      <td>1761.000000</td>\n",
       "      <td>5.560000</td>\n",
       "      <td>99.000000</td>\n",
       "      <td>1.129953e+07</td>\n",
       "      <td>1000.000000</td>\n",
       "    </tr>\n",
       "  </tbody>\n",
       "</table>\n",
       "</div>"
      ],
      "text/plain": [
       "              AvgVel            ROM        PeakVel     PeakVelLoc  \\\n",
       "count  292891.000000  292910.000000  292910.000000  288513.000000   \n",
       "mean        0.479184     462.061456       0.771857      72.132299   \n",
       "std         0.223486     157.312786       0.377337      20.038203   \n",
       "min         0.000000       0.000000       0.000000       0.000000   \n",
       "25%         0.320720     326.000000       0.483974      65.000000   \n",
       "50%         0.435733     450.000000       0.718287      79.000000   \n",
       "75%         0.591369     598.000000       0.976293      87.000000   \n",
       "max         2.960175    1761.000000       5.560000      99.000000   \n",
       "\n",
       "             RepDur     weight_lbs  \n",
       "count  2.885130e+05  283142.000000  \n",
       "mean   1.102977e+06     235.271909  \n",
       "std    4.745798e+05     105.251502  \n",
       "min    0.000000e+00       0.000000  \n",
       "25%    7.656250e+05     165.000000  \n",
       "50%    1.030670e+06     225.000000  \n",
       "75%    1.363892e+06     300.000000  \n",
       "max    1.129953e+07    1000.000000  "
      ]
     },
     "execution_count": 9,
     "metadata": {},
     "output_type": "execute_result"
    }
   ],
   "source": [
    "df[['AvgVel', 'ROM', 'PeakVel', 'PeakVelLoc', 'RepDur', 'weight_lbs']].describe()"
   ]
  },
  {
   "cell_type": "markdown",
   "metadata": {},
   "source": [
    "# 3. Clean and Feature Engineer the Data"
   ]
  },
  {
   "cell_type": "markdown",
   "metadata": {},
   "source": [
    "## 3.1 Clean the Data"
   ]
  },
  {
   "cell_type": "markdown",
   "metadata": {},
   "source": [
    "### TODO:\n",
    "\n",
    "- consider removing 'weight_lbs' from the feature list as it's user input (hence, errors) and it doesn't really define exercise..."
   ]
  },
  {
   "cell_type": "code",
   "execution_count": 10,
   "metadata": {},
   "outputs": [],
   "source": [
    "def clean_data(data, primary_label, features_to_keep, id_columns):\n",
    "    \"\"\"\n",
    "    Cleans input dataset to\n",
    "        1. keep only variables of interest\n",
    "        2. drop nans \n",
    "        3. remove outliers\n",
    "        4. split dataset into two parts (with 3 clean labels and 3 other labels)\n",
    "    \n",
    "    Args:\n",
    "        data: pandas dataframe with all input data\n",
    "        primary_label: string, target label variable name\n",
    "        features_to_keep: list of strings, feature names to keep\n",
    "        id_columns: list of strings, id names\n",
    "    \n",
    "    Returns:\n",
    "        tuple of two dataframes\n",
    "    \"\"\"\n",
    "    \n",
    "    \n",
    "    rows_before, cols_before = data.shape\n",
    "    print(f\"Dataset shape before cleaning: {data.shape}\")\n",
    "    \n",
    "    # keep only the columns we care about\n",
    "    data = data[[primary_label] + features_to_keep + id_columns]\n",
    "    \n",
    "    # drop rows with all zeros\n",
    "    # doesn't really drop any rows because there are none with all zeroes\n",
    "    # https://stackoverflow.com/questions/22649693/drop-rows-with-all-zeros-in-pandas-data-frame\n",
    "    # data.loc[(data!=0).any(1)]\n",
    "    \n",
    "    # remove rows that have 0s in at least one of the fields\n",
    "    data = data.loc[data['AvgVel'] > 0]\n",
    "    data = data.loc[data['PeakVelLoc'] > 0]\n",
    "    # 1000 was max cap value in the pre-processing step\n",
    "    data = data.loc[(data['weight_lbs'] > 0) & (data['weight_lbs'] < 1000)]\n",
    "    \n",
    "    # remove nulls\n",
    "    data = data.dropna()\n",
    "    rows_after, cols_after = data.shape\n",
    "    \n",
    "    print(f\"{rows_before-rows_after} rows and {cols_before-cols_after} features were removed\")\n",
    "    # create a dataframe with 3 clean labels (primary training data)\n",
    "    data_main = data.loc[data[primary_label].isin([\"squat\", \"bench\", \"deadlift\"])]\n",
    "    print(f\"Cleaned dataset shape with 3 clean labels: {data_main.shape}\")\n",
    "    # create a dataframe with 3 'other' labels (validation data)\n",
    "    data_other = data.loc[~data[primary_label].isin([\"squat\", \"bench\", \"deadlift\"])]\n",
    "    print(f\"Cleaned dataset shape with 3 'dirty' labels: {data_other.shape}\")\n",
    "    \n",
    "    print(\"\\nDistribution of labels in main dataset:\")\n",
    "    print(get_label_distribution(data_main[primary_label]))\n",
    "    print(\"\\nDistribution of labels in other dataset:\")\n",
    "    print(get_label_distribution(data_other[primary_label]))\n",
    "    \n",
    "    return data_main, data_other"
   ]
  },
  {
   "cell_type": "code",
   "execution_count": 11,
   "metadata": {
    "scrolled": false
   },
   "outputs": [
    {
     "name": "stdout",
     "output_type": "stream",
     "text": [
      "Dataset shape before cleaning: (292910, 45)\n",
      "14591 rows and 36 features were removed\n",
      "Cleaned dataset shape with 3 clean labels: (197798, 9)\n",
      "Cleaned dataset shape with 3 'dirty' labels: (80521, 9)\n",
      "\n",
      "Distribution of labels in main dataset:\n",
      "   Exercise  Row count\n",
      "0     bench      90323\n",
      "1  deadlift      34371\n",
      "2     squat      73104\n",
      "\n",
      "Distribution of labels in other dataset:\n",
      "         Exercise  Row count\n",
      "0     bench other      33223\n",
      "1  deadlift other       7151\n",
      "2     squat other      40147\n"
     ]
    }
   ],
   "source": [
    "features_to_keep = ['AvgVel', 'ROM', 'PeakVel', 'PeakVelLoc', 'RepDur', 'weight_lbs']\n",
    "primary_label = 'exercise_clean'\n",
    "id_columns = ['setID', 'RepCount']\n",
    "df_main, df_other = clean_data(df, primary_label, features_to_keep, id_columns)"
   ]
  },
  {
   "cell_type": "markdown",
   "metadata": {},
   "source": [
    "#### Main training dataset summary"
   ]
  },
  {
   "cell_type": "code",
   "execution_count": 12,
   "metadata": {},
   "outputs": [
    {
     "data": {
      "text/html": [
       "<div>\n",
       "<style scoped>\n",
       "    .dataframe tbody tr th:only-of-type {\n",
       "        vertical-align: middle;\n",
       "    }\n",
       "\n",
       "    .dataframe tbody tr th {\n",
       "        vertical-align: top;\n",
       "    }\n",
       "\n",
       "    .dataframe thead th {\n",
       "        text-align: right;\n",
       "    }\n",
       "</style>\n",
       "<table border=\"1\" class=\"dataframe\">\n",
       "  <thead>\n",
       "    <tr style=\"text-align: right;\">\n",
       "      <th></th>\n",
       "      <th>AvgVel</th>\n",
       "      <th>ROM</th>\n",
       "      <th>PeakVel</th>\n",
       "      <th>PeakVelLoc</th>\n",
       "      <th>RepDur</th>\n",
       "      <th>weight_lbs</th>\n",
       "      <th>RepCount</th>\n",
       "    </tr>\n",
       "  </thead>\n",
       "  <tbody>\n",
       "    <tr>\n",
       "      <th>count</th>\n",
       "      <td>197798.000000</td>\n",
       "      <td>197798.000000</td>\n",
       "      <td>197798.000000</td>\n",
       "      <td>197798.000000</td>\n",
       "      <td>1.977980e+05</td>\n",
       "      <td>197798.000000</td>\n",
       "      <td>197798.000000</td>\n",
       "    </tr>\n",
       "    <tr>\n",
       "      <th>mean</th>\n",
       "      <td>0.465278</td>\n",
       "      <td>460.925171</td>\n",
       "      <td>0.752780</td>\n",
       "      <td>72.656260</td>\n",
       "      <td>1.137029e+06</td>\n",
       "      <td>237.990527</td>\n",
       "      <td>2.540607</td>\n",
       "    </tr>\n",
       "    <tr>\n",
       "      <th>std</th>\n",
       "      <td>0.221298</td>\n",
       "      <td>156.222555</td>\n",
       "      <td>0.366865</td>\n",
       "      <td>19.809925</td>\n",
       "      <td>4.847144e+05</td>\n",
       "      <td>105.507288</td>\n",
       "      <td>3.429876</td>\n",
       "    </tr>\n",
       "    <tr>\n",
       "      <th>min</th>\n",
       "      <td>0.039064</td>\n",
       "      <td>150.000000</td>\n",
       "      <td>0.034893</td>\n",
       "      <td>6.000000</td>\n",
       "      <td>7.135000e+04</td>\n",
       "      <td>1.000000</td>\n",
       "      <td>0.000000</td>\n",
       "    </tr>\n",
       "    <tr>\n",
       "      <th>25%</th>\n",
       "      <td>0.308179</td>\n",
       "      <td>323.000000</td>\n",
       "      <td>0.467492</td>\n",
       "      <td>66.000000</td>\n",
       "      <td>7.865910e+05</td>\n",
       "      <td>165.346500</td>\n",
       "      <td>1.000000</td>\n",
       "    </tr>\n",
       "    <tr>\n",
       "      <th>50%</th>\n",
       "      <td>0.419444</td>\n",
       "      <td>440.000000</td>\n",
       "      <td>0.701238</td>\n",
       "      <td>80.000000</td>\n",
       "      <td>1.072815e+06</td>\n",
       "      <td>225.000000</td>\n",
       "      <td>2.000000</td>\n",
       "    </tr>\n",
       "    <tr>\n",
       "      <th>75%</th>\n",
       "      <td>0.572467</td>\n",
       "      <td>597.000000</td>\n",
       "      <td>0.957379</td>\n",
       "      <td>87.000000</td>\n",
       "      <td>1.410157e+06</td>\n",
       "      <td>308.646800</td>\n",
       "      <td>3.000000</td>\n",
       "    </tr>\n",
       "    <tr>\n",
       "      <th>max</th>\n",
       "      <td>2.960175</td>\n",
       "      <td>1761.000000</td>\n",
       "      <td>5.560000</td>\n",
       "      <td>99.000000</td>\n",
       "      <td>6.072204e+06</td>\n",
       "      <td>970.032800</td>\n",
       "      <td>98.000000</td>\n",
       "    </tr>\n",
       "  </tbody>\n",
       "</table>\n",
       "</div>"
      ],
      "text/plain": [
       "              AvgVel            ROM        PeakVel     PeakVelLoc  \\\n",
       "count  197798.000000  197798.000000  197798.000000  197798.000000   \n",
       "mean        0.465278     460.925171       0.752780      72.656260   \n",
       "std         0.221298     156.222555       0.366865      19.809925   \n",
       "min         0.039064     150.000000       0.034893       6.000000   \n",
       "25%         0.308179     323.000000       0.467492      66.000000   \n",
       "50%         0.419444     440.000000       0.701238      80.000000   \n",
       "75%         0.572467     597.000000       0.957379      87.000000   \n",
       "max         2.960175    1761.000000       5.560000      99.000000   \n",
       "\n",
       "             RepDur     weight_lbs       RepCount  \n",
       "count  1.977980e+05  197798.000000  197798.000000  \n",
       "mean   1.137029e+06     237.990527       2.540607  \n",
       "std    4.847144e+05     105.507288       3.429876  \n",
       "min    7.135000e+04       1.000000       0.000000  \n",
       "25%    7.865910e+05     165.346500       1.000000  \n",
       "50%    1.072815e+06     225.000000       2.000000  \n",
       "75%    1.410157e+06     308.646800       3.000000  \n",
       "max    6.072204e+06     970.032800      98.000000  "
      ]
     },
     "execution_count": 12,
     "metadata": {},
     "output_type": "execute_result"
    }
   ],
   "source": [
    "df_main.describe()"
   ]
  },
  {
   "cell_type": "markdown",
   "metadata": {},
   "source": [
    "#### Validation dataset summary"
   ]
  },
  {
   "cell_type": "code",
   "execution_count": 13,
   "metadata": {},
   "outputs": [
    {
     "data": {
      "text/html": [
       "<div>\n",
       "<style scoped>\n",
       "    .dataframe tbody tr th:only-of-type {\n",
       "        vertical-align: middle;\n",
       "    }\n",
       "\n",
       "    .dataframe tbody tr th {\n",
       "        vertical-align: top;\n",
       "    }\n",
       "\n",
       "    .dataframe thead th {\n",
       "        text-align: right;\n",
       "    }\n",
       "</style>\n",
       "<table border=\"1\" class=\"dataframe\">\n",
       "  <thead>\n",
       "    <tr style=\"text-align: right;\">\n",
       "      <th></th>\n",
       "      <th>AvgVel</th>\n",
       "      <th>ROM</th>\n",
       "      <th>PeakVel</th>\n",
       "      <th>PeakVelLoc</th>\n",
       "      <th>RepDur</th>\n",
       "      <th>weight_lbs</th>\n",
       "      <th>RepCount</th>\n",
       "    </tr>\n",
       "  </thead>\n",
       "  <tbody>\n",
       "    <tr>\n",
       "      <th>count</th>\n",
       "      <td>80521.000000</td>\n",
       "      <td>80521.000000</td>\n",
       "      <td>80521.000000</td>\n",
       "      <td>80521.000000</td>\n",
       "      <td>8.052100e+04</td>\n",
       "      <td>80521.000000</td>\n",
       "      <td>80521.000000</td>\n",
       "    </tr>\n",
       "    <tr>\n",
       "      <th>mean</th>\n",
       "      <td>0.499619</td>\n",
       "      <td>461.813353</td>\n",
       "      <td>0.792300</td>\n",
       "      <td>71.254654</td>\n",
       "      <td>1.035526e+06</td>\n",
       "      <td>225.786265</td>\n",
       "      <td>2.863328</td>\n",
       "    </tr>\n",
       "    <tr>\n",
       "      <th>std</th>\n",
       "      <td>0.215058</td>\n",
       "      <td>155.034216</td>\n",
       "      <td>0.375286</td>\n",
       "      <td>20.495366</td>\n",
       "      <td>4.378159e+05</td>\n",
       "      <td>98.325651</td>\n",
       "      <td>3.615174</td>\n",
       "    </tr>\n",
       "    <tr>\n",
       "      <th>min</th>\n",
       "      <td>0.054124</td>\n",
       "      <td>150.000000</td>\n",
       "      <td>0.020000</td>\n",
       "      <td>7.000000</td>\n",
       "      <td>1.029050e+05</td>\n",
       "      <td>0.160000</td>\n",
       "      <td>0.000000</td>\n",
       "    </tr>\n",
       "    <tr>\n",
       "      <th>25%</th>\n",
       "      <td>0.350657</td>\n",
       "      <td>334.000000</td>\n",
       "      <td>0.517039</td>\n",
       "      <td>63.000000</td>\n",
       "      <td>7.407840e+05</td>\n",
       "      <td>155.000000</td>\n",
       "      <td>1.000000</td>\n",
       "    </tr>\n",
       "    <tr>\n",
       "      <th>50%</th>\n",
       "      <td>0.465511</td>\n",
       "      <td>461.000000</td>\n",
       "      <td>0.739107</td>\n",
       "      <td>79.000000</td>\n",
       "      <td>9.586180e+05</td>\n",
       "      <td>215.000000</td>\n",
       "      <td>2.000000</td>\n",
       "    </tr>\n",
       "    <tr>\n",
       "      <th>75%</th>\n",
       "      <td>0.608149</td>\n",
       "      <td>592.000000</td>\n",
       "      <td>0.981582</td>\n",
       "      <td>86.000000</td>\n",
       "      <td>1.255585e+06</td>\n",
       "      <td>275.577500</td>\n",
       "      <td>4.000000</td>\n",
       "    </tr>\n",
       "    <tr>\n",
       "      <th>max</th>\n",
       "      <td>2.667038</td>\n",
       "      <td>1687.000000</td>\n",
       "      <td>4.740000</td>\n",
       "      <td>99.000000</td>\n",
       "      <td>1.129953e+07</td>\n",
       "      <td>970.032800</td>\n",
       "      <td>49.000000</td>\n",
       "    </tr>\n",
       "  </tbody>\n",
       "</table>\n",
       "</div>"
      ],
      "text/plain": [
       "             AvgVel           ROM       PeakVel    PeakVelLoc        RepDur  \\\n",
       "count  80521.000000  80521.000000  80521.000000  80521.000000  8.052100e+04   \n",
       "mean       0.499619    461.813353      0.792300     71.254654  1.035526e+06   \n",
       "std        0.215058    155.034216      0.375286     20.495366  4.378159e+05   \n",
       "min        0.054124    150.000000      0.020000      7.000000  1.029050e+05   \n",
       "25%        0.350657    334.000000      0.517039     63.000000  7.407840e+05   \n",
       "50%        0.465511    461.000000      0.739107     79.000000  9.586180e+05   \n",
       "75%        0.608149    592.000000      0.981582     86.000000  1.255585e+06   \n",
       "max        2.667038   1687.000000      4.740000     99.000000  1.129953e+07   \n",
       "\n",
       "         weight_lbs      RepCount  \n",
       "count  80521.000000  80521.000000  \n",
       "mean     225.786265      2.863328  \n",
       "std       98.325651      3.615174  \n",
       "min        0.160000      0.000000  \n",
       "25%      155.000000      1.000000  \n",
       "50%      215.000000      2.000000  \n",
       "75%      275.577500      4.000000  \n",
       "max      970.032800     49.000000  "
      ]
     },
     "execution_count": 13,
     "metadata": {},
     "output_type": "execute_result"
    }
   ],
   "source": [
    "df_other.describe()"
   ]
  },
  {
   "cell_type": "markdown",
   "metadata": {},
   "source": [
    "## 3.2 Factorize target variable"
   ]
  },
  {
   "cell_type": "code",
   "execution_count": 14,
   "metadata": {},
   "outputs": [
    {
     "name": "stdout",
     "output_type": "stream",
     "text": [
      "Index(['bench', 'deadlift', 'squat'], dtype='object')\n"
     ]
    },
    {
     "data": {
      "text/html": [
       "<div>\n",
       "<style scoped>\n",
       "    .dataframe tbody tr th:only-of-type {\n",
       "        vertical-align: middle;\n",
       "    }\n",
       "\n",
       "    .dataframe tbody tr th {\n",
       "        vertical-align: top;\n",
       "    }\n",
       "\n",
       "    .dataframe thead th {\n",
       "        text-align: right;\n",
       "    }\n",
       "</style>\n",
       "<table border=\"1\" class=\"dataframe\">\n",
       "  <thead>\n",
       "    <tr style=\"text-align: right;\">\n",
       "      <th></th>\n",
       "      <th>Exercise</th>\n",
       "      <th>Row count</th>\n",
       "    </tr>\n",
       "  </thead>\n",
       "  <tbody>\n",
       "    <tr>\n",
       "      <th>0</th>\n",
       "      <td>0</td>\n",
       "      <td>90323</td>\n",
       "    </tr>\n",
       "    <tr>\n",
       "      <th>1</th>\n",
       "      <td>1</td>\n",
       "      <td>34371</td>\n",
       "    </tr>\n",
       "    <tr>\n",
       "      <th>2</th>\n",
       "      <td>2</td>\n",
       "      <td>73104</td>\n",
       "    </tr>\n",
       "  </tbody>\n",
       "</table>\n",
       "</div>"
      ],
      "text/plain": [
       "   Exercise  Row count\n",
       "0         0      90323\n",
       "1         1      34371\n",
       "2         2      73104"
      ]
     },
     "execution_count": 14,
     "metadata": {},
     "output_type": "execute_result"
    }
   ],
   "source": [
    "def factorize_label(label):\n",
    "    \"\"\"\n",
    "    Factorizes string variable\n",
    "    \n",
    "    Args:\n",
    "        label: array of string labels\n",
    "    \n",
    "    Returns:\n",
    "        tuple: (array of numeric labels, list of unique label names) \n",
    "    \"\"\"\n",
    "    \n",
    "    return pd.factorize(label, sort=True)\n",
    "\n",
    "\n",
    "# creating primary target label array\n",
    "labels_main_num, labels_main_names = factorize_label(df_main[primary_label])\n",
    "print(labels_main_names)\n",
    "get_label_distribution(labels_main_num)"
   ]
  },
  {
   "cell_type": "code",
   "execution_count": 15,
   "metadata": {},
   "outputs": [
    {
     "name": "stdout",
     "output_type": "stream",
     "text": [
      "Index(['bench other', 'deadlift other', 'squat other'], dtype='object')\n"
     ]
    },
    {
     "data": {
      "text/html": [
       "<div>\n",
       "<style scoped>\n",
       "    .dataframe tbody tr th:only-of-type {\n",
       "        vertical-align: middle;\n",
       "    }\n",
       "\n",
       "    .dataframe tbody tr th {\n",
       "        vertical-align: top;\n",
       "    }\n",
       "\n",
       "    .dataframe thead th {\n",
       "        text-align: right;\n",
       "    }\n",
       "</style>\n",
       "<table border=\"1\" class=\"dataframe\">\n",
       "  <thead>\n",
       "    <tr style=\"text-align: right;\">\n",
       "      <th></th>\n",
       "      <th>Exercise</th>\n",
       "      <th>Row count</th>\n",
       "    </tr>\n",
       "  </thead>\n",
       "  <tbody>\n",
       "    <tr>\n",
       "      <th>0</th>\n",
       "      <td>0</td>\n",
       "      <td>33223</td>\n",
       "    </tr>\n",
       "    <tr>\n",
       "      <th>1</th>\n",
       "      <td>1</td>\n",
       "      <td>7151</td>\n",
       "    </tr>\n",
       "    <tr>\n",
       "      <th>2</th>\n",
       "      <td>2</td>\n",
       "      <td>40147</td>\n",
       "    </tr>\n",
       "  </tbody>\n",
       "</table>\n",
       "</div>"
      ],
      "text/plain": [
       "   Exercise  Row count\n",
       "0         0      33223\n",
       "1         1       7151\n",
       "2         2      40147"
      ]
     },
     "execution_count": 15,
     "metadata": {},
     "output_type": "execute_result"
    }
   ],
   "source": [
    "# creating validation target label array\n",
    "labels_other_num, labels_other_names = factorize_label(df_other[primary_label])\n",
    "print(labels_other_names)\n",
    "get_label_distribution(labels_other_num)"
   ]
  },
  {
   "cell_type": "markdown",
   "metadata": {},
   "source": [
    "## 3.3 Feature Engineering\n",
    "\n",
    "Todo!"
   ]
  },
  {
   "cell_type": "code",
   "execution_count": 16,
   "metadata": {},
   "outputs": [],
   "source": [
    "def feature_engineer_data(data):\n",
    "    # todo\n",
    "    return data"
   ]
  },
  {
   "cell_type": "markdown",
   "metadata": {},
   "source": [
    "#### Remove target and id variables from feature dataset"
   ]
  },
  {
   "cell_type": "code",
   "execution_count": 17,
   "metadata": {},
   "outputs": [],
   "source": [
    "df_main = df_main.drop(primary_label, axis=1)\n",
    "df_other = df_other.drop(primary_label, axis=1)"
   ]
  },
  {
   "cell_type": "markdown",
   "metadata": {},
   "source": [
    "# 4. Separate Data Into Train, Dev, & Test Sets\n",
    "\n",
    "For this project, we are splitting the dataset into the following three categories:\n",
    "1. Train - 80%\n",
    "2. Dev - 10%\n",
    "3. Test - 10%\n",
    "\n",
    "Train will be used to train the model. We will use Dev to test our pipeline and model modifications. We will use Test as a final checkpoint of model performance.\n"
   ]
  },
  {
   "cell_type": "markdown",
   "metadata": {},
   "source": [
    "## 4.1 Shuffle main dataset"
   ]
  },
  {
   "cell_type": "markdown",
   "metadata": {},
   "source": [
    "### TODO: do we need this step given that partition_data (see below) also does random split?"
   ]
  },
  {
   "cell_type": "code",
   "execution_count": 18,
   "metadata": {},
   "outputs": [
    {
     "name": "stdout",
     "output_type": "stream",
     "text": [
      "data shape:  (197798, 8)\n",
      "label numeric shape: (197798,)\n"
     ]
    }
   ],
   "source": [
    "# Shuffle the input: create a random permutation of the integers between 0 \n",
    "# and the number of data points and apply this permutation to features and targets\n",
    "# NOTE: Set random seed to ensure replication of the process\n",
    "np.random.seed(10)\n",
    "shuffle = np.random.permutation(np.arange(df_main.shape[0]))\n",
    "df_main, labels_main_num = df_main.iloc[shuffle], labels_main_num[shuffle]\n",
    "\n",
    "print('data shape: ', df_main.shape)\n",
    "print('label numeric shape:', labels_main_num.shape)"
   ]
  },
  {
   "cell_type": "markdown",
   "metadata": {},
   "source": [
    "## 4.2 Partition main dataset"
   ]
  },
  {
   "cell_type": "markdown",
   "metadata": {},
   "source": [
    "### TODO:\n",
    "\n",
    "- Unique idenitifiers: `setID` and `RepCount`. Should we split dataset by `setID` so that reps that belong to the same set get into the same split?"
   ]
  },
  {
   "cell_type": "code",
   "execution_count": 19,
   "metadata": {},
   "outputs": [
    {
     "name": "stdout",
     "output_type": "stream",
     "text": [
      "Dev data & labels shapes: (19780, 8), (19780,)\n",
      "Test data & labels shapes: (19780, 8), (19780,)\n",
      "Train data & labels shapes: (158238, 8), (158238,)\n"
     ]
    }
   ],
   "source": [
    "def partition_data(data, labels, dev_pct, test_pct, seed):\n",
    "    \"\"\"\n",
    "    Partitions input dataset into training, development and testing \n",
    "    \n",
    "    Args:\n",
    "        data: feature dataset\n",
    "        labels: array of target labels\n",
    "        dev_pct: float, percent of data to allocate to development\n",
    "        test_pct: float, percent of data to allocate to testing\n",
    "        seed: int, random seed\n",
    "        \n",
    "    Returns:\n",
    "        6-tuple with 3 feature datasets and 3 target label arrays\n",
    "    \"\"\"\n",
    "    \n",
    "    \n",
    "    train_data, nontrain_data, train_labels, nontrain_labels = train_test_split(data\n",
    "                                                                                , labels\n",
    "                                                                                , test_size=dev_pct + test_pct\n",
    "                                                                                , random_state=seed)\n",
    "    \n",
    "    test_data, dev_data, test_labels, dev_labels = train_test_split(nontrain_data\n",
    "                                                                    , nontrain_labels\n",
    "                                                                    , test_size=dev_pct/(dev_pct + test_pct)\n",
    "                                                                    , random_state=seed)\n",
    "    \n",
    "    return train_data, test_data, dev_data, train_labels, test_labels, dev_labels\n",
    "\n",
    "\n",
    "train_data, test_data, dev_data, train_labels, test_labels, dev_labels = partition_data(df_main, labels_main_num, .1, .1, 5)\n",
    "\n",
    "print(f'Dev data & labels shapes: {dev_data.shape}, {dev_labels.shape}')\n",
    "print(f'Test data & labels shapes: {test_data.shape}, {test_labels.shape}')\n",
    "print(f'Train data & labels shapes: {train_data.shape}, {train_labels.shape}')"
   ]
  },
  {
   "cell_type": "markdown",
   "metadata": {},
   "source": [
    "## 4.3 Standardize training dataset"
   ]
  },
  {
   "cell_type": "code",
   "execution_count": 20,
   "metadata": {},
   "outputs": [
    {
     "name": "stdout",
     "output_type": "stream",
     "text": [
      "\n",
      "Means of standardized features: [ 0. -0. -0.  0.  0. -0.]\n",
      "STDV of transform features: [ 1.  1.  1.  1.  1.  1.]\n",
      "\n",
      "Means of standardized features: [-0.  0.  0. -0.  0.  0.]\n",
      "STDV of transform features: [ 0.99  1.    0.99  1.    1.    1.01]\n",
      "\n",
      "Means of standardized features: [-0.   -0.01 -0.   -0.01 -0.01 -0.  ]\n",
      "STDV of transform features: [ 1.    0.99  0.99  1.01  0.99  1.  ]\n",
      "\n",
      "Means of standardized features: [ 0.15  0.01  0.11 -0.07 -0.21 -0.12]\n",
      "STDV of transform features: [ 0.97  0.99  1.02  1.04  0.9   0.93]\n"
     ]
    }
   ],
   "source": [
    "def standardize_data(data_fit, data_transform):\n",
    "    \"\"\"\n",
    "    Standardize input dataset and apply it to the second input dataset\n",
    "    \n",
    "    Args:\n",
    "        data_fit: feature dataset used to fit standardization\n",
    "        data_transform: feature dataset to apply standardization to\n",
    "    \n",
    "    Returns:\n",
    "        standardized dataset\n",
    "    \"\"\"\n",
    "    \n",
    "    scaler = preprocessing.StandardScaler().fit(data_fit)\n",
    "    data_std = scaler.transform(data_transform)\n",
    "    print(f\"\\nMeans of standardized features: {np.around(np.mean(data_std, axis = 0),2)}\")\n",
    "    print(f\"STDV of transform features: {np.around(np.std(data_std, axis = 0),2)}\")\n",
    "    return data_std\n",
    "\n",
    "\n",
    "# first need to remove id columns since they are not features\n",
    "train_data_noids = train_data.drop(id_columns, axis = 1)\n",
    "dev_data_noids = dev_data.drop(id_columns, axis = 1)\n",
    "test_data_noids = test_data.drop(id_columns, axis = 1)\n",
    "df_other_noids = df_other.drop(id_columns, axis = 1)\n",
    "train_data_std = standardize_data(train_data_noids, train_data_noids)\n",
    "dev_data_std = standardize_data(train_data_noids, dev_data_noids)\n",
    "test_data_std = standardize_data(train_data_noids, test_data_noids)\n",
    "df_other_std = standardize_data(train_data_noids, df_other_noids)"
   ]
  },
  {
   "cell_type": "markdown",
   "metadata": {},
   "source": [
    "# 5. Train and Test the Model"
   ]
  },
  {
   "cell_type": "markdown",
   "metadata": {},
   "source": [
    "## 5.1 Define general function for classfication"
   ]
  },
  {
   "cell_type": "markdown",
   "metadata": {},
   "source": [
    "### TODO:\n",
    "\n",
    " - adjust `argv` to make it more general"
   ]
  },
  {
   "cell_type": "code",
   "execution_count": 21,
   "metadata": {},
   "outputs": [],
   "source": [
    "def make_classifier(classifier, train, train_labs, dev, dev_labs, lab_names, printout, *argv):\n",
    "    \n",
    "    \n",
    "    if argv:\n",
    "        clsf = classifier(argv[0])\n",
    "        print(f\"\\nResults for key parameter value = {argv[0]}\")\n",
    "    else:\n",
    "        clsf = classifier()\n",
    "    clsf.fit(train, train_labs)\n",
    "    pred_labs = clsf.predict(dev)\n",
    "    print(f\"Accuracy on non-training data: {clsf.score(dev, dev_labs)*100:.2f}%\")\n",
    "    \n",
    "    if printout == True:\n",
    "        get_performance(dev_labs, pred_labs, lab_names)\n",
    "    \n",
    "    return pred_labs"
   ]
  },
  {
   "cell_type": "code",
   "execution_count": 22,
   "metadata": {},
   "outputs": [],
   "source": [
    "# borrowed from scikit learn tutorial\n",
    "# http://scikit-learn.org/stable/auto_examples/model_selection/plot_confusion_matrix.html#sphx-glr-auto-examples-model-selection-plot-confusion-matrix-py\n",
    "\n",
    "np.set_printoptions(precision=2)\n",
    "\n",
    "def plot_confusion_matrix(true_labs, pred_labs,\n",
    "                          lab_names,\n",
    "                          normalize=False,\n",
    "                          title='Confusion matrix',\n",
    "                          cmap=plt.cm.Blues):\n",
    "    \"\"\"\n",
    "    This function prints and plots the confusion matrix.\n",
    "    Normalization can be applied by setting `normalize=True`.\n",
    "    \"\"\"\n",
    "    \n",
    "    cm = confusion_matrix(true_labs, pred_labs)\n",
    "    if normalize:\n",
    "        cm = cm.astype('float') / cm.sum(axis=1)[:, np.newaxis]\n",
    "    \n",
    "    plt.figure()\n",
    "    plt.imshow(cm, interpolation='nearest', cmap=cmap)\n",
    "    plt.title(title)\n",
    "    plt.colorbar()\n",
    "    tick_marks = np.arange(len(lab_names))\n",
    "    plt.xticks(tick_marks, lab_names, rotation=45)\n",
    "    plt.yticks(tick_marks, lab_names)\n",
    "\n",
    "    fmt = '.2f' if normalize else 'd'\n",
    "    thresh = cm.max() / 2.\n",
    "    for i, j in itertools.product(range(cm.shape[0]), range(cm.shape[1])):\n",
    "        plt.text(j, i, format(cm[i, j], fmt),\n",
    "                 horizontalalignment=\"center\",\n",
    "                 color=\"white\" if cm[i, j] > thresh else \"black\")\n",
    "\n",
    "    plt.tight_layout()\n",
    "    plt.ylabel('True label')\n",
    "    plt.xlabel('Predicted label')\n",
    "    plt.show()"
   ]
  },
  {
   "cell_type": "code",
   "execution_count": 23,
   "metadata": {},
   "outputs": [],
   "source": [
    "def get_performance(true_labs, pred_labs, lab_names):\n",
    "\n",
    "    print(\"=\"*50)\n",
    "    print(\"Classification report by exercise:\")\n",
    "    print(classification_report(true_labs, pred_labs, target_names=lab_names))\n",
    "    print(\"=\"*50)\n",
    "    print(\"Confusion matrix:\")\n",
    "    print(pd.DataFrame(confusion_matrix(true_labs, pred_labs), columns=lab_names, index=lab_names))\n",
    "    plot_confusion_matrix(true_labs, pred_labs, lab_names, normalize=True, title='Normalized Confusion Matrix')"
   ]
  },
  {
   "cell_type": "markdown",
   "metadata": {},
   "source": [
    "## 5.2 KNN\n",
    "\n",
    "**Key findings**:\n",
    "\n",
    " - It appears that k value doesn't really matter\n",
    " - Validates well on development dataset with clean labels\n",
    " - Drops 10 points in accuracy on other data\n",
    " - Deadlift classification is an issue, especially on the \"other\" data"
   ]
  },
  {
   "cell_type": "markdown",
   "metadata": {},
   "source": [
    "### 5.2.1 What k to use?"
   ]
  },
  {
   "cell_type": "code",
   "execution_count": 24,
   "metadata": {},
   "outputs": [
    {
     "name": "stdout",
     "output_type": "stream",
     "text": [
      "\n",
      "Results for key parameter value = 1\n",
      "Accuracy on non-training data: 94.95%\n",
      "\n",
      "Results for key parameter value = 2\n",
      "Accuracy on non-training data: 94.68%\n",
      "\n",
      "Results for key parameter value = 3\n",
      "Accuracy on non-training data: 95.45%\n",
      "\n",
      "Results for key parameter value = 4\n",
      "Accuracy on non-training data: 95.35%\n",
      "\n",
      "Results for key parameter value = 5\n",
      "Accuracy on non-training data: 95.62%\n",
      "\n",
      "Results for key parameter value = 6\n",
      "Accuracy on non-training data: 95.55%\n",
      "\n",
      "Results for key parameter value = 7\n",
      "Accuracy on non-training data: 95.65%\n",
      "\n",
      "Results for key parameter value = 8\n",
      "Accuracy on non-training data: 95.58%\n",
      "\n",
      "Results for key parameter value = 9\n",
      "Accuracy on non-training data: 95.56%\n",
      "\n",
      "Results for key parameter value = 10\n",
      "Accuracy on non-training data: 95.49%\n"
     ]
    }
   ],
   "source": [
    "for k in range(1, 11):\n",
    "    make_classifier(KNeighborsClassifier, train_data_std, train_labels, dev_data_std, dev_labels, labels_main_names, False, k)"
   ]
  },
  {
   "cell_type": "markdown",
   "metadata": {},
   "source": [
    "### 5.2.2 Train the model with k = 1"
   ]
  },
  {
   "cell_type": "code",
   "execution_count": 25,
   "metadata": {},
   "outputs": [
    {
     "name": "stdout",
     "output_type": "stream",
     "text": [
      "\n",
      "Results for key parameter value = 1\n",
      "Accuracy on non-training data: 94.95%\n",
      "==================================================\n",
      "Classification report by exercise:\n",
      "             precision    recall  f1-score   support\n",
      "\n",
      "      bench       0.98      0.98      0.98      9003\n",
      "   deadlift       0.89      0.88      0.89      3430\n",
      "      squat       0.94      0.94      0.94      7347\n",
      "\n",
      "avg / total       0.95      0.95      0.95     19780\n",
      "\n",
      "==================================================\n",
      "Confusion matrix:\n",
      "          bench  deadlift  squat\n",
      "bench      8830        65    108\n",
      "deadlift     85      3033    312\n",
      "squat       122       306   6919\n"
     ]
    },
    {
     "data": {
      "image/png": "[encoded data removed]",
      "text/plain": [
       "<Figure size 432x288 with 2 Axes>"
      ]
     },
     "metadata": {},
     "output_type": "display_data"
    }
   ],
   "source": [
    "knn_dev_prediciton = make_classifier(KNeighborsClassifier, train_data_std, train_labels, dev_data_std, dev_labels, labels_main_names, True, 1)"
   ]
  },
  {
   "cell_type": "markdown",
   "metadata": {},
   "source": [
    "### 5.2.3 Check performance on \"other\" labels"
   ]
  },
  {
   "cell_type": "code",
   "execution_count": 26,
   "metadata": {},
   "outputs": [
    {
     "name": "stdout",
     "output_type": "stream",
     "text": [
      "\n",
      "Results for key parameter value = 1\n",
      "Accuracy on non-training data: 85.13%\n",
      "==================================================\n",
      "Classification report by exercise:\n",
      "                precision    recall  f1-score   support\n",
      "\n",
      "   bench other       0.90      0.95      0.92     33223\n",
      "deadlift other       0.47      0.72      0.57      7151\n",
      "   squat other       0.92      0.79      0.85     40147\n",
      "\n",
      "   avg / total       0.87      0.85      0.86     80521\n",
      "\n",
      "==================================================\n",
      "Confusion matrix:\n",
      "                bench other  deadlift other  squat other\n",
      "bench other           31607             531         1085\n",
      "deadlift other          345            5147         1659\n",
      "squat other            3193            5160        31794\n"
     ]
    },
    {
     "data": {
      "image/png": "[encoded data removed]",
      "text/plain": [
       "<Figure size 432x288 with 2 Axes>"
      ]
     },
     "metadata": {},
     "output_type": "display_data"
    }
   ],
   "source": [
    "knn_other_prediction = make_classifier(KNeighborsClassifier, train_data_std, train_labels, df_other_std, labels_other_num, labels_other_names, True, 1)"
   ]
  },
  {
   "cell_type": "markdown",
   "metadata": {},
   "source": [
    "## 5.3 Gaussian NB\n",
    "\n",
    "**Key findings**:\n",
    "\n",
    " - Lower accuracy of development data compared to KNN\n",
    " - Poor performance for deadlift classification\n",
    " - No drop in accuracy on \"other\" data (same accuracy as in KNN)\n",
    " - But dealift accuracy is still lagging"
   ]
  },
  {
   "cell_type": "markdown",
   "metadata": {},
   "source": [
    "### 5.3.1 Model without any customization and validate on development data"
   ]
  },
  {
   "cell_type": "code",
   "execution_count": 27,
   "metadata": {},
   "outputs": [
    {
     "name": "stdout",
     "output_type": "stream",
     "text": [
      "Accuracy on non-training data: 87.32%\n",
      "==================================================\n",
      "Classification report by exercise:\n",
      "             precision    recall  f1-score   support\n",
      "\n",
      "      bench       0.92      0.97      0.94      9003\n",
      "   deadlift       0.85      0.53      0.65      3430\n",
      "      squat       0.82      0.92      0.87      7347\n",
      "\n",
      "avg / total       0.87      0.87      0.87     19780\n",
      "\n",
      "==================================================\n",
      "Confusion matrix:\n",
      "          bench  deadlift  squat\n",
      "bench      8690        49    264\n",
      "deadlift    433      1817   1180\n",
      "squat       317       266   6764\n"
     ]
    },
    {
     "data": {
      "image/png": "[encoded data removed]",
      "text/plain": [
       "<Figure size 432x288 with 2 Axes>"
      ]
     },
     "metadata": {},
     "output_type": "display_data"
    }
   ],
   "source": [
    "gnb_dev_predictions = make_classifier(GaussianNB, train_data_std, train_labels, dev_data_std, dev_labels, labels_main_names, True)"
   ]
  },
  {
   "cell_type": "markdown",
   "metadata": {},
   "source": [
    "### 5.3.2 Model performance on \"other\" labels"
   ]
  },
  {
   "cell_type": "code",
   "execution_count": 28,
   "metadata": {},
   "outputs": [
    {
     "name": "stdout",
     "output_type": "stream",
     "text": [
      "Accuracy on non-training data: 87.10%\n",
      "==================================================\n",
      "Classification report by exercise:\n",
      "                precision    recall  f1-score   support\n",
      "\n",
      "   bench other       0.90      0.97      0.93     33223\n",
      "deadlift other       0.54      0.74      0.62      7151\n",
      "   squat other       0.94      0.81      0.87     40147\n",
      "\n",
      "   avg / total       0.89      0.87      0.87     80521\n",
      "\n",
      "==================================================\n",
      "Confusion matrix:\n",
      "                bench other  deadlift other  squat other\n",
      "bench other           32259             304          660\n",
      "deadlift other          342            5281         1528\n",
      "squat other            3297            4257        32593\n"
     ]
    },
    {
     "data": {
      "image/png": "[encoded data removed]",
      "text/plain": [
       "<Figure size 432x288 with 2 Axes>"
      ]
     },
     "metadata": {},
     "output_type": "display_data"
    }
   ],
   "source": [
    "gnb_other_prediction = make_classifier(KNeighborsClassifier, train_data_std, train_labels, df_other_std, labels_other_num, labels_other_names, True)"
   ]
  },
  {
   "cell_type": "markdown",
   "metadata": {},
   "source": [
    "## 5.4 Decision Trees"
   ]
  },
  {
   "cell_type": "markdown",
   "metadata": {},
   "source": [
    "### 5.4.1 Model formation"
   ]
  },
  {
   "cell_type": "markdown",
   "metadata": {},
   "source": [
    "**Key findings**:\n",
    "\n",
    " - Good model performance on development data\n",
    " - Deadlift classification again is lagging in accuracy\n",
    " - Most of the confusion is between squat and deadlift"
   ]
  },
  {
   "cell_type": "markdown",
   "metadata": {},
   "source": [
    "Internal notes on code modifications:\n",
    "\n",
    " - removed `imputer` from the pipeline because we have already preprocessed the data\n",
    " - removed `PCA` because we don't have that many features\n",
    " - switched to `accuracy` instead of `f1` to remain consistent with the rest of the dataset\n",
    " - removed `classes` because `labels_main_names` captures the same labels"
   ]
  },
  {
   "cell_type": "markdown",
   "metadata": {},
   "source": [
    "### TODO:\n",
    "\n",
    " - We've already scaled the data above. Should we (1) incorporate `pipeline` for the above classification methods? or (2) remove it from here and replace with `make_classifier` function?\n",
    " - Output best parameter for random forest"
   ]
  },
  {
   "cell_type": "code",
   "execution_count": 29,
   "metadata": {},
   "outputs": [],
   "source": [
    "pipeline = Pipeline(steps=[\n",
    "    ('scale', preprocessing.StandardScaler()),\n",
    "    ('randomforest', RandomForestClassifier())])\n",
    "\n",
    "parameters = {\n",
    "    \"randomforest__n_estimators\":[2,4,6,8],\n",
    "}\n",
    "\n",
    "accuracy = metrics.make_scorer(metrics.accuracy_score)\n",
    "grid_search = GridSearchCV(pipeline, parameters, scoring=accuracy)\n",
    "grid_search.fit(train_data_noids, train_labels)\n",
    "rf_dev_predictions = grid_search.predict(dev_data_noids)"
   ]
  },
  {
   "cell_type": "markdown",
   "metadata": {},
   "source": [
    "### 5.4.2 Model evaluation on development data"
   ]
  },
  {
   "cell_type": "code",
   "execution_count": 30,
   "metadata": {
    "scrolled": false
   },
   "outputs": [
    {
     "name": "stdout",
     "output_type": "stream",
     "text": [
      "Accuracy on development data: 95.30%\n",
      "==================================================\n",
      "Classification report by exercise:\n",
      "             precision    recall  f1-score   support\n",
      "\n",
      "      bench       0.97      0.99      0.98      9003\n",
      "   deadlift       0.90      0.89      0.89      3430\n",
      "      squat       0.95      0.94      0.95      7347\n",
      "\n",
      "avg / total       0.95      0.95      0.95     19780\n",
      "\n",
      "==================================================\n",
      "Confusion matrix:\n",
      "          bench  deadlift  squat\n",
      "bench      8898        45     60\n",
      "deadlift    110      3051    269\n",
      "squat       138       307   6902\n"
     ]
    },
    {
     "data": {
      "image/png": "[encoded data removed]",
      "text/plain": [
       "<Figure size 432x288 with 2 Axes>"
      ]
     },
     "metadata": {},
     "output_type": "display_data"
    }
   ],
   "source": [
    "print(f\"Accuracy on development data: {grid_search.score(dev_data_noids, dev_labels)*100:.2f}%\")\n",
    "get_performance(dev_labels, rf_dev_predictions, labels_main_names)"
   ]
  },
  {
   "cell_type": "markdown",
   "metadata": {},
   "source": [
    "### 5.4.3 Model performance on \"other\" labels"
   ]
  },
  {
   "cell_type": "code",
   "execution_count": 31,
   "metadata": {},
   "outputs": [
    {
     "name": "stdout",
     "output_type": "stream",
     "text": [
      "Accuracy on testing data: 87.06%\n",
      "==================================================\n",
      "Classification report by exercise:\n",
      "                precision    recall  f1-score   support\n",
      "\n",
      "   bench other       0.89      0.98      0.93     33223\n",
      "deadlift other       0.54      0.73      0.62      7151\n",
      "   squat other       0.94      0.81      0.87     40147\n",
      "\n",
      "   avg / total       0.88      0.87      0.87     80521\n",
      "\n",
      "==================================================\n",
      "Confusion matrix:\n",
      "                bench other  deadlift other  squat other\n",
      "bench other           32436             251          536\n",
      "deadlift other          401            5242         1508\n",
      "squat other            3565            4161        32421\n"
     ]
    },
    {
     "data": {
      "image/png": "[encoded data removed]",
      "text/plain": [
       "<Figure size 432x288 with 2 Axes>"
      ]
     },
     "metadata": {},
     "output_type": "display_data"
    }
   ],
   "source": [
    "rf_other_predictions = grid_search.predict(df_other_noids)\n",
    "print(f\"Accuracy on testing data: {grid_search.score(df_other_noids, labels_other_num)*100:.2f}%\")\n",
    "get_performance(labels_other_num, rf_other_predictions, labels_other_names)"
   ]
  },
  {
   "cell_type": "markdown",
   "metadata": {},
   "source": [
    "# 6. Post-Model Custom Logic\n",
    "\n",
    "As well as optimizing model hyper-parameters, we can also apply custom logic after the final classification. For example, we can implement custom ensemble logic, similar to the random forest algorithm, to ensure reps within the same set are classified similarly."
   ]
  },
  {
   "cell_type": "markdown",
   "metadata": {},
   "source": [
    "### TODO: \n",
    " \n",
    " - modify the below function to accept two ID columns (setID and RepCount)"
   ]
  },
  {
   "cell_type": "code",
   "execution_count": 32,
   "metadata": {},
   "outputs": [],
   "source": [
    "def set_ensemble_consensus(predictions, set_ids):\n",
    "    consensus_pred = predictions\n",
    "    \n",
    "    for i, setID in enumerate(set_ids):\n",
    "        set_ix = [i for i in range(len(set_ids)) if set_ids[i] == setID]\n",
    "        set_pred_mode = mode(consensus_pred[set_ix])[0][0]\n",
    "        consensus_pred[i] = set_pred_mode\n",
    "        \n",
    "    return consensus_pred\n",
    "\n",
    "\n",
    "# consensus_pred = set_ensemble_consensus(knn_test_prediciton, test_data['setID'].tolist())\n",
    "# correct_ct = 0\n",
    "# for i, prediction in enumerate(consensus_pred):\n",
    "#     if prediction == test_labels.iloc[i]:\n",
    "#         correct_ct += 1\n",
    "    \n",
    "# print(\"Ensemble Accuracy: \", correct_ct / test_labels.size)"
   ]
  },
  {
   "cell_type": "markdown",
   "metadata": {},
   "source": [
    "# Summary\n",
    "\n",
    "Our group has successfully put together a pipeline where we can rapidly iterate on improving our model. The remaining time before submission will be spent analyzing, iterating, and improving our model's performance.\n",
    "\n",
    "# Next Steps\n",
    "\n",
    "- Continue analyzing the data to improve cleaning and feature engineering\n",
    "- Explore the reasons for poor deadlift classification\n",
    "- Explore additional machine learning algorithms to determine which is best for this dataset and problem\n",
    "- Develop a more robust method of scoring performance to guide what needs to be improved in the pipeline and model\n",
    "- Apply ensemble logic to selected algorithms\n",
    "- Apply an unsupervised algorithm for Goal #2: Lifter Segmentation\n",
    "\n",
    "# Open Questions\n",
    "\n",
    "- What model algorithm gives the best performance and why?\n",
    "- Do we need to build a separate model for Big 3 lifts with \"other\" label? \n",
    "- What's the best way to handle null values? \n",
    "- How should we treat outliers?"
   ]
  }
 ],
 "metadata": {
  "kernelspec": {
   "display_name": "Python 3",
   "language": "python",
   "name": "python3"
  },
  "language_info": {
   "codemirror_mode": {
    "name": "ipython",
    "version": 3
   },
   "file_extension": ".py",
   "mimetype": "text/x-python",
   "name": "python",
   "nbconvert_exporter": "python",
   "pygments_lexer": "ipython3",
   "version": "3.6.5"
  }
 },
 "nbformat": 4,
 "nbformat_minor": 2
}
