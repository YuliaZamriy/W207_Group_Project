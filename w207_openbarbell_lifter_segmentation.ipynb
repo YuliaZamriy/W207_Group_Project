{
  "nbformat": 4,
  "nbformat_minor": 0,
  "metadata": {
    "colab": {
      "name": "w207_openbarbell_lifter_segmentation.ipynb",
      "version": "0.3.2",
      "provenance": [],
      "collapsed_sections": [],
      "include_colab_link": true
    },
    "kernelspec": {
      "name": "python3",
      "display_name": "Python 3"
    },
    "accelerator": "GPU"
  },
  "cells": [
    {
      "cell_type": "markdown",
      "metadata": {
        "id": "view-in-github",
        "colab_type": "text"
      },
      "source": [
        "[View in Colaboratory](https://colab.research.google.com/github/YuliaZamriy/W207_Group_Project/blob/master/w207_openbarbell_lifter_segmentation.ipynb)"
      ]
    },
    {
      "metadata": {
        "id": "Imc02mmovCZ8",
        "colab_type": "code",
        "colab": {
          "base_uri": "https://localhost:8080/",
          "height": 107
        },
        "outputId": "3e2d7a43-76a9-4276-d60a-f82ef3833662"
      },
      "cell_type": "code",
      "source": [
        "!git clone https://github.com/YuliaZamriy/W207_Group_Project.git"
      ],
      "execution_count": 257,
      "outputs": [
        {
          "output_type": "stream",
          "text": [
            "Cloning into 'W207_Group_Project'...\n",
            "remote: Counting objects: 94, done.\u001b[K\n",
            "remote: Compressing objects: 100% (69/69), done.\u001b[K\n",
            "remote: Total 94 (delta 46), reused 64 (delta 23), pack-reused 0\u001b[K\n",
            "Unpacking objects: 100% (94/94), done.\n"
          ],
          "name": "stdout"
        }
      ]
    },
    {
      "metadata": {
        "id": "8xC44K38JmyP",
        "colab_type": "code",
        "colab": {}
      },
      "cell_type": "code",
      "source": [
        "import os\n",
        "import zipfile\n",
        "import numpy as np\n",
        "import pandas as pd\n",
        "import matplotlib.pyplot as plt\n",
        "import locale\n",
        "import sys\n",
        "import itertools\n",
        "from locale import atof\n",
        "from sklearn import preprocessing\n",
        "from sklearn.neighbors import KNeighborsClassifier\n",
        "from sklearn.naive_bayes import GaussianNB\n",
        "from sklearn.model_selection import train_test_split\n",
        "from sklearn.metrics import confusion_matrix\n",
        "from sklearn.metrics import classification_report\n",
        "from sklearn.ensemble import RandomForestClassifier\n",
        "from sklearn.pipeline import Pipeline\n",
        "from sklearn.model_selection import GridSearchCV\n",
        "from sklearn.decomposition import PCA\n",
        "from sklearn import metrics\n",
        "\n",
        "from scipy.stats import mode\n",
        "\n",
        "%matplotlib inline"
      ],
      "execution_count": 0,
      "outputs": []
    },
    {
      "metadata": {
        "id": "Xfg_N0tPJrDC",
        "colab_type": "code",
        "colab": {
          "base_uri": "https://localhost:8080/",
          "height": 17
        },
        "outputId": "2abfdcb1-9ce1-4555-ed37-7628f7621e01"
      },
      "cell_type": "code",
      "source": [
        "# Jupyter viewing options\n",
        "# from IPython.core.display import display, HTML\n",
        "# display(HTML(\"<style>.container { width:90% !important; }</style>\"))\n",
        "# pd.set_option('display.max_columns', 500)"
      ],
      "execution_count": 9,
      "outputs": [
        {
          "output_type": "display_data",
          "data": {
            "text/html": [
              "<style>.container { width:90% !important; }</style>"
            ],
            "text/plain": [
              "<IPython.core.display.HTML object>"
            ]
          },
          "metadata": {
            "tags": []
          }
        }
      ]
    },
    {
      "metadata": {
        "id": "3cT8C6djHciJ",
        "colab_type": "code",
        "colab": {
          "base_uri": "https://localhost:8080/",
          "height": 508
        },
        "outputId": "d86ff338-e1b4-47cb-93f4-cfb1f62af849"
      },
      "cell_type": "code",
      "source": [
        "df = pd.read_csv(\"drive/Colab Notebooks/ob_data_w207_filtered.csv\")\n",
        "df.head(5)"
      ],
      "execution_count": 7,
      "outputs": [
        {
          "output_type": "execute_result",
          "data": {
            "text/html": [
              "<div>\n",
              "<style scoped>\n",
              "    .dataframe tbody tr th:only-of-type {\n",
              "        vertical-align: middle;\n",
              "    }\n",
              "\n",
              "    .dataframe tbody tr th {\n",
              "        vertical-align: top;\n",
              "    }\n",
              "\n",
              "    .dataframe thead th {\n",
              "        text-align: right;\n",
              "    }\n",
              "</style>\n",
              "<table border=\"1\" class=\"dataframe\">\n",
              "  <thead>\n",
              "    <tr style=\"text-align: right;\">\n",
              "      <th></th>\n",
              "      <th>_id</th>\n",
              "      <th>deleted</th>\n",
              "      <th>endTime</th>\n",
              "      <th>exercise</th>\n",
              "      <th>initialStartTime</th>\n",
              "      <th>metric</th>\n",
              "      <th>removed_set</th>\n",
              "      <th>rpe</th>\n",
              "      <th>setID</th>\n",
              "      <th>setNumber</th>\n",
              "      <th>...</th>\n",
              "      <th>TimeRepWait</th>\n",
              "      <th>SlowAllow</th>\n",
              "      <th>Backlight</th>\n",
              "      <th>MinAllow</th>\n",
              "      <th>PeakAccel</th>\n",
              "      <th>_merge</th>\n",
              "      <th>rpe_num</th>\n",
              "      <th>weight_lbs</th>\n",
              "      <th>exercise_clean</th>\n",
              "      <th>exercise_clean2</th>\n",
              "    </tr>\n",
              "  </thead>\n",
              "  <tbody>\n",
              "    <tr>\n",
              "      <th>0</th>\n",
              "      <td>000051e0-54b2-48d8-98d2-79f65505c3e6</td>\n",
              "      <td>NaN</td>\n",
              "      <td>NaN</td>\n",
              "      <td>Bench</td>\n",
              "      <td>2018-01-03 01:29:46.904</td>\n",
              "      <td>kgs</td>\n",
              "      <td>0.0</td>\n",
              "      <td>7.5</td>\n",
              "      <td>000051e0-54b2-48d8-98d2-79f65505c3e6</td>\n",
              "      <td>3.0</td>\n",
              "      <td>...</td>\n",
              "      <td>0.0</td>\n",
              "      <td>130000.0</td>\n",
              "      <td>10000.0</td>\n",
              "      <td>150000.0</td>\n",
              "      <td>11.073610</td>\n",
              "      <td>both</td>\n",
              "      <td>7.5</td>\n",
              "      <td>192.90425</td>\n",
              "      <td>bench</td>\n",
              "      <td>bench</td>\n",
              "    </tr>\n",
              "    <tr>\n",
              "      <th>1</th>\n",
              "      <td>000051e0-54b2-48d8-98d2-79f65505c3e6</td>\n",
              "      <td>NaN</td>\n",
              "      <td>NaN</td>\n",
              "      <td>Bench</td>\n",
              "      <td>2018-01-03 01:29:46.904</td>\n",
              "      <td>kgs</td>\n",
              "      <td>0.0</td>\n",
              "      <td>7.5</td>\n",
              "      <td>000051e0-54b2-48d8-98d2-79f65505c3e6</td>\n",
              "      <td>3.0</td>\n",
              "      <td>...</td>\n",
              "      <td>0.0</td>\n",
              "      <td>130000.0</td>\n",
              "      <td>10000.0</td>\n",
              "      <td>150000.0</td>\n",
              "      <td>0.714399</td>\n",
              "      <td>both</td>\n",
              "      <td>7.5</td>\n",
              "      <td>192.90425</td>\n",
              "      <td>bench</td>\n",
              "      <td>bench</td>\n",
              "    </tr>\n",
              "    <tr>\n",
              "      <th>2</th>\n",
              "      <td>000051e0-54b2-48d8-98d2-79f65505c3e6</td>\n",
              "      <td>NaN</td>\n",
              "      <td>NaN</td>\n",
              "      <td>Bench</td>\n",
              "      <td>2018-01-03 01:29:46.904</td>\n",
              "      <td>kgs</td>\n",
              "      <td>0.0</td>\n",
              "      <td>7.5</td>\n",
              "      <td>000051e0-54b2-48d8-98d2-79f65505c3e6</td>\n",
              "      <td>3.0</td>\n",
              "      <td>...</td>\n",
              "      <td>0.0</td>\n",
              "      <td>130000.0</td>\n",
              "      <td>10000.0</td>\n",
              "      <td>150000.0</td>\n",
              "      <td>0.730685</td>\n",
              "      <td>both</td>\n",
              "      <td>7.5</td>\n",
              "      <td>192.90425</td>\n",
              "      <td>bench</td>\n",
              "      <td>bench</td>\n",
              "    </tr>\n",
              "    <tr>\n",
              "      <th>3</th>\n",
              "      <td>000051e0-54b2-48d8-98d2-79f65505c3e6</td>\n",
              "      <td>NaN</td>\n",
              "      <td>NaN</td>\n",
              "      <td>Bench</td>\n",
              "      <td>2018-01-03 01:29:46.904</td>\n",
              "      <td>kgs</td>\n",
              "      <td>0.0</td>\n",
              "      <td>7.5</td>\n",
              "      <td>000051e0-54b2-48d8-98d2-79f65505c3e6</td>\n",
              "      <td>3.0</td>\n",
              "      <td>...</td>\n",
              "      <td>0.0</td>\n",
              "      <td>130000.0</td>\n",
              "      <td>10000.0</td>\n",
              "      <td>150000.0</td>\n",
              "      <td>0.923557</td>\n",
              "      <td>both</td>\n",
              "      <td>7.5</td>\n",
              "      <td>192.90425</td>\n",
              "      <td>bench</td>\n",
              "      <td>bench</td>\n",
              "    </tr>\n",
              "    <tr>\n",
              "      <th>4</th>\n",
              "      <td>000051e0-54b2-48d8-98d2-79f65505c3e6</td>\n",
              "      <td>NaN</td>\n",
              "      <td>NaN</td>\n",
              "      <td>Bench</td>\n",
              "      <td>2018-01-03 01:29:46.904</td>\n",
              "      <td>kgs</td>\n",
              "      <td>0.0</td>\n",
              "      <td>7.5</td>\n",
              "      <td>000051e0-54b2-48d8-98d2-79f65505c3e6</td>\n",
              "      <td>3.0</td>\n",
              "      <td>...</td>\n",
              "      <td>0.0</td>\n",
              "      <td>130000.0</td>\n",
              "      <td>10000.0</td>\n",
              "      <td>150000.0</td>\n",
              "      <td>0.827607</td>\n",
              "      <td>both</td>\n",
              "      <td>7.5</td>\n",
              "      <td>192.90425</td>\n",
              "      <td>bench</td>\n",
              "      <td>bench</td>\n",
              "    </tr>\n",
              "  </tbody>\n",
              "</table>\n",
              "<p>5 rows × 45 columns</p>\n",
              "</div>"
            ],
            "text/plain": [
              "                                    _id  deleted endTime exercise  \\\n",
              "0  000051e0-54b2-48d8-98d2-79f65505c3e6      NaN     NaN    Bench   \n",
              "1  000051e0-54b2-48d8-98d2-79f65505c3e6      NaN     NaN    Bench   \n",
              "2  000051e0-54b2-48d8-98d2-79f65505c3e6      NaN     NaN    Bench   \n",
              "3  000051e0-54b2-48d8-98d2-79f65505c3e6      NaN     NaN    Bench   \n",
              "4  000051e0-54b2-48d8-98d2-79f65505c3e6      NaN     NaN    Bench   \n",
              "\n",
              "          initialStartTime metric  removed_set  rpe  \\\n",
              "0  2018-01-03 01:29:46.904    kgs          0.0  7.5   \n",
              "1  2018-01-03 01:29:46.904    kgs          0.0  7.5   \n",
              "2  2018-01-03 01:29:46.904    kgs          0.0  7.5   \n",
              "3  2018-01-03 01:29:46.904    kgs          0.0  7.5   \n",
              "4  2018-01-03 01:29:46.904    kgs          0.0  7.5   \n",
              "\n",
              "                                  setID  setNumber       ...         \\\n",
              "0  000051e0-54b2-48d8-98d2-79f65505c3e6        3.0       ...          \n",
              "1  000051e0-54b2-48d8-98d2-79f65505c3e6        3.0       ...          \n",
              "2  000051e0-54b2-48d8-98d2-79f65505c3e6        3.0       ...          \n",
              "3  000051e0-54b2-48d8-98d2-79f65505c3e6        3.0       ...          \n",
              "4  000051e0-54b2-48d8-98d2-79f65505c3e6        3.0       ...          \n",
              "\n",
              "  TimeRepWait SlowAllow Backlight  MinAllow  PeakAccel _merge rpe_num  \\\n",
              "0         0.0  130000.0   10000.0  150000.0  11.073610   both     7.5   \n",
              "1         0.0  130000.0   10000.0  150000.0   0.714399   both     7.5   \n",
              "2         0.0  130000.0   10000.0  150000.0   0.730685   both     7.5   \n",
              "3         0.0  130000.0   10000.0  150000.0   0.923557   both     7.5   \n",
              "4         0.0  130000.0   10000.0  150000.0   0.827607   both     7.5   \n",
              "\n",
              "   weight_lbs  exercise_clean  exercise_clean2  \n",
              "0   192.90425           bench            bench  \n",
              "1   192.90425           bench            bench  \n",
              "2   192.90425           bench            bench  \n",
              "3   192.90425           bench            bench  \n",
              "4   192.90425           bench            bench  \n",
              "\n",
              "[5 rows x 45 columns]"
            ]
          },
          "metadata": {
            "tags": []
          },
          "execution_count": 7
        }
      ]
    },
    {
      "metadata": {
        "id": "OGktI9WOKJx5",
        "colab_type": "code",
        "colab": {
          "base_uri": "https://localhost:8080/",
          "height": 35
        },
        "outputId": "0c766a32-4a97-4413-9266-6ea57aee3af6"
      },
      "cell_type": "code",
      "source": [
        "print(\"Data shape: {0}\".format(df.shape))\n"
      ],
      "execution_count": 10,
      "outputs": [
        {
          "output_type": "stream",
          "text": [
            "Data shape: (292910, 45)\n"
          ],
          "name": "stdout"
        }
      ]
    },
    {
      "metadata": {
        "id": "ezFyzOL2KuFe",
        "colab_type": "code",
        "colab": {
          "base_uri": "https://localhost:8080/",
          "height": 587
        },
        "outputId": "17280eb8-60c7-4fba-fad9-39e0113a0820"
      },
      "cell_type": "code",
      "source": [
        "null_sums = df.isnull().sum()\n",
        "fig, ax = plt.subplots()\n",
        "fig.set_size_inches(18.5, 8.5)\n",
        "for i, null_col in enumerate(null_sums):\n",
        "    plt.bar(i, null_col)\n",
        "\n",
        "plt.title('Null Values by Column in Dataset')\n",
        "plt.xticks(list(range(len(null_sums))), null_sums.index, rotation='vertical')\n",
        "plt.show()"
      ],
      "execution_count": 11,
      "outputs": [
        {
          "output_type": "display_data",
          "data": {
            "image/png": "[encoded data removed]",
            "text/plain": [
              "<matplotlib.figure.Figure at 0x7f68edfe8da0>"
            ]
          },
          "metadata": {
            "tags": []
          }
        }
      ]
    },
    {
      "metadata": {
        "id": "t6TgSuxuKxX-",
        "colab_type": "code",
        "colab": {
          "base_uri": "https://localhost:8080/",
          "height": 235
        },
        "outputId": "89e1346f-564c-4b26-88c5-b32f547cb9ed"
      },
      "cell_type": "code",
      "source": [
        "def get_label_distribution(label):\n",
        "    i, j = np.unique(label, return_counts = True)\n",
        "    return pd.DataFrame({\"Exercise\": i, \"Row count\": j})\n",
        "        \n",
        "        \n",
        "get_label_distribution(df['exercise_clean'])"
      ],
      "execution_count": 12,
      "outputs": [
        {
          "output_type": "execute_result",
          "data": {
            "text/html": [
              "<div>\n",
              "<style scoped>\n",
              "    .dataframe tbody tr th:only-of-type {\n",
              "        vertical-align: middle;\n",
              "    }\n",
              "\n",
              "    .dataframe tbody tr th {\n",
              "        vertical-align: top;\n",
              "    }\n",
              "\n",
              "    .dataframe thead th {\n",
              "        text-align: right;\n",
              "    }\n",
              "</style>\n",
              "<table border=\"1\" class=\"dataframe\">\n",
              "  <thead>\n",
              "    <tr style=\"text-align: right;\">\n",
              "      <th></th>\n",
              "      <th>Exercise</th>\n",
              "      <th>Row count</th>\n",
              "    </tr>\n",
              "  </thead>\n",
              "  <tbody>\n",
              "    <tr>\n",
              "      <th>0</th>\n",
              "      <td>bench</td>\n",
              "      <td>94640</td>\n",
              "    </tr>\n",
              "    <tr>\n",
              "      <th>1</th>\n",
              "      <td>bench other</td>\n",
              "      <td>35117</td>\n",
              "    </tr>\n",
              "    <tr>\n",
              "      <th>2</th>\n",
              "      <td>deadlift</td>\n",
              "      <td>35966</td>\n",
              "    </tr>\n",
              "    <tr>\n",
              "      <th>3</th>\n",
              "      <td>deadlift other</td>\n",
              "      <td>7366</td>\n",
              "    </tr>\n",
              "    <tr>\n",
              "      <th>4</th>\n",
              "      <td>squat</td>\n",
              "      <td>77680</td>\n",
              "    </tr>\n",
              "    <tr>\n",
              "      <th>5</th>\n",
              "      <td>squat other</td>\n",
              "      <td>42141</td>\n",
              "    </tr>\n",
              "  </tbody>\n",
              "</table>\n",
              "</div>"
            ],
            "text/plain": [
              "         Exercise  Row count\n",
              "0           bench      94640\n",
              "1     bench other      35117\n",
              "2        deadlift      35966\n",
              "3  deadlift other       7366\n",
              "4           squat      77680\n",
              "5     squat other      42141"
            ]
          },
          "metadata": {
            "tags": []
          },
          "execution_count": 12
        }
      ]
    },
    {
      "metadata": {
        "id": "PWVctrdwK-lN",
        "colab_type": "text"
      },
      "cell_type": "markdown",
      "source": [
        "### Potential features to consider for lifter segmentation:\n",
        "\n",
        " Lifting-related:\n",
        " \n",
        " - `rpe_num`: uses RPE or not\n",
        " - `weight_lbs`\n",
        " - `RepCount`: values start from 0 (counts of 1); higher repper vs. low\n",
        " - `ROM`\n",
        " - `PeakVel`\n",
        " - `PeakVelLoc`\n",
        " - `RepDur`\n",
        " - `PeakAccel`\n",
        "\n",
        "\n",
        "User-related:\n",
        "\n",
        " - `initialStartTime` / `startTime` / `time`\n",
        " - `tags`: tagger or not\n",
        " - `workoutID`: number of unique workouts\n",
        " - `hardware`:  two values: (ios, android)\n",
        " - `deviceName`/`deviceIdentifier`:  how many devices is using\n",
        " \n",
        " \n",
        " ### Potential lifter identifiers:\n",
        " \n",
        " - Primary: `userID`\n",
        " - Secondary:`exercise_clean`\n"
      ]
    },
    {
      "metadata": {
        "id": "IVrDVkhgPW1K",
        "colab_type": "text"
      },
      "cell_type": "markdown",
      "source": [
        "## EDA for Lifter Segmentation"
      ]
    },
    {
      "metadata": {
        "id": "dZUP1s_aPgT5",
        "colab_type": "code",
        "colab": {}
      },
      "cell_type": "code",
      "source": [
        "def check_frequency(data, feature):\n",
        "    counts = data[feature].value_counts()\n",
        "    print(f\"\\n{feature} has {counts.shape[0]} unique values\")\n",
        "    print(\"Top 10 values are:\")\n",
        "    if counts.shape[0] > 10:\n",
        "      print(counts[:10])\n",
        "    else:\n",
        "      print(counts)"
      ],
      "execution_count": 0,
      "outputs": []
    },
    {
      "metadata": {
        "id": "jusUuOYkRbaL",
        "colab_type": "code",
        "colab": {
          "base_uri": "https://localhost:8080/",
          "height": 1133
        },
        "outputId": "29237912-2aa3-4c57-9366-3334ec4d79c6"
      },
      "cell_type": "code",
      "source": [
        "ls_discrete_features = ['hardware', 'rpe_num', 'RepCount', 'tags', 'deviceName']\n",
        "for v in ls_discrete_features:\n",
        "  check_frequency(df, v)"
      ],
      "execution_count": 89,
      "outputs": [
        {
          "output_type": "stream",
          "text": [
            "\n",
            "hardware has 2 unique values\n",
            "Top 10 values are:\n",
            "ios        189386\n",
            "android     89821\n",
            "Name: hardware, dtype: int64\n",
            "\n",
            "rpe_num has 45 unique values\n",
            "Top 10 values are:\n",
            "8.0     21131\n",
            "7.0     21067\n",
            "6.0     14131\n",
            "5.5     12783\n",
            "7.5      9561\n",
            "9.0      8933\n",
            "8.5      7849\n",
            "6.5      6294\n",
            "10.0     3354\n",
            "Name: rpe_num, dtype: int64\n",
            "\n",
            "RepCount has 115 unique values\n",
            "Top 10 values are:\n",
            "0.0     66760\n",
            "1.0     61538\n",
            "2.0     52633\n",
            "3.0     35216\n",
            "4.0     26591\n",
            "5.0     15191\n",
            "6.0      9561\n",
            "7.0      7190\n",
            "8.0      4404\n",
            "9.0      3315\n",
            "10.0     1801\n",
            "Name: RepCount, dtype: int64\n",
            "\n",
            "tags has 4097 unique values\n",
            "Top 10 values are:\n",
            "[]              148087\n",
            "['Belt']          5788\n",
            "['warmup']        3570\n",
            "['belt']          2629\n",
            "['Duffalo']       1836\n",
            "['beltless']      1691\n",
            "['Beltless']      1516\n",
            "['warm up']       1422\n",
            "['no belt ']      1405\n",
            "['Speed']         1398\n",
            "Name: tags, dtype: int64\n",
            "\n",
            "deviceName has 343 unique values\n",
            "Top 10 values are:\n",
            "OB 3248    9059\n",
            "OB 6666    6897\n",
            "OB 2257    6748\n",
            "OB 3434    6059\n",
            "OB 3302    5812\n",
            "OB 3162    5687\n",
            "OB 3141    5466\n",
            "OB 3169    5236\n",
            "OB 3383    5025\n",
            "OB 3161    4907\n",
            "Name: deviceName, dtype: int64\n"
          ],
          "name": "stdout"
        }
      ]
    },
    {
      "metadata": {
        "id": "TXNmS8X5cVQa",
        "colab_type": "code",
        "colab": {
          "base_uri": "https://localhost:8080/",
          "height": 359
        },
        "outputId": "11f14e36-aca5-4e5b-8265-46ecfb15aa61"
      },
      "cell_type": "code",
      "source": [
        "def get_descr(data, features):\n",
        "  data_descr = data[features].describe()\n",
        "  pct_missing = pd.Series(100-np.around(data_descr.loc['count',]/data.shape[0]*100,2))\n",
        "  pct_missing.name = 'pct_missing'\n",
        "  pct_zero = pd.Series([round(100*sum(data[v] == 0)/data.shape[0],2) for v in features])\n",
        "  pct_zero.name = 'pct_zeros'\n",
        "  pct_zero.index = pct_missing.index\n",
        "  data_descr = data_descr.append(pct_missing)\n",
        "  data_descr = data_descr.append(pct_zero)\n",
        "  return data_descr\n",
        "  \n",
        "ls_cont_features = ['rpe_num', 'RepCount', 'weight_lbs',  \n",
        "                    'ROM', 'PeakVel', 'PeakVelLoc', 'RepDur', 'PeakAccel']\n",
        "\n",
        "get_descr(df, ls_cont_features)"
      ],
      "execution_count": 93,
      "outputs": [
        {
          "output_type": "execute_result",
          "data": {
            "text/html": [
              "<div>\n",
              "<style scoped>\n",
              "    .dataframe tbody tr th:only-of-type {\n",
              "        vertical-align: middle;\n",
              "    }\n",
              "\n",
              "    .dataframe tbody tr th {\n",
              "        vertical-align: top;\n",
              "    }\n",
              "\n",
              "    .dataframe thead th {\n",
              "        text-align: right;\n",
              "    }\n",
              "</style>\n",
              "<table border=\"1\" class=\"dataframe\">\n",
              "  <thead>\n",
              "    <tr style=\"text-align: right;\">\n",
              "      <th></th>\n",
              "      <th>rpe_num</th>\n",
              "      <th>RepCount</th>\n",
              "      <th>weight_lbs</th>\n",
              "      <th>ROM</th>\n",
              "      <th>PeakVel</th>\n",
              "      <th>PeakVelLoc</th>\n",
              "      <th>RepDur</th>\n",
              "      <th>PeakAccel</th>\n",
              "    </tr>\n",
              "  </thead>\n",
              "  <tbody>\n",
              "    <tr>\n",
              "      <th>count</th>\n",
              "      <td>107928.000000</td>\n",
              "      <td>292910.000000</td>\n",
              "      <td>283142.000000</td>\n",
              "      <td>292910.000000</td>\n",
              "      <td>292910.000000</td>\n",
              "      <td>288513.000000</td>\n",
              "      <td>2.885130e+05</td>\n",
              "      <td>204717.000000</td>\n",
              "    </tr>\n",
              "    <tr>\n",
              "      <th>mean</th>\n",
              "      <td>7.330340</td>\n",
              "      <td>2.775013</td>\n",
              "      <td>235.271909</td>\n",
              "      <td>462.061456</td>\n",
              "      <td>0.771857</td>\n",
              "      <td>72.132299</td>\n",
              "      <td>1.102977e+06</td>\n",
              "      <td>15.439559</td>\n",
              "    </tr>\n",
              "    <tr>\n",
              "      <th>std</th>\n",
              "      <td>1.201296</td>\n",
              "      <td>4.143754</td>\n",
              "      <td>105.251502</td>\n",
              "      <td>157.312786</td>\n",
              "      <td>0.377337</td>\n",
              "      <td>20.038203</td>\n",
              "      <td>4.745798e+05</td>\n",
              "      <td>59.320897</td>\n",
              "    </tr>\n",
              "    <tr>\n",
              "      <th>min</th>\n",
              "      <td>5.500000</td>\n",
              "      <td>0.000000</td>\n",
              "      <td>0.000000</td>\n",
              "      <td>0.000000</td>\n",
              "      <td>0.000000</td>\n",
              "      <td>0.000000</td>\n",
              "      <td>0.000000e+00</td>\n",
              "      <td>0.000000</td>\n",
              "    </tr>\n",
              "    <tr>\n",
              "      <th>25%</th>\n",
              "      <td>6.500000</td>\n",
              "      <td>1.000000</td>\n",
              "      <td>165.000000</td>\n",
              "      <td>326.000000</td>\n",
              "      <td>0.483974</td>\n",
              "      <td>65.000000</td>\n",
              "      <td>7.656250e+05</td>\n",
              "      <td>3.307050</td>\n",
              "    </tr>\n",
              "    <tr>\n",
              "      <th>50%</th>\n",
              "      <td>7.000000</td>\n",
              "      <td>2.000000</td>\n",
              "      <td>225.000000</td>\n",
              "      <td>450.000000</td>\n",
              "      <td>0.718287</td>\n",
              "      <td>79.000000</td>\n",
              "      <td>1.030670e+06</td>\n",
              "      <td>6.186958</td>\n",
              "    </tr>\n",
              "    <tr>\n",
              "      <th>75%</th>\n",
              "      <td>8.000000</td>\n",
              "      <td>4.000000</td>\n",
              "      <td>300.000000</td>\n",
              "      <td>598.000000</td>\n",
              "      <td>0.976293</td>\n",
              "      <td>87.000000</td>\n",
              "      <td>1.363892e+06</td>\n",
              "      <td>12.775880</td>\n",
              "    </tr>\n",
              "    <tr>\n",
              "      <th>max</th>\n",
              "      <td>10.000000</td>\n",
              "      <td>114.000000</td>\n",
              "      <td>1000.000000</td>\n",
              "      <td>1761.000000</td>\n",
              "      <td>5.560000</td>\n",
              "      <td>99.000000</td>\n",
              "      <td>1.129953e+07</td>\n",
              "      <td>2686.953000</td>\n",
              "    </tr>\n",
              "    <tr>\n",
              "      <th>pct_missing</th>\n",
              "      <td>63.150000</td>\n",
              "      <td>0.000000</td>\n",
              "      <td>3.330000</td>\n",
              "      <td>0.000000</td>\n",
              "      <td>0.000000</td>\n",
              "      <td>1.500000</td>\n",
              "      <td>1.500000e+00</td>\n",
              "      <td>30.110000</td>\n",
              "    </tr>\n",
              "    <tr>\n",
              "      <th>pct_zeros</th>\n",
              "      <td>0.000000</td>\n",
              "      <td>22.790000</td>\n",
              "      <td>0.130000</td>\n",
              "      <td>0.000000</td>\n",
              "      <td>0.000000</td>\n",
              "      <td>0.010000</td>\n",
              "      <td>1.000000e-02</td>\n",
              "      <td>0.020000</td>\n",
              "    </tr>\n",
              "  </tbody>\n",
              "</table>\n",
              "</div>"
            ],
            "text/plain": [
              "                   rpe_num       RepCount     weight_lbs            ROM  \\\n",
              "count        107928.000000  292910.000000  283142.000000  292910.000000   \n",
              "mean              7.330340       2.775013     235.271909     462.061456   \n",
              "std               1.201296       4.143754     105.251502     157.312786   \n",
              "min               5.500000       0.000000       0.000000       0.000000   \n",
              "25%               6.500000       1.000000     165.000000     326.000000   \n",
              "50%               7.000000       2.000000     225.000000     450.000000   \n",
              "75%               8.000000       4.000000     300.000000     598.000000   \n",
              "max              10.000000     114.000000    1000.000000    1761.000000   \n",
              "pct_missing      63.150000       0.000000       3.330000       0.000000   \n",
              "pct_zeros         0.000000      22.790000       0.130000       0.000000   \n",
              "\n",
              "                   PeakVel     PeakVelLoc        RepDur      PeakAccel  \n",
              "count        292910.000000  288513.000000  2.885130e+05  204717.000000  \n",
              "mean              0.771857      72.132299  1.102977e+06      15.439559  \n",
              "std               0.377337      20.038203  4.745798e+05      59.320897  \n",
              "min               0.000000       0.000000  0.000000e+00       0.000000  \n",
              "25%               0.483974      65.000000  7.656250e+05       3.307050  \n",
              "50%               0.718287      79.000000  1.030670e+06       6.186958  \n",
              "75%               0.976293      87.000000  1.363892e+06      12.775880  \n",
              "max               5.560000      99.000000  1.129953e+07    2686.953000  \n",
              "pct_missing       0.000000       1.500000  1.500000e+00      30.110000  \n",
              "pct_zeros         0.000000       0.010000  1.000000e-02       0.020000  "
            ]
          },
          "metadata": {
            "tags": []
          },
          "execution_count": 93
        }
      ]
    },
    {
      "metadata": {
        "id": "1GrXM0U-ey74",
        "colab_type": "code",
        "colab": {
          "base_uri": "https://localhost:8080/",
          "height": 1113
        },
        "outputId": "0b4ba35a-e5b7-41e9-c035-81d6c0d3a83d"
      },
      "cell_type": "code",
      "source": [
        "def plot_multi_hist(data, features):\n",
        "  nrows = len(features)//2\n",
        "  ncols = min(len(features), 2)\n",
        "  fig, axs = plt.subplots(nrows, ncols, figsize=(15,15))\n",
        "  fig.tight_layout()\n",
        "  for ax, index in zip(axs.ravel(), range(len(features))):\n",
        "    bins = 50\n",
        "    adj = 10\n",
        "    xmin = np.min(data[features[index]])\n",
        "    xmax = np.max(data[features[index]])\n",
        "    x99 = np.nanpercentile(data[features[index]], 99)\n",
        "    if xmax/x99 > adj:\n",
        "      xmax = x99/2\n",
        "      bins *= adj*5\n",
        "    ax.hist(data[features[index]].dropna(), bins, alpha=0.75)\n",
        "    ax.set_title(f'Histogram of {features[index]}')\n",
        "    ax.set_xlim([xmin, xmax])\n",
        "    ax.grid(True)\n",
        "  plt.show()\n",
        "  \n",
        "ls_cont_features = ['rpe_num', 'RepCount', 'weight_lbs',  \n",
        "                    'ROM', 'PeakVel', 'PeakVelLoc', 'RepDur', 'PeakAccel']\n",
        "\n",
        "plot_multi_hist(df, ls_cont_features)"
      ],
      "execution_count": 187,
      "outputs": [
        {
          "output_type": "display_data",
          "data": {
            "image/png": "[encoded data removed]",
            "text/plain": [
              "<matplotlib.figure.Figure at 0x7f68e7d70128>"
            ]
          },
          "metadata": {
            "tags": []
          }
        }
      ]
    },
    {
      "metadata": {
        "id": "ZN_hRLf6qyMU",
        "colab_type": "text"
      },
      "cell_type": "markdown",
      "source": [
        "## Figuring out lifter id"
      ]
    },
    {
      "metadata": {
        "id": "G6pkspHfzy79",
        "colab_type": "code",
        "colab": {}
      },
      "cell_type": "code",
      "source": [
        "def feature_descr(feature):\n",
        "  print(f\"{feature.name} Summary:\")\n",
        "  print(feature.describe())\n",
        "  \n",
        "  print(f\"\\nLow occurrence for {feature.name}:\")\n",
        "  for i in range(1, 10):\n",
        "    print(f\"There are {sum(feature==i)} unique values with {i} observation(s)\")\n",
        "  \n",
        "  print(f\"\\n{feature.name} Histogram:\")\n",
        "  xmin, xmax = np.min(feature), np.nanpercentile(feature, 99)\n",
        "  plt.hist(feature, 100, facecolor = 'g', alpha = 0.75)\n",
        "  plt.xlim([xmin, xmax])\n",
        "  plt.show()"
      ],
      "execution_count": 0,
      "outputs": []
    },
    {
      "metadata": {
        "id": "wUdDhugbqs8w",
        "colab_type": "code",
        "colab": {
          "base_uri": "https://localhost:8080/",
          "height": 35
        },
        "outputId": "0613f26d-f9c2-4640-c6ce-a515a71503f0"
      },
      "cell_type": "code",
      "source": [
        "userID_count = df['userID'].value_counts()\n",
        "userID_count.shape"
      ],
      "execution_count": 172,
      "outputs": [
        {
          "output_type": "execute_result",
          "data": {
            "text/plain": [
              "(460,)"
            ]
          },
          "metadata": {
            "tags": []
          },
          "execution_count": 172
        }
      ]
    },
    {
      "metadata": {
        "id": "0LnZ1ugy0JTn",
        "colab_type": "code",
        "colab": {
          "base_uri": "https://localhost:8080/",
          "height": 679
        },
        "outputId": "10d55903-caea-436e-fac5-57a79e070754"
      },
      "cell_type": "code",
      "source": [
        "feature_descr(userID_count)"
      ],
      "execution_count": 236,
      "outputs": [
        {
          "output_type": "stream",
          "text": [
            "userID Summary:\n",
            "count      460.000000\n",
            "mean       636.760870\n",
            "std       1257.673288\n",
            "min          1.000000\n",
            "25%         27.750000\n",
            "50%        111.500000\n",
            "75%        571.250000\n",
            "max      10568.000000\n",
            "Name: userID, dtype: float64\n",
            "\n",
            "Low occurrence for userID:\n",
            "There are 2 unique values with 1 observation(s)\n",
            "There are 4 unique values with 2 observation(s)\n",
            "There are 8 unique values with 3 observation(s)\n",
            "There are 6 unique values with 4 observation(s)\n",
            "There are 6 unique values with 5 observation(s)\n",
            "There are 6 unique values with 6 observation(s)\n",
            "There are 5 unique values with 7 observation(s)\n",
            "There are 11 unique values with 8 observation(s)\n",
            "There are 2 unique values with 9 observation(s)\n",
            "\n",
            "userID Histogram:\n"
          ],
          "name": "stdout"
        },
        {
          "output_type": "display_data",
          "data": {
            "image/png": "[encoded data removed]",
            "text/plain": [
              "<matplotlib.figure.Figure at 0x7f68ebb83470>"
            ]
          },
          "metadata": {
            "tags": []
          }
        }
      ]
    },
    {
      "metadata": {
        "id": "CWlA6WaHwk9e",
        "colab_type": "code",
        "colab": {}
      },
      "cell_type": "code",
      "source": [
        "df_grouped_wourkout = df.groupby(['userID', 'workoutID'])\n",
        "df_grouped_wourkout = df_grouped.size()\n",
        "df_grouped_wourkout.name = 'userID-workoutID count'"
      ],
      "execution_count": 0,
      "outputs": []
    },
    {
      "metadata": {
        "id": "1wRqAqR9x9V_",
        "colab_type": "code",
        "colab": {
          "base_uri": "https://localhost:8080/",
          "height": 679
        },
        "outputId": "4e8493c3-9153-4fe4-e87d-f3275fdeec8a"
      },
      "cell_type": "code",
      "source": [
        "feature_descr(df_grouped_wourkout)"
      ],
      "execution_count": 252,
      "outputs": [
        {
          "output_type": "stream",
          "text": [
            "userID-workoutID count Summary:\n",
            "count    11034.000000\n",
            "mean        26.546130\n",
            "std         21.903629\n",
            "min          1.000000\n",
            "25%         10.000000\n",
            "50%         22.000000\n",
            "75%         36.000000\n",
            "max        345.000000\n",
            "Name: userID-workoutID count, dtype: float64\n",
            "\n",
            "Low occurrence for userID-workoutID count:\n",
            "There are 261 unique values with 1 observation(s)\n",
            "There are 314 unique values with 2 observation(s)\n",
            "There are 430 unique values with 3 observation(s)\n",
            "There are 302 unique values with 4 observation(s)\n",
            "There are 236 unique values with 5 observation(s)\n",
            "There are 302 unique values with 6 observation(s)\n",
            "There are 172 unique values with 7 observation(s)\n",
            "There are 228 unique values with 8 observation(s)\n",
            "There are 323 unique values with 9 observation(s)\n",
            "\n",
            "userID-workoutID count Histogram:\n"
          ],
          "name": "stdout"
        },
        {
          "output_type": "display_data",
          "data": {
            "image/png": "[encoded data removed]",
            "text/plain": [
              "<matplotlib.figure.Figure at 0x7f68edc84160>"
            ]
          },
          "metadata": {
            "tags": []
          }
        }
      ]
    },
    {
      "metadata": {
        "id": "LUFqYG9C2ZWB",
        "colab_type": "code",
        "colab": {
          "base_uri": "https://localhost:8080/",
          "height": 71
        },
        "outputId": "445f0845-1361-4b17-ad4e-b903098add72"
      },
      "cell_type": "code",
      "source": [
        "df_grouped_count.loc[df_grouped_count == max(df_grouped_count)]"
      ],
      "execution_count": 241,
      "outputs": [
        {
          "output_type": "execute_result",
          "data": {
            "text/plain": [
              "userID                    workoutID                           \n",
              "5aa35456880e87b3f32ddf7c  c1d046a3-bf4e-4ba8-a43a-2568a3b21620    345\n",
              "Name: userID-workoutID count, dtype: int64"
            ]
          },
          "metadata": {
            "tags": []
          },
          "execution_count": 241
        }
      ]
    },
    {
      "metadata": {
        "id": "vKqsBH8r3J7g",
        "colab_type": "code",
        "colab": {
          "base_uri": "https://localhost:8080/",
          "height": 35
        },
        "outputId": "e8fe0ac0-2ab0-47dd-bef8-f7a5de755bed"
      },
      "cell_type": "code",
      "source": [
        "# this is account used for S&S internal study\n",
        "# we might need to exclude it (multiple people)\n",
        "df_study = df.loc[df['userID'] == '5aa35456880e87b3f32ddf7c']\n",
        "df_study.shape"
      ],
      "execution_count": 249,
      "outputs": [
        {
          "output_type": "execute_result",
          "data": {
            "text/plain": [
              "(3506, 45)"
            ]
          },
          "metadata": {
            "tags": []
          },
          "execution_count": 249
        }
      ]
    },
    {
      "metadata": {
        "id": "Zn6-7Imh4PZ5",
        "colab_type": "code",
        "colab": {
          "base_uri": "https://localhost:8080/",
          "height": 233
        },
        "outputId": "a29fe9ec-bd3e-474d-ed0c-f3dc6dccfd0b"
      },
      "cell_type": "code",
      "source": [
        "df_grouped_count.sort_values(ascending=False)[:10]"
      ],
      "execution_count": 247,
      "outputs": [
        {
          "output_type": "execute_result",
          "data": {
            "text/plain": [
              "userID                    workoutID                           \n",
              "5aa35456880e87b3f32ddf7c  c1d046a3-bf4e-4ba8-a43a-2568a3b21620    345\n",
              "                          7464e24b-25af-4435-a29e-6735cf838dd4    305\n",
              "                          870ca10a-1f71-4cbf-a3f8-6ef0f0cc56c1    281\n",
              "                          21b51e5a-6a80-48d8-827b-b2309f4cd405    201\n",
              "5a43c264fd4ef00da9b8ccce  3388ac48-1f31-46c1-88db-d82b72209a01    184\n",
              "5a15b00e05cbc9b8ef26ac59  4d2ad298-337d-46bb-bd46-49f45d42158e    183\n",
              "59debbdd05cbc9b8ef26ac1c  dbc82f2e-0401-43c6-9c9a-afc52434f724    176\n",
              "5aa35456880e87b3f32ddf7c  908fe3e3-34c9-4c2f-8ae4-7d22354e2b9b    175\n",
              "589d473d6ca711fcd8cb7af9  93a67da5-12c4-42d1-a067-ca77e04af8ab    174\n",
              "5a43c264fd4ef00da9b8ccce  426232d3-7874-4c44-9a5a-6e9b860bbf1c    151\n",
              "Name: userID-workoutID count, dtype: int64"
            ]
          },
          "metadata": {
            "tags": []
          },
          "execution_count": 247
        }
      ]
    },
    {
      "metadata": {
        "id": "nrch3vUB50qd",
        "colab_type": "code",
        "colab": {}
      },
      "cell_type": "code",
      "source": [
        ""
      ],
      "execution_count": 0,
      "outputs": []
    },
    {
      "metadata": {
        "id": "93RHxldQuj75",
        "colab_type": "text"
      },
      "cell_type": "markdown",
      "source": [
        "## Grouping Dataset"
      ]
    },
    {
      "metadata": {
        "id": "UOsOFiRwumHH",
        "colab_type": "code",
        "colab": {}
      },
      "cell_type": "code",
      "source": [
        "df_clean = df.loc[df['exercise_clean'].isin([\"squat\", \"bench\", \"deadlift\"])]\n",
        "df_grouped = df_clean.groupby(['userID', 'exercise_clean'])"
      ],
      "execution_count": 0,
      "outputs": []
    },
    {
      "metadata": {
        "id": "1oWoeNg86gvJ",
        "colab_type": "code",
        "colab": {
          "base_uri": "https://localhost:8080/",
          "height": 679
        },
        "outputId": "79119485-8462-4d2c-b0ff-49a2fb03f33e"
      },
      "cell_type": "code",
      "source": [
        "df_grouped.s"
      ],
      "execution_count": 254,
      "outputs": [
        {
          "output_type": "stream",
          "text": [
            "userID Summary:\n",
            "count      460.000000\n",
            "mean       636.760870\n",
            "std       1257.673288\n",
            "min          1.000000\n",
            "25%         27.750000\n",
            "50%        111.500000\n",
            "75%        571.250000\n",
            "max      10568.000000\n",
            "Name: userID, dtype: float64\n",
            "\n",
            "Low occurrence for userID:\n",
            "There are 2 unique values with 1 observation(s)\n",
            "There are 4 unique values with 2 observation(s)\n",
            "There are 8 unique values with 3 observation(s)\n",
            "There are 6 unique values with 4 observation(s)\n",
            "There are 6 unique values with 5 observation(s)\n",
            "There are 6 unique values with 6 observation(s)\n",
            "There are 5 unique values with 7 observation(s)\n",
            "There are 11 unique values with 8 observation(s)\n",
            "There are 2 unique values with 9 observation(s)\n",
            "\n",
            "userID Histogram:\n"
          ],
          "name": "stdout"
        },
        {
          "output_type": "display_data",
          "data": {
            "image/png": "[encoded data removed]",
            "text/plain": [
              "<matplotlib.figure.Figure at 0x7f68e889d240>"
            ]
          },
          "metadata": {
            "tags": []
          }
        }
      ]
    }
  ]
}