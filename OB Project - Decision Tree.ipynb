{
 "cells": [
  {
   "cell_type": "code",
   "execution_count": 71,
   "metadata": {},
   "outputs": [],
   "source": [
    "import pandas as pd\n",
    "import numpy as np\n",
    "\n",
    "from sklearn.ensemble import RandomForestClassifier\n",
    "from sklearn.pipeline import Pipeline\n",
    "from sklearn import preprocessing\n",
    "from sklearn.decomposition import PCA\n",
    "from sklearn.grid_search import GridSearchCV\n",
    "from sklearn import metrics"
   ]
  },
  {
   "cell_type": "code",
   "execution_count": 51,
   "metadata": {},
   "outputs": [
    {
     "data": {
      "text/html": [
       "<style>.container { width:90% !important; }</style>"
      ],
      "text/plain": [
       "<IPython.core.display.HTML object>"
      ]
     },
     "metadata": {},
     "output_type": "display_data"
    }
   ],
   "source": [
    "# Jupyter viewing options\n",
    "from IPython.core.display import display, HTML\n",
    "display(HTML(\"<style>.container { width:90% !important; }</style>\"))\n",
    "pd.set_option('display.max_columns', 500)"
   ]
  },
  {
   "cell_type": "code",
   "execution_count": 4,
   "metadata": {},
   "outputs": [],
   "source": [
    "df = pd.read_csv(\"W207_Group_Project/ob_data_w207_filtered.csv\")"
   ]
  },
  {
   "cell_type": "code",
   "execution_count": 28,
   "metadata": {},
   "outputs": [
    {
     "name": "stdout",
     "output_type": "stream",
     "text": [
      "Column count: 45\n",
      "Column names: Index(['_id', 'deleted', 'endTime', 'exercise', 'initialStartTime', 'metric',\n",
      "       'removed_set', 'rpe', 'setID', 'setNumber', 'startTime', 'tags',\n",
      "       'userID', 'videoFileURL', 'videoType', 'weight', 'workoutID',\n",
      "       'RepCount', 'isValid', 'removed_rep', 'hardware', 'appVersion',\n",
      "       'deviceName', 'deviceIdentifier', 'time', 'StartMessg', 'RepN',\n",
      "       'AvgVel', 'ROM', 'PeakVel', 'PeakVelLoc', 'StartData', 'RepDur',\n",
      "       'TimeBWReps', 'TimeRepComp', 'TimeRepWait', 'SlowAllow', 'Backlight',\n",
      "       'MinAllow', 'PeakAccel', '_merge', 'rpe_num', 'weight_lbs',\n",
      "       'exercise_clean', 'exercise_clean2'],\n",
      "      dtype='object')\n",
      "\n",
      "clean label: ['bench' 'squat other' 'squat' 'deadlift' 'bench other' 'deadlift other']\n",
      "clean label2: ['bench' 'bench other' 'squat other' 'squat' 'deadlift' 'deadlift other']\n",
      "dataset size: 292910\n"
     ]
    }
   ],
   "source": [
    "print(\"Column count:\", len(df.columns))\n",
    "print(\"Column names:\", df.columns)\n",
    "print()\n",
    "print(\"clean label:\",df.exercise_clean.unique())\n",
    "print(\"clean label2:\", df.exercise_clean2.unique())\n",
    "print(\"dataset size:\", len(df))"
   ]
  },
  {
   "cell_type": "code",
   "execution_count": 48,
   "metadata": {},
   "outputs": [
    {
     "data": {
      "text/html": [
       "<div>\n",
       "<style scoped>\n",
       "    .dataframe tbody tr th:only-of-type {\n",
       "        vertical-align: middle;\n",
       "    }\n",
       "\n",
       "    .dataframe tbody tr th {\n",
       "        vertical-align: top;\n",
       "    }\n",
       "\n",
       "    .dataframe thead th {\n",
       "        text-align: right;\n",
       "    }\n",
       "</style>\n",
       "<table border=\"1\" class=\"dataframe\">\n",
       "  <thead>\n",
       "    <tr style=\"text-align: right;\">\n",
       "      <th></th>\n",
       "      <th>_id</th>\n",
       "      <th>deleted</th>\n",
       "      <th>endTime</th>\n",
       "      <th>exercise</th>\n",
       "      <th>initialStartTime</th>\n",
       "      <th>metric</th>\n",
       "      <th>removed_set</th>\n",
       "      <th>rpe</th>\n",
       "      <th>setID</th>\n",
       "      <th>setNumber</th>\n",
       "      <th>startTime</th>\n",
       "      <th>tags</th>\n",
       "      <th>userID</th>\n",
       "      <th>videoFileURL</th>\n",
       "      <th>videoType</th>\n",
       "      <th>weight</th>\n",
       "      <th>workoutID</th>\n",
       "      <th>RepCount</th>\n",
       "      <th>isValid</th>\n",
       "      <th>removed_rep</th>\n",
       "      <th>hardware</th>\n",
       "      <th>appVersion</th>\n",
       "      <th>deviceName</th>\n",
       "      <th>deviceIdentifier</th>\n",
       "      <th>time</th>\n",
       "      <th>StartMessg</th>\n",
       "      <th>RepN</th>\n",
       "      <th>AvgVel</th>\n",
       "      <th>ROM</th>\n",
       "      <th>PeakVel</th>\n",
       "      <th>PeakVelLoc</th>\n",
       "      <th>StartData</th>\n",
       "      <th>RepDur</th>\n",
       "      <th>TimeBWReps</th>\n",
       "      <th>TimeRepComp</th>\n",
       "      <th>TimeRepWait</th>\n",
       "      <th>SlowAllow</th>\n",
       "      <th>Backlight</th>\n",
       "      <th>MinAllow</th>\n",
       "      <th>PeakAccel</th>\n",
       "      <th>_merge</th>\n",
       "      <th>rpe_num</th>\n",
       "      <th>weight_lbs</th>\n",
       "      <th>exercise_clean</th>\n",
       "      <th>exercise_clean2</th>\n",
       "    </tr>\n",
       "  </thead>\n",
       "  <tbody>\n",
       "    <tr>\n",
       "      <th>0</th>\n",
       "      <td>000051e0-54b2-48d8-98d2-79f65505c3e6</td>\n",
       "      <td>NaN</td>\n",
       "      <td>NaN</td>\n",
       "      <td>Bench</td>\n",
       "      <td>2018-01-03 01:29:46.904</td>\n",
       "      <td>kgs</td>\n",
       "      <td>0.0</td>\n",
       "      <td>7.5</td>\n",
       "      <td>000051e0-54b2-48d8-98d2-79f65505c3e6</td>\n",
       "      <td>3.0</td>\n",
       "      <td>NaN</td>\n",
       "      <td>[]</td>\n",
       "      <td>5a2e998b05cbc9b8ef26ac7e</td>\n",
       "      <td>assets-library://asset/asset.mov?id=CFFFFAC8-0...</td>\n",
       "      <td>lift</td>\n",
       "      <td>87.5</td>\n",
       "      <td>5bac5444-7c37-49d0-be8e-32be1a09fbb1</td>\n",
       "      <td>0.0</td>\n",
       "      <td>True</td>\n",
       "      <td>False</td>\n",
       "      <td>ios</td>\n",
       "      <td>3.2.3</td>\n",
       "      <td>OB 6666</td>\n",
       "      <td>709A15B7-B43C-AF0E-953A-6D4CEFEB4C83</td>\n",
       "      <td>2018-01-03 01:29:46.902</td>\n",
       "      <td>-3456.0</td>\n",
       "      <td>11.0</td>\n",
       "      <td>0.25846</td>\n",
       "      <td>252.0</td>\n",
       "      <td>0.308408</td>\n",
       "      <td>37.0</td>\n",
       "      <td>NaN</td>\n",
       "      <td>978699.0</td>\n",
       "      <td>0.0</td>\n",
       "      <td>1.752134e+09</td>\n",
       "      <td>0.0</td>\n",
       "      <td>130000.0</td>\n",
       "      <td>10000.0</td>\n",
       "      <td>150000.0</td>\n",
       "      <td>11.07361</td>\n",
       "      <td>both</td>\n",
       "      <td>7.5</td>\n",
       "      <td>192.90425</td>\n",
       "      <td>bench</td>\n",
       "      <td>bench</td>\n",
       "    </tr>\n",
       "  </tbody>\n",
       "</table>\n",
       "</div>"
      ],
      "text/plain": [
       "                                    _id  deleted endTime exercise  \\\n",
       "0  000051e0-54b2-48d8-98d2-79f65505c3e6      NaN     NaN    Bench   \n",
       "\n",
       "          initialStartTime metric  removed_set  rpe  \\\n",
       "0  2018-01-03 01:29:46.904    kgs          0.0  7.5   \n",
       "\n",
       "                                  setID  setNumber startTime tags  \\\n",
       "0  000051e0-54b2-48d8-98d2-79f65505c3e6        3.0       NaN   []   \n",
       "\n",
       "                     userID  \\\n",
       "0  5a2e998b05cbc9b8ef26ac7e   \n",
       "\n",
       "                                        videoFileURL videoType weight  \\\n",
       "0  assets-library://asset/asset.mov?id=CFFFFAC8-0...      lift   87.5   \n",
       "\n",
       "                              workoutID  RepCount  isValid  removed_rep  \\\n",
       "0  5bac5444-7c37-49d0-be8e-32be1a09fbb1       0.0     True        False   \n",
       "\n",
       "  hardware appVersion deviceName                      deviceIdentifier  \\\n",
       "0      ios      3.2.3    OB 6666  709A15B7-B43C-AF0E-953A-6D4CEFEB4C83   \n",
       "\n",
       "                      time  StartMessg  RepN   AvgVel    ROM   PeakVel  \\\n",
       "0  2018-01-03 01:29:46.902     -3456.0  11.0  0.25846  252.0  0.308408   \n",
       "\n",
       "   PeakVelLoc  StartData    RepDur  TimeBWReps   TimeRepComp  TimeRepWait  \\\n",
       "0        37.0        NaN  978699.0         0.0  1.752134e+09          0.0   \n",
       "\n",
       "   SlowAllow  Backlight  MinAllow  PeakAccel _merge  rpe_num  weight_lbs  \\\n",
       "0   130000.0    10000.0  150000.0   11.07361   both      7.5   192.90425   \n",
       "\n",
       "  exercise_clean exercise_clean2  \n",
       "0          bench           bench  "
      ]
     },
     "execution_count": 48,
     "metadata": {},
     "output_type": "execute_result"
    }
   ],
   "source": [
    "df.head(1)"
   ]
  },
  {
   "cell_type": "code",
   "execution_count": 58,
   "metadata": {},
   "outputs": [],
   "source": [
    "df['rpe'] = pd.to_numeric(df['rpe'], errors='coerce')  # imports as a string\n",
    "\n",
    "# subset of columns that are likely to be interesting / predictive\n",
    "features = df[['rpe', 'RepCount', 'AvgVel', 'ROM', 'PeakVel', 'PeakVelLoc', 'RepDur', 'TimeBWReps', 'TimeRepComp', 'TimeRepWait', 'PeakAccel', 'weight_lbs']]\n",
    "labels = df['exercise_clean']"
   ]
  },
  {
   "cell_type": "code",
   "execution_count": 59,
   "metadata": {},
   "outputs": [
    {
     "name": "stdout",
     "output_type": "stream",
     "text": [
      "(200000, 12)\n",
      "(200000,)\n",
      "(92910, 12)\n",
      "(92910,)\n"
     ]
    }
   ],
   "source": [
    "train_data = features[:200000].copy()\n",
    "train_labels = labels[:200000].copy()\n",
    "test_data = features[200000:].copy()\n",
    "test_labels = labels[200000:].copy()\n",
    "\n",
    "print(train_data.shape)\n",
    "print(train_labels.shape)\n",
    "print(test_data.shape)\n",
    "print(test_labels.shape)"
   ]
  },
  {
   "cell_type": "code",
   "execution_count": 61,
   "metadata": {},
   "outputs": [],
   "source": [
    "# too many NaN\n",
    "# fill with column mean\n",
    "# move this to the pipeline?   sklearn Imputer\n",
    "\n",
    "train_data.fillna(train_data.mean(),inplace=True)\n",
    "test_data.fillna(test_data.mean(), inplace=True)"
   ]
  },
  {
   "cell_type": "code",
   "execution_count": 72,
   "metadata": {},
   "outputs": [],
   "source": [
    "pipeline = Pipeline(steps=[\n",
    "    ('scale', preprocessing.StandardScaler()),\n",
    "    ('PCA', PCA()),\n",
    "    ('randomforest', RandomForestClassifier())])\n",
    "\n",
    "parameters = {\n",
    "    \"PCA__n_components\":[2,4,6],\n",
    "    \"randomforest__n_estimators\":[2,4,6,8],\n",
    "}\n",
    "\n",
    "# scoring method - F1\n",
    "f1 = metrics.make_scorer(metrics.f1_score, average=\"micro\")"
   ]
  },
  {
   "cell_type": "code",
   "execution_count": 69,
   "metadata": {},
   "outputs": [
    {
     "data": {
      "text/plain": [
       "0.7324507587988376"
      ]
     },
     "execution_count": 69,
     "metadata": {},
     "output_type": "execute_result"
    }
   ],
   "source": [
    "pipeline.fit(train_data, train_labels)\n",
    "pipeline.score(test_data, test_labels)"
   ]
  },
  {
   "cell_type": "code",
   "execution_count": 74,
   "metadata": {},
   "outputs": [
    {
     "data": {
      "text/plain": [
       "0.6693897319987084"
      ]
     },
     "execution_count": 74,
     "metadata": {},
     "output_type": "execute_result"
    }
   ],
   "source": [
    "grid_search = GridSearchCV(pipeline, parameters, scoring=f1)\n",
    "grid_search.fit(train_data, train_labels)\n",
    "grid_search.score(test_data, test_labels)"
   ]
  },
  {
   "cell_type": "code",
   "execution_count": null,
   "metadata": {},
   "outputs": [],
   "source": []
  },
  {
   "cell_type": "code",
   "execution_count": null,
   "metadata": {},
   "outputs": [],
   "source": []
  }
 ],
 "metadata": {
  "kernelspec": {
   "display_name": "Python 3",
   "language": "python",
   "name": "python3"
  },
  "language_info": {
   "codemirror_mode": {
    "name": "ipython",
    "version": 3
   },
   "file_extension": ".py",
   "mimetype": "text/x-python",
   "name": "python",
   "nbconvert_exporter": "python",
   "pygments_lexer": "ipython3",
   "version": "3.6.4"
  }
 },
 "nbformat": 4,
 "nbformat_minor": 2
}
