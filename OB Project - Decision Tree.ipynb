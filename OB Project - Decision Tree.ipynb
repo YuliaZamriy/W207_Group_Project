{
 "cells": [
  {
   "cell_type": "code",
   "execution_count": 1,
   "metadata": {},
   "outputs": [],
   "source": [
    "import pandas as pd\n",
    "import numpy as np\n",
    "import itertools\n",
    "import matplotlib.pyplot as plt\n",
    "%matplotlib inline\n",
    "\n",
    "from sklearn.ensemble import RandomForestClassifier\n",
    "from sklearn.pipeline import Pipeline\n",
    "from sklearn import preprocessing\n",
    "from sklearn.decomposition import PCA\n",
    "from sklearn.model_selection import GridSearchCV\n",
    "from sklearn import metrics\n",
    "from sklearn.model_selection import train_test_split"
   ]
  },
  {
   "cell_type": "code",
   "execution_count": 2,
   "metadata": {},
   "outputs": [
    {
     "data": {
      "text/html": [
       "<style>.container { width:90% !important; }</style>"
      ],
      "text/plain": [
       "<IPython.core.display.HTML object>"
      ]
     },
     "metadata": {},
     "output_type": "display_data"
    }
   ],
   "source": [
    "# Jupyter viewing options\n",
    "from IPython.core.display import display, HTML\n",
    "display(HTML(\"<style>.container { width:90% !important; }</style>\"))\n",
    "pd.set_option('display.max_columns', 500)"
   ]
  },
  {
   "cell_type": "markdown",
   "metadata": {},
   "source": [
    "### Import and clean data"
   ]
  },
  {
   "cell_type": "code",
   "execution_count": 3,
   "metadata": {},
   "outputs": [],
   "source": [
    "df = pd.read_csv(\"W207_Group_Project/ob_data_w207_filtered.csv\")"
   ]
  },
  {
   "cell_type": "code",
   "execution_count": null,
   "metadata": {},
   "outputs": [],
   "source": [
    "print(\"Column count:\", len(df.columns))\n",
    "print(\"Column names:\", df.columns)\n",
    "print()\n",
    "print(\"clean label:\",df.exercise_clean.unique())\n",
    "print(\"clean label2:\", df.exercise_clean2.unique())\n",
    "print(\"dataset size:\", len(df))"
   ]
  },
  {
   "cell_type": "code",
   "execution_count": 4,
   "metadata": {},
   "outputs": [],
   "source": [
    "# simplify the exercise labels to just 3 classes\n",
    "\n",
    "def ex_name(exercise):\n",
    "    \n",
    "    if \"bench\" in exercise.lower():\n",
    "        return \"bench\"\n",
    "    elif \"dead\" in exercise.lower():\n",
    "        return \"dead lift\"\n",
    "    elif \"squat\" in exercise.lower():\n",
    "        return \"squat\"\n",
    "    else:\n",
    "        return exercise.lower()\n",
    "    \n",
    "df['exercise_3classes'] = df['exercise_clean'].apply(ex_name)\n",
    "\n",
    "df['rpe'] = pd.to_numeric(df['rpe'], errors='coerce')  # imports as a string, coerce to numeric"
   ]
  },
  {
   "cell_type": "markdown",
   "metadata": {},
   "source": [
    "### Define Features and Training Data Sets"
   ]
  },
  {
   "cell_type": "code",
   "execution_count": 5,
   "metadata": {},
   "outputs": [],
   "source": [
    "# subset of columns that are likely to be interesting / predictive\n",
    "features = df[['rpe', 'RepCount', 'AvgVel', 'ROM', 'PeakVel', 'PeakVelLoc', 'RepDur', 'TimeBWReps', 'TimeRepComp', 'TimeRepWait', 'PeakAccel', 'weight_lbs']]\n",
    "\n",
    "# labels\n",
    "labels = df['exercise_3classes']"
   ]
  },
  {
   "cell_type": "code",
   "execution_count": 6,
   "metadata": {},
   "outputs": [],
   "source": [
    "# shuffle data and divide into train and test\n",
    "train_data, test_data, train_labels, test_labels = train_test_split(features, labels, test_size=0.3, random_state=100)"
   ]
  },
  {
   "cell_type": "code",
   "execution_count": 7,
   "metadata": {},
   "outputs": [
    {
     "name": "stdout",
     "output_type": "stream",
     "text": [
      "(205037, 12)\n",
      "(205037,)\n",
      "(87873, 12)\n",
      "(87873,)\n"
     ]
    }
   ],
   "source": [
    "# old way -- delete later\n",
    "# train_data = features[:200000].copy()\n",
    "# train_labels = labels[:200000].copy()\n",
    "# test_data = features[200000:].copy()\n",
    "# test_labels = labels[200000:].copy()\n",
    "\n",
    "print(train_data.shape)\n",
    "print(train_labels.shape)\n",
    "print(test_data.shape)\n",
    "print(test_labels.shape)"
   ]
  },
  {
   "cell_type": "markdown",
   "metadata": {},
   "source": [
    "### Model Formation"
   ]
  },
  {
   "cell_type": "code",
   "execution_count": 8,
   "metadata": {},
   "outputs": [],
   "source": [
    "pipeline = Pipeline(steps=[\n",
    "    ('imputer', preprocessing.Imputer(strategy='mean')),\n",
    "    ('scale', preprocessing.StandardScaler()),\n",
    "    ('PCA', PCA()),\n",
    "    ('randomforest', RandomForestClassifier())])\n",
    "\n",
    "parameters = {\n",
    "    \"PCA__n_components\":[2,4,6],\n",
    "    \"randomforest__n_estimators\":[2,4,6,8],\n",
    "}\n",
    "\n",
    "# scoring method - F1\n",
    "f1 = metrics.make_scorer(metrics.f1_score, average=\"micro\")"
   ]
  },
  {
   "cell_type": "code",
   "execution_count": 10,
   "metadata": {},
   "outputs": [
    {
     "name": "stdout",
     "output_type": "stream",
     "text": [
      "score: 0.9010276194052781\n"
     ]
    }
   ],
   "source": [
    "grid_search = GridSearchCV(pipeline, parameters, scoring=f1)\n",
    "grid_search.fit(train_data, train_labels)\n",
    "\n",
    "test_predicts = grid_search.predict(test_data)\n",
    "classes = grid_search.classes_\n",
    "\n",
    "print(\"score:\", grid_search.score(test_data, test_labels))\n"
   ]
  },
  {
   "cell_type": "markdown",
   "metadata": {},
   "source": [
    "### Model Evaluation"
   ]
  },
  {
   "cell_type": "code",
   "execution_count": 11,
   "metadata": {},
   "outputs": [
    {
     "name": "stdout",
     "output_type": "stream",
     "text": [
      "             precision    recall  f1-score   support\n",
      "\n",
      "      bench       0.93      0.97      0.95     39004\n",
      "  dead lift       0.78      0.74      0.76     12999\n",
      "      squat       0.91      0.89      0.90     35870\n",
      "\n",
      "avg / total       0.90      0.90      0.90     87873\n",
      "\n"
     ]
    }
   ],
   "source": [
    "# classification report\n",
    "\n",
    "cr = metrics.classification_report(test_labels, test_predicts)\n",
    "\n",
    "print(cr)"
   ]
  },
  {
   "cell_type": "code",
   "execution_count": 12,
   "metadata": {},
   "outputs": [
    {
     "name": "stdout",
     "output_type": "stream",
     "text": [
      "Confusion matrix, without normalization\n",
      "[[37763   453   788]\n",
      " [  911  9668  2420]\n",
      " [ 1877  2248 31745]]\n",
      "Normalized confusion matrix\n",
      "[[0.97 0.01 0.02]\n",
      " [0.07 0.74 0.19]\n",
      " [0.05 0.06 0.89]]\n"
     ]
    },
    {
     "data": {
      "image/png": "[encoded data removed]",
      "text/plain": [
       "<matplotlib.figure.Figure at 0x113a8df98>"
      ]
     },
     "metadata": {},
     "output_type": "display_data"
    },
    {
     "data": {
      "image/png": "[encoded data removed]",
      "text/plain": [
       "<matplotlib.figure.Figure at 0x113aa1668>"
      ]
     },
     "metadata": {},
     "output_type": "display_data"
    }
   ],
   "source": [
    "# confusion matrix\n",
    "\n",
    "cm = metrics.confusion_matrix(test_labels, test_predicts)\n",
    "np.set_printoptions(precision=2)\n",
    "\n",
    "\n",
    "# borrowed from scikit learn tutorial\n",
    "# http://scikit-learn.org/stable/auto_examples/model_selection/plot_confusion_matrix.html#sphx-glr-auto-examples-model-selection-plot-confusion-matrix-py\n",
    "\n",
    "def plot_confusion_matrix(cm, classes,\n",
    "                          normalize=False,\n",
    "                          title='Confusion matrix',\n",
    "                          cmap=plt.cm.Blues):\n",
    "    \"\"\"\n",
    "    This function prints and plots the confusion matrix.\n",
    "    Normalization can be applied by setting `normalize=True`.\n",
    "    \"\"\"\n",
    "    if normalize:\n",
    "        cm = cm.astype('float') / cm.sum(axis=1)[:, np.newaxis]\n",
    "        print(\"Normalized confusion matrix\")\n",
    "    else:\n",
    "        print('Confusion matrix, without normalization')\n",
    "\n",
    "    print(cm)\n",
    "\n",
    "    plt.imshow(cm, interpolation='nearest', cmap=cmap)\n",
    "    plt.title(title)\n",
    "    plt.colorbar()\n",
    "    tick_marks = np.arange(len(classes))\n",
    "    plt.xticks(tick_marks, classes, rotation=45)\n",
    "    plt.yticks(tick_marks, classes)\n",
    "\n",
    "    fmt = '.2f' if normalize else 'd'\n",
    "    thresh = cm.max() / 2.\n",
    "    for i, j in itertools.product(range(cm.shape[0]), range(cm.shape[1])):\n",
    "        plt.text(j, i, format(cm[i, j], fmt),\n",
    "                 horizontalalignment=\"center\",\n",
    "                 color=\"white\" if cm[i, j] > thresh else \"black\")\n",
    "\n",
    "    plt.tight_layout()\n",
    "    plt.ylabel('True label')\n",
    "    plt.xlabel('Predicted label')\n",
    "\n",
    "\n",
    "plt.figure()\n",
    "plot_confusion_matrix(cm, classes, title=\"Confusion Matrix\")\n",
    "\n",
    "plt.figure()\n",
    "plot_confusion_matrix(cm, classes, normalize=True, title='Normalized Confusion Matrix')\n",
    "    \n",
    "plt.show()"
   ]
  },
  {
   "cell_type": "code",
   "execution_count": null,
   "metadata": {},
   "outputs": [],
   "source": []
  }
 ],
 "metadata": {
  "kernelspec": {
   "display_name": "Python 3",
   "language": "python",
   "name": "python3"
  },
  "language_info": {
   "codemirror_mode": {
    "name": "ipython",
    "version": 3
   },
   "file_extension": ".py",
   "mimetype": "text/x-python",
   "name": "python",
   "nbconvert_exporter": "python",
   "pygments_lexer": "ipython3",
   "version": "3.6.4"
  }
 },
 "nbformat": 4,
 "nbformat_minor": 2
}
