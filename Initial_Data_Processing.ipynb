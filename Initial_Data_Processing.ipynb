{
 "cells": [
  {
   "cell_type": "code",
   "execution_count": 67,
   "metadata": {},
   "outputs": [],
   "source": [
    "import pandas as pd\n",
    "import numpy as np"
   ]
  },
  {
   "cell_type": "code",
   "execution_count": 52,
   "metadata": {},
   "outputs": [],
   "source": [
    "sets_onerow = pd.read_csv(\"set_data_w207.csv\", nrows=1)"
   ]
  },
  {
   "cell_type": "code",
   "execution_count": 78,
   "metadata": {},
   "outputs": [
    {
     "data": {
      "text/plain": [
       "['Unnamed: 0',\n",
       " '_id',\n",
       " 'deleted',\n",
       " 'endTime',\n",
       " 'exercise',\n",
       " 'initialStartTime',\n",
       " 'metric',\n",
       " 'removed',\n",
       " 'rpe',\n",
       " 'setID',\n",
       " 'setNumber',\n",
       " 'startTime',\n",
       " 'tags',\n",
       " 'userID',\n",
       " 'weight',\n",
       " 'workoutID',\n",
       " 'exercise_valid',\n",
       " 'exercise_dirty']"
      ]
     },
     "execution_count": 78,
     "metadata": {},
     "output_type": "execute_result"
    }
   ],
   "source": [
    "list(sets_onerow)"
   ]
  },
  {
   "cell_type": "code",
   "execution_count": 306,
   "metadata": {},
   "outputs": [],
   "source": [
    "set_columns_keep = ['endTime', 'exercise', 'initialStartTime',\n",
    " 'metric', 'rpe', 'setID', 'setNumber', 'startTime', 'tags', \n",
    " 'userID', 'weight', 'workoutID']\n",
    "set_converters={\"endTime\": pd.to_datetime, \n",
    "                \"startTime\": pd.to_datetime,\n",
    "                \"initialStartTime\": pd.to_datetime}"
   ]
  },
  {
   "cell_type": "code",
   "execution_count": 307,
   "metadata": {},
   "outputs": [
    {
     "data": {
      "text/plain": [
       "(68157, 12)"
      ]
     },
     "execution_count": 307,
     "metadata": {},
     "output_type": "execute_result"
    }
   ],
   "source": [
    "sets = pd.read_csv(\"set_data_w207.csv\", \n",
    "                   usecols=set_columns_keep, \n",
    "                   converters=set_converters)\n",
    "sets.shape"
   ]
  },
  {
   "cell_type": "code",
   "execution_count": 308,
   "metadata": {},
   "outputs": [
    {
     "name": "stdout",
     "output_type": "stream",
     "text": [
      "endTime datetime64[ns]\n",
      "exercise object\n",
      "initialStartTime datetime64[ns]\n",
      "metric object\n",
      "rpe object\n",
      "setID object\n",
      "setNumber float64\n",
      "startTime datetime64[ns]\n",
      "tags object\n",
      "userID object\n",
      "weight object\n",
      "workoutID object\n"
     ]
    }
   ],
   "source": [
    "for c in list(sets):\n",
    "    print(c, sets[c].dtype)"
   ]
  },
  {
   "cell_type": "code",
   "execution_count": 309,
   "metadata": {},
   "outputs": [
    {
     "data": {
      "text/html": [
       "<div>\n",
       "<style scoped>\n",
       "    .dataframe tbody tr th:only-of-type {\n",
       "        vertical-align: middle;\n",
       "    }\n",
       "\n",
       "    .dataframe tbody tr th {\n",
       "        vertical-align: top;\n",
       "    }\n",
       "\n",
       "    .dataframe thead th {\n",
       "        text-align: right;\n",
       "    }\n",
       "</style>\n",
       "<table border=\"1\" class=\"dataframe\">\n",
       "  <thead>\n",
       "    <tr style=\"text-align: right;\">\n",
       "      <th></th>\n",
       "      <th>endTime</th>\n",
       "      <th>exercise</th>\n",
       "      <th>initialStartTime</th>\n",
       "      <th>metric</th>\n",
       "      <th>rpe</th>\n",
       "      <th>setID</th>\n",
       "      <th>setNumber</th>\n",
       "      <th>startTime</th>\n",
       "      <th>tags</th>\n",
       "      <th>userID</th>\n",
       "      <th>weight</th>\n",
       "      <th>workoutID</th>\n",
       "    </tr>\n",
       "  </thead>\n",
       "  <tbody>\n",
       "    <tr>\n",
       "      <th>0</th>\n",
       "      <td>NaT</td>\n",
       "      <td>Bench</td>\n",
       "      <td>2018-01-03 01:29:46.904</td>\n",
       "      <td>kgs</td>\n",
       "      <td>7.5</td>\n",
       "      <td>000051e0-54b2-48d8-98d2-79f65505c3e6</td>\n",
       "      <td>3.0</td>\n",
       "      <td>NaT</td>\n",
       "      <td>[]</td>\n",
       "      <td>5a2e998b05cbc9b8ef26ac7e</td>\n",
       "      <td>87.5</td>\n",
       "      <td>5bac5444-7c37-49d0-be8e-32be1a09fbb1</td>\n",
       "    </tr>\n",
       "    <tr>\n",
       "      <th>1</th>\n",
       "      <td>NaT</td>\n",
       "      <td>bench</td>\n",
       "      <td>2018-04-25 22:00:26.162</td>\n",
       "      <td>lbs</td>\n",
       "      <td>NaN</td>\n",
       "      <td>0000d1a9-9437-48af-85af-62075adf8e97</td>\n",
       "      <td>9.0</td>\n",
       "      <td>NaT</td>\n",
       "      <td>['red band']</td>\n",
       "      <td>58fbcaf26ca711fcd8cb7b6f</td>\n",
       "      <td>185</td>\n",
       "      <td>c3591d5c-245e-4137-9f9d-fcfa536f2bb3</td>\n",
       "    </tr>\n",
       "    <tr>\n",
       "      <th>2</th>\n",
       "      <td>NaT</td>\n",
       "      <td>Bench</td>\n",
       "      <td>2018-02-28 08:57:02.275</td>\n",
       "      <td>kgs</td>\n",
       "      <td>8,5</td>\n",
       "      <td>0000f994-9d3f-421a-9305-41759564f8af</td>\n",
       "      <td>5.0</td>\n",
       "      <td>NaT</td>\n",
       "      <td>[]</td>\n",
       "      <td>595facd66ca711fcd8cb7ba8</td>\n",
       "      <td>100</td>\n",
       "      <td>3d17321e-398d-4f4f-bf4b-7b15ba5dbce9</td>\n",
       "    </tr>\n",
       "    <tr>\n",
       "      <th>3</th>\n",
       "      <td>NaT</td>\n",
       "      <td>bench</td>\n",
       "      <td>2018-03-21 18:56:40.974</td>\n",
       "      <td>lbs</td>\n",
       "      <td>9</td>\n",
       "      <td>00018509-ec9f-4722-8bbd-05977bb8826c</td>\n",
       "      <td>5.0</td>\n",
       "      <td>NaT</td>\n",
       "      <td>['belt']</td>\n",
       "      <td>59b5542b85ea1c6b42e4b20d</td>\n",
       "      <td>175</td>\n",
       "      <td>9d29a049-1771-4061-9166-bb862dabf778</td>\n",
       "    </tr>\n",
       "    <tr>\n",
       "      <th>4</th>\n",
       "      <td>NaT</td>\n",
       "      <td>Bench</td>\n",
       "      <td>2017-11-22 21:36:57.228</td>\n",
       "      <td>lbs</td>\n",
       "      <td>NaN</td>\n",
       "      <td>0001ecf4-1fa2-4e01-a51a-968ddac6509a</td>\n",
       "      <td>4.0</td>\n",
       "      <td>NaT</td>\n",
       "      <td>['Warm-Up']</td>\n",
       "      <td>59d2a2e885ea1c6b42e4b2a0</td>\n",
       "      <td>135</td>\n",
       "      <td>6db4cc37-985c-4a2f-9793-4bddb3aee25f</td>\n",
       "    </tr>\n",
       "  </tbody>\n",
       "</table>\n",
       "</div>"
      ],
      "text/plain": [
       "  endTime exercise        initialStartTime metric  rpe  \\\n",
       "0     NaT    Bench 2018-01-03 01:29:46.904    kgs  7.5   \n",
       "1     NaT   bench  2018-04-25 22:00:26.162    lbs  NaN   \n",
       "2     NaT    Bench 2018-02-28 08:57:02.275    kgs  8,5   \n",
       "3     NaT    bench 2018-03-21 18:56:40.974    lbs    9   \n",
       "4     NaT    Bench 2017-11-22 21:36:57.228    lbs  NaN   \n",
       "\n",
       "                                  setID  setNumber startTime          tags  \\\n",
       "0  000051e0-54b2-48d8-98d2-79f65505c3e6        3.0       NaT            []   \n",
       "1  0000d1a9-9437-48af-85af-62075adf8e97        9.0       NaT  ['red band']   \n",
       "2  0000f994-9d3f-421a-9305-41759564f8af        5.0       NaT            []   \n",
       "3  00018509-ec9f-4722-8bbd-05977bb8826c        5.0       NaT      ['belt']   \n",
       "4  0001ecf4-1fa2-4e01-a51a-968ddac6509a        4.0       NaT   ['Warm-Up']   \n",
       "\n",
       "                     userID weight                             workoutID  \n",
       "0  5a2e998b05cbc9b8ef26ac7e   87.5  5bac5444-7c37-49d0-be8e-32be1a09fbb1  \n",
       "1  58fbcaf26ca711fcd8cb7b6f    185  c3591d5c-245e-4137-9f9d-fcfa536f2bb3  \n",
       "2  595facd66ca711fcd8cb7ba8    100  3d17321e-398d-4f4f-bf4b-7b15ba5dbce9  \n",
       "3  59b5542b85ea1c6b42e4b20d    175  9d29a049-1771-4061-9166-bb862dabf778  \n",
       "4  59d2a2e885ea1c6b42e4b2a0    135  6db4cc37-985c-4a2f-9793-4bddb3aee25f  "
      ]
     },
     "execution_count": 309,
     "metadata": {},
     "output_type": "execute_result"
    }
   ],
   "source": [
    "sets.head()"
   ]
  },
  {
   "cell_type": "code",
   "execution_count": 41,
   "metadata": {},
   "outputs": [
    {
     "data": {
      "text/plain": [
       "['Unnamed: 0',\n",
       " 'setID',\n",
       " 'RepCount',\n",
       " 'isValid',\n",
       " 'removed',\n",
       " 'hardware',\n",
       " 'appVersion',\n",
       " 'deviceName',\n",
       " 'deviceIdentifier',\n",
       " 'time',\n",
       " 'StartMessg',\n",
       " 'RepN',\n",
       " 'AvgVel',\n",
       " 'ROM',\n",
       " 'PeakVel',\n",
       " 'PeakVelLoc',\n",
       " 'PeakAccel',\n",
       " 'RepDur',\n",
       " 'TimeBWReps',\n",
       " 'TimeRepComp',\n",
       " 'TimeRepWait',\n",
       " 'SlowAllow',\n",
       " 'Backlight']"
      ]
     },
     "execution_count": 41,
     "metadata": {},
     "output_type": "execute_result"
    }
   ],
   "source": [
    "reps_new_onerow = pd.read_csv(\"rep_data_w207_new.csv\", nrows=1)\n",
    "list(reps_new_onerow)"
   ]
  },
  {
   "cell_type": "code",
   "execution_count": 174,
   "metadata": {},
   "outputs": [],
   "source": [
    "rep_columns_keep = ['setID', 'RepCount', 'RepN', 'AvgVel', 'ROM',\n",
    " 'PeakVel', 'PeakVelLoc', 'PeakAccel', 'RepDur', 'TimeBWReps', 'TimeRepComp', 'TimeRepWait', 'SlowAllow']"
   ]
  },
  {
   "cell_type": "code",
   "execution_count": 204,
   "metadata": {
    "scrolled": true
   },
   "outputs": [],
   "source": [
    "reps_new = pd.read_csv(\"rep_data_w207_new.csv\", \n",
    "                       usecols=rep_columns_keep,\n",
    "                       na_values = \"Infinity\")\n",
    "reps_old17 = pd.read_csv(\"rep_data_w207_old17.csv\",  \n",
    "                       usecols=rep_columns_keep,\n",
    "                       na_values = \"Infinity\")\n",
    "reps_old19 = pd.read_csv(\"rep_data_w207_old19.csv\", \n",
    "                       usecols=rep_columns_keep,\n",
    "                       na_values = \"Infinity\")"
   ]
  },
  {
   "cell_type": "code",
   "execution_count": 205,
   "metadata": {},
   "outputs": [
    {
     "data": {
      "text/plain": [
       "((241761, 13), (8306, 13), (16113, 13))"
      ]
     },
     "execution_count": 205,
     "metadata": {},
     "output_type": "execute_result"
    }
   ],
   "source": [
    "reps_new.shape, reps_old17.shape, reps_old19.shape"
   ]
  },
  {
   "cell_type": "code",
   "execution_count": 206,
   "metadata": {},
   "outputs": [
    {
     "data": {
      "text/plain": [
       "(266180, 13)"
      ]
     },
     "execution_count": 206,
     "metadata": {},
     "output_type": "execute_result"
    }
   ],
   "source": [
    "reps_all = pd.concat([reps_new, reps_old17, reps_old19])\n",
    "reps_all.shape"
   ]
  },
  {
   "cell_type": "code",
   "execution_count": 217,
   "metadata": {},
   "outputs": [
    {
     "data": {
      "text/plain": [
       "19"
      ]
     },
     "execution_count": 217,
     "metadata": {},
     "output_type": "execute_result"
    }
   ],
   "source": [
    "sum(pd.isna(reps_all[\"AvgVel\"]))"
   ]
  },
  {
   "cell_type": "code",
   "execution_count": 310,
   "metadata": {},
   "outputs": [
    {
     "data": {
      "text/plain": [
       "(267364, 24)"
      ]
     },
     "execution_count": 310,
     "metadata": {},
     "output_type": "execute_result"
    }
   ],
   "source": [
    "full_data = sets.merge(reps_all, on = \"setID\", how = \"left\")\n",
    "full_data.shape"
   ]
  },
  {
   "cell_type": "code",
   "execution_count": 311,
   "metadata": {},
   "outputs": [
    {
     "data": {
      "text/html": [
       "<div>\n",
       "<style scoped>\n",
       "    .dataframe tbody tr th:only-of-type {\n",
       "        vertical-align: middle;\n",
       "    }\n",
       "\n",
       "    .dataframe tbody tr th {\n",
       "        vertical-align: top;\n",
       "    }\n",
       "\n",
       "    .dataframe thead th {\n",
       "        text-align: right;\n",
       "    }\n",
       "</style>\n",
       "<table border=\"1\" class=\"dataframe\">\n",
       "  <thead>\n",
       "    <tr style=\"text-align: right;\">\n",
       "      <th></th>\n",
       "      <th>endTime</th>\n",
       "      <th>exercise</th>\n",
       "      <th>initialStartTime</th>\n",
       "      <th>metric</th>\n",
       "      <th>rpe</th>\n",
       "      <th>setID</th>\n",
       "      <th>setNumber</th>\n",
       "      <th>startTime</th>\n",
       "      <th>tags</th>\n",
       "      <th>userID</th>\n",
       "      <th>...</th>\n",
       "      <th>AvgVel</th>\n",
       "      <th>ROM</th>\n",
       "      <th>PeakVel</th>\n",
       "      <th>PeakVelLoc</th>\n",
       "      <th>PeakAccel</th>\n",
       "      <th>RepDur</th>\n",
       "      <th>TimeBWReps</th>\n",
       "      <th>TimeRepComp</th>\n",
       "      <th>TimeRepWait</th>\n",
       "      <th>SlowAllow</th>\n",
       "    </tr>\n",
       "  </thead>\n",
       "  <tbody>\n",
       "    <tr>\n",
       "      <th>0</th>\n",
       "      <td>NaT</td>\n",
       "      <td>Bench</td>\n",
       "      <td>2018-01-03 01:29:46.904</td>\n",
       "      <td>kgs</td>\n",
       "      <td>7.5</td>\n",
       "      <td>000051e0-54b2-48d8-98d2-79f65505c3e6</td>\n",
       "      <td>3.0</td>\n",
       "      <td>NaT</td>\n",
       "      <td>[]</td>\n",
       "      <td>5a2e998b05cbc9b8ef26ac7e</td>\n",
       "      <td>...</td>\n",
       "      <td>0.258460</td>\n",
       "      <td>252.0</td>\n",
       "      <td>0.308408</td>\n",
       "      <td>37.0</td>\n",
       "      <td>11.073610</td>\n",
       "      <td>978699.0</td>\n",
       "      <td>0.0</td>\n",
       "      <td>1.752134e+09</td>\n",
       "      <td>0.0</td>\n",
       "      <td>130000.0</td>\n",
       "    </tr>\n",
       "    <tr>\n",
       "      <th>1</th>\n",
       "      <td>NaT</td>\n",
       "      <td>Bench</td>\n",
       "      <td>2018-01-03 01:29:46.904</td>\n",
       "      <td>kgs</td>\n",
       "      <td>7.5</td>\n",
       "      <td>000051e0-54b2-48d8-98d2-79f65505c3e6</td>\n",
       "      <td>3.0</td>\n",
       "      <td>NaT</td>\n",
       "      <td>[]</td>\n",
       "      <td>5a2e998b05cbc9b8ef26ac7e</td>\n",
       "      <td>...</td>\n",
       "      <td>0.273285</td>\n",
       "      <td>250.0</td>\n",
       "      <td>0.368293</td>\n",
       "      <td>72.0</td>\n",
       "      <td>0.714399</td>\n",
       "      <td>915894.0</td>\n",
       "      <td>0.0</td>\n",
       "      <td>1.754801e+09</td>\n",
       "      <td>0.0</td>\n",
       "      <td>130000.0</td>\n",
       "    </tr>\n",
       "    <tr>\n",
       "      <th>2</th>\n",
       "      <td>NaT</td>\n",
       "      <td>Bench</td>\n",
       "      <td>2018-01-03 01:29:46.904</td>\n",
       "      <td>kgs</td>\n",
       "      <td>7.5</td>\n",
       "      <td>000051e0-54b2-48d8-98d2-79f65505c3e6</td>\n",
       "      <td>3.0</td>\n",
       "      <td>NaT</td>\n",
       "      <td>[]</td>\n",
       "      <td>5a2e998b05cbc9b8ef26ac7e</td>\n",
       "      <td>...</td>\n",
       "      <td>0.268205</td>\n",
       "      <td>263.0</td>\n",
       "      <td>0.378763</td>\n",
       "      <td>72.0</td>\n",
       "      <td>0.730685</td>\n",
       "      <td>983460.0</td>\n",
       "      <td>0.0</td>\n",
       "      <td>1.757625e+09</td>\n",
       "      <td>0.0</td>\n",
       "      <td>130000.0</td>\n",
       "    </tr>\n",
       "    <tr>\n",
       "      <th>3</th>\n",
       "      <td>NaT</td>\n",
       "      <td>Bench</td>\n",
       "      <td>2018-01-03 01:29:46.904</td>\n",
       "      <td>kgs</td>\n",
       "      <td>7.5</td>\n",
       "      <td>000051e0-54b2-48d8-98d2-79f65505c3e6</td>\n",
       "      <td>3.0</td>\n",
       "      <td>NaT</td>\n",
       "      <td>[]</td>\n",
       "      <td>5a2e998b05cbc9b8ef26ac7e</td>\n",
       "      <td>...</td>\n",
       "      <td>0.268338</td>\n",
       "      <td>252.0</td>\n",
       "      <td>0.392775</td>\n",
       "      <td>72.0</td>\n",
       "      <td>0.923557</td>\n",
       "      <td>942963.0</td>\n",
       "      <td>0.0</td>\n",
       "      <td>1.760793e+09</td>\n",
       "      <td>0.0</td>\n",
       "      <td>130000.0</td>\n",
       "    </tr>\n",
       "    <tr>\n",
       "      <th>4</th>\n",
       "      <td>NaT</td>\n",
       "      <td>Bench</td>\n",
       "      <td>2018-01-03 01:29:46.904</td>\n",
       "      <td>kgs</td>\n",
       "      <td>7.5</td>\n",
       "      <td>000051e0-54b2-48d8-98d2-79f65505c3e6</td>\n",
       "      <td>3.0</td>\n",
       "      <td>NaT</td>\n",
       "      <td>[]</td>\n",
       "      <td>5a2e998b05cbc9b8ef26ac7e</td>\n",
       "      <td>...</td>\n",
       "      <td>0.254381</td>\n",
       "      <td>250.0</td>\n",
       "      <td>0.389622</td>\n",
       "      <td>77.0</td>\n",
       "      <td>0.827607</td>\n",
       "      <td>983978.0</td>\n",
       "      <td>0.0</td>\n",
       "      <td>1.764224e+09</td>\n",
       "      <td>0.0</td>\n",
       "      <td>130000.0</td>\n",
       "    </tr>\n",
       "  </tbody>\n",
       "</table>\n",
       "<p>5 rows × 24 columns</p>\n",
       "</div>"
      ],
      "text/plain": [
       "  endTime exercise        initialStartTime metric  rpe  \\\n",
       "0     NaT    Bench 2018-01-03 01:29:46.904    kgs  7.5   \n",
       "1     NaT    Bench 2018-01-03 01:29:46.904    kgs  7.5   \n",
       "2     NaT    Bench 2018-01-03 01:29:46.904    kgs  7.5   \n",
       "3     NaT    Bench 2018-01-03 01:29:46.904    kgs  7.5   \n",
       "4     NaT    Bench 2018-01-03 01:29:46.904    kgs  7.5   \n",
       "\n",
       "                                  setID  setNumber startTime tags  \\\n",
       "0  000051e0-54b2-48d8-98d2-79f65505c3e6        3.0       NaT   []   \n",
       "1  000051e0-54b2-48d8-98d2-79f65505c3e6        3.0       NaT   []   \n",
       "2  000051e0-54b2-48d8-98d2-79f65505c3e6        3.0       NaT   []   \n",
       "3  000051e0-54b2-48d8-98d2-79f65505c3e6        3.0       NaT   []   \n",
       "4  000051e0-54b2-48d8-98d2-79f65505c3e6        3.0       NaT   []   \n",
       "\n",
       "                     userID    ...        AvgVel    ROM   PeakVel  PeakVelLoc  \\\n",
       "0  5a2e998b05cbc9b8ef26ac7e    ...      0.258460  252.0  0.308408        37.0   \n",
       "1  5a2e998b05cbc9b8ef26ac7e    ...      0.273285  250.0  0.368293        72.0   \n",
       "2  5a2e998b05cbc9b8ef26ac7e    ...      0.268205  263.0  0.378763        72.0   \n",
       "3  5a2e998b05cbc9b8ef26ac7e    ...      0.268338  252.0  0.392775        72.0   \n",
       "4  5a2e998b05cbc9b8ef26ac7e    ...      0.254381  250.0  0.389622        77.0   \n",
       "\n",
       "   PeakAccel    RepDur  TimeBWReps   TimeRepComp  TimeRepWait  SlowAllow  \n",
       "0  11.073610  978699.0         0.0  1.752134e+09          0.0   130000.0  \n",
       "1   0.714399  915894.0         0.0  1.754801e+09          0.0   130000.0  \n",
       "2   0.730685  983460.0         0.0  1.757625e+09          0.0   130000.0  \n",
       "3   0.923557  942963.0         0.0  1.760793e+09          0.0   130000.0  \n",
       "4   0.827607  983978.0         0.0  1.764224e+09          0.0   130000.0  \n",
       "\n",
       "[5 rows x 24 columns]"
      ]
     },
     "execution_count": 311,
     "metadata": {},
     "output_type": "execute_result"
    }
   ],
   "source": [
    "full_data.head()"
   ]
  },
  {
   "cell_type": "code",
   "execution_count": 312,
   "metadata": {},
   "outputs": [
    {
     "data": {
      "text/plain": [
       "1203"
      ]
     },
     "execution_count": 312,
     "metadata": {},
     "output_type": "execute_result"
    }
   ],
   "source": [
    "sum(pd.isna(full_data[\"AvgVel\"]))"
   ]
  },
  {
   "cell_type": "code",
   "execution_count": 404,
   "metadata": {},
   "outputs": [
    {
     "data": {
      "text/html": [
       "<div>\n",
       "<style scoped>\n",
       "    .dataframe tbody tr th:only-of-type {\n",
       "        vertical-align: middle;\n",
       "    }\n",
       "\n",
       "    .dataframe tbody tr th {\n",
       "        vertical-align: top;\n",
       "    }\n",
       "\n",
       "    .dataframe thead th {\n",
       "        text-align: right;\n",
       "    }\n",
       "</style>\n",
       "<table border=\"1\" class=\"dataframe\">\n",
       "  <thead>\n",
       "    <tr style=\"text-align: right;\">\n",
       "      <th></th>\n",
       "      <th>endTime</th>\n",
       "      <th>exercise</th>\n",
       "      <th>initialStartTime</th>\n",
       "      <th>metric</th>\n",
       "      <th>rpe</th>\n",
       "      <th>setID</th>\n",
       "      <th>setNumber</th>\n",
       "      <th>startTime</th>\n",
       "      <th>tags</th>\n",
       "      <th>userID</th>\n",
       "      <th>...</th>\n",
       "      <th>AvgVel</th>\n",
       "      <th>ROM</th>\n",
       "      <th>PeakVel</th>\n",
       "      <th>PeakVelLoc</th>\n",
       "      <th>PeakAccel</th>\n",
       "      <th>RepDur</th>\n",
       "      <th>TimeBWReps</th>\n",
       "      <th>TimeRepComp</th>\n",
       "      <th>TimeRepWait</th>\n",
       "      <th>SlowAllow</th>\n",
       "    </tr>\n",
       "  </thead>\n",
       "  <tbody>\n",
       "    <tr>\n",
       "      <th>38</th>\n",
       "      <td>2017-05-12 21:19:17.105</td>\n",
       "      <td>Deadlift</td>\n",
       "      <td>NaT</td>\n",
       "      <td>lbs</td>\n",
       "      <td>NaN</td>\n",
       "      <td>0007cd3d-a087-4314-9ce9-37543d660710</td>\n",
       "      <td>6.0</td>\n",
       "      <td>2017-05-12 21:19:01.088</td>\n",
       "      <td>NaN</td>\n",
       "      <td>58fbcaf26ca711fcd8cb7b6f</td>\n",
       "      <td>...</td>\n",
       "      <td>NaN</td>\n",
       "      <td>NaN</td>\n",
       "      <td>NaN</td>\n",
       "      <td>NaN</td>\n",
       "      <td>NaN</td>\n",
       "      <td>NaN</td>\n",
       "      <td>NaN</td>\n",
       "      <td>NaN</td>\n",
       "      <td>NaN</td>\n",
       "      <td>NaN</td>\n",
       "    </tr>\n",
       "    <tr>\n",
       "      <th>619</th>\n",
       "      <td>NaT</td>\n",
       "      <td>Front Squat</td>\n",
       "      <td>2017-10-28 15:35:54.545</td>\n",
       "      <td>kgs</td>\n",
       "      <td>NaN</td>\n",
       "      <td>009547e8-9762-452b-bc08-4125e40aa7f0</td>\n",
       "      <td>1.0</td>\n",
       "      <td>NaT</td>\n",
       "      <td>[]</td>\n",
       "      <td>595facd66ca711fcd8cb7ba8</td>\n",
       "      <td>...</td>\n",
       "      <td>NaN</td>\n",
       "      <td>NaN</td>\n",
       "      <td>NaN</td>\n",
       "      <td>NaN</td>\n",
       "      <td>NaN</td>\n",
       "      <td>NaN</td>\n",
       "      <td>NaN</td>\n",
       "      <td>NaN</td>\n",
       "      <td>NaN</td>\n",
       "      <td>NaN</td>\n",
       "    </tr>\n",
       "    <tr>\n",
       "      <th>971</th>\n",
       "      <td>NaT</td>\n",
       "      <td>Sumo Deadlift</td>\n",
       "      <td>2018-01-06 22:20:04.989</td>\n",
       "      <td>lbs</td>\n",
       "      <td>NaN</td>\n",
       "      <td>00f45183-5187-4605-a450-9a821be826d1</td>\n",
       "      <td>5.0</td>\n",
       "      <td>NaT</td>\n",
       "      <td>['Belt']</td>\n",
       "      <td>59ab297785ea1c6b42e4b1d7</td>\n",
       "      <td>...</td>\n",
       "      <td>NaN</td>\n",
       "      <td>NaN</td>\n",
       "      <td>NaN</td>\n",
       "      <td>NaN</td>\n",
       "      <td>NaN</td>\n",
       "      <td>NaN</td>\n",
       "      <td>NaN</td>\n",
       "      <td>NaN</td>\n",
       "      <td>NaN</td>\n",
       "      <td>NaN</td>\n",
       "    </tr>\n",
       "    <tr>\n",
       "      <th>1015</th>\n",
       "      <td>NaT</td>\n",
       "      <td>Squat</td>\n",
       "      <td>2018-01-16 02:01:06.049</td>\n",
       "      <td>lbs</td>\n",
       "      <td>NaN</td>\n",
       "      <td>01023b83-376f-43a2-86fd-dcb1950a09f2</td>\n",
       "      <td>2.0</td>\n",
       "      <td>NaT</td>\n",
       "      <td>[]</td>\n",
       "      <td>59b8431d85ea1c6b42e4b228</td>\n",
       "      <td>...</td>\n",
       "      <td>NaN</td>\n",
       "      <td>NaN</td>\n",
       "      <td>NaN</td>\n",
       "      <td>NaN</td>\n",
       "      <td>NaN</td>\n",
       "      <td>NaN</td>\n",
       "      <td>NaN</td>\n",
       "      <td>NaN</td>\n",
       "      <td>NaN</td>\n",
       "      <td>NaN</td>\n",
       "    </tr>\n",
       "    <tr>\n",
       "      <th>1136</th>\n",
       "      <td>NaT</td>\n",
       "      <td>Squat</td>\n",
       "      <td>2017-10-23 07:59:08.469</td>\n",
       "      <td>kgs</td>\n",
       "      <td>7.5</td>\n",
       "      <td>012bace5-b1f3-435e-8b8d-a3f9f71318d1</td>\n",
       "      <td>2.0</td>\n",
       "      <td>NaT</td>\n",
       "      <td>['3']</td>\n",
       "      <td>59e567e805cbc9b8ef26ac24</td>\n",
       "      <td>...</td>\n",
       "      <td>NaN</td>\n",
       "      <td>NaN</td>\n",
       "      <td>NaN</td>\n",
       "      <td>NaN</td>\n",
       "      <td>NaN</td>\n",
       "      <td>NaN</td>\n",
       "      <td>NaN</td>\n",
       "      <td>NaN</td>\n",
       "      <td>NaN</td>\n",
       "      <td>NaN</td>\n",
       "    </tr>\n",
       "  </tbody>\n",
       "</table>\n",
       "<p>5 rows × 24 columns</p>\n",
       "</div>"
      ],
      "text/plain": [
       "                     endTime       exercise        initialStartTime metric  \\\n",
       "38   2017-05-12 21:19:17.105      Deadlift                      NaT    lbs   \n",
       "619                      NaT    Front Squat 2017-10-28 15:35:54.545    kgs   \n",
       "971                      NaT  Sumo Deadlift 2018-01-06 22:20:04.989    lbs   \n",
       "1015                     NaT          Squat 2018-01-16 02:01:06.049    lbs   \n",
       "1136                     NaT          Squat 2017-10-23 07:59:08.469    kgs   \n",
       "\n",
       "      rpe                                 setID  setNumber  \\\n",
       "38    NaN  0007cd3d-a087-4314-9ce9-37543d660710        6.0   \n",
       "619   NaN  009547e8-9762-452b-bc08-4125e40aa7f0        1.0   \n",
       "971   NaN  00f45183-5187-4605-a450-9a821be826d1        5.0   \n",
       "1015  NaN  01023b83-376f-43a2-86fd-dcb1950a09f2        2.0   \n",
       "1136  7.5  012bace5-b1f3-435e-8b8d-a3f9f71318d1        2.0   \n",
       "\n",
       "                   startTime      tags                    userID    ...      \\\n",
       "38   2017-05-12 21:19:01.088       NaN  58fbcaf26ca711fcd8cb7b6f    ...       \n",
       "619                      NaT        []  595facd66ca711fcd8cb7ba8    ...       \n",
       "971                      NaT  ['Belt']  59ab297785ea1c6b42e4b1d7    ...       \n",
       "1015                     NaT        []  59b8431d85ea1c6b42e4b228    ...       \n",
       "1136                     NaT     ['3']  59e567e805cbc9b8ef26ac24    ...       \n",
       "\n",
       "     AvgVel ROM  PeakVel  PeakVelLoc  PeakAccel  RepDur  TimeBWReps  \\\n",
       "38      NaN NaN      NaN         NaN        NaN     NaN         NaN   \n",
       "619     NaN NaN      NaN         NaN        NaN     NaN         NaN   \n",
       "971     NaN NaN      NaN         NaN        NaN     NaN         NaN   \n",
       "1015    NaN NaN      NaN         NaN        NaN     NaN         NaN   \n",
       "1136    NaN NaN      NaN         NaN        NaN     NaN         NaN   \n",
       "\n",
       "      TimeRepComp  TimeRepWait  SlowAllow  \n",
       "38            NaN          NaN        NaN  \n",
       "619           NaN          NaN        NaN  \n",
       "971           NaN          NaN        NaN  \n",
       "1015          NaN          NaN        NaN  \n",
       "1136          NaN          NaN        NaN  \n",
       "\n",
       "[5 rows x 24 columns]"
      ]
     },
     "execution_count": 404,
     "metadata": {},
     "output_type": "execute_result"
    }
   ],
   "source": [
    "full_data.loc[pd.isna(full_data[\"AvgVel\"])].head()"
   ]
  },
  {
   "cell_type": "code",
   "execution_count": 322,
   "metadata": {
    "scrolled": true
   },
   "outputs": [
    {
     "data": {
      "text/plain": [
       "(266161, 24)"
      ]
     },
     "execution_count": 322,
     "metadata": {},
     "output_type": "execute_result"
    }
   ],
   "source": [
    "full_data_clean = full_data[pd.notna(full_data[\"AvgVel\"])]\n",
    "full_data_clean.shape"
   ]
  },
  {
   "cell_type": "code",
   "execution_count": 315,
   "metadata": {},
   "outputs": [
    {
     "data": {
      "text/plain": [
       "['endTime',\n",
       " 'exercise',\n",
       " 'initialStartTime',\n",
       " 'metric',\n",
       " 'rpe',\n",
       " 'setID',\n",
       " 'setNumber',\n",
       " 'startTime',\n",
       " 'tags',\n",
       " 'userID',\n",
       " 'weight',\n",
       " 'workoutID',\n",
       " 'RepCount',\n",
       " 'RepN',\n",
       " 'AvgVel',\n",
       " 'ROM',\n",
       " 'PeakVel',\n",
       " 'PeakVelLoc',\n",
       " 'PeakAccel',\n",
       " 'RepDur',\n",
       " 'TimeBWReps',\n",
       " 'TimeRepComp',\n",
       " 'TimeRepWait',\n",
       " 'SlowAllow']"
      ]
     },
     "execution_count": 315,
     "metadata": {},
     "output_type": "execute_result"
    }
   ],
   "source": [
    "list(full_data_clean)"
   ]
  },
  {
   "cell_type": "code",
   "execution_count": 316,
   "metadata": {},
   "outputs": [],
   "source": [
    "exercises, count = np.unique(full_data_clean[\"exercise\"].str.lower().str.strip(), return_counts = True)"
   ]
  },
  {
   "cell_type": "code",
   "execution_count": 317,
   "metadata": {
    "scrolled": true
   },
   "outputs": [
    {
     "name": "stdout",
     "output_type": "stream",
     "text": [
      "bench 87324\n",
      "squat 66040\n",
      "deadlift 22517\n",
      "sumo deadlift 12886\n",
      "back squat 11579\n",
      "front squat 6840\n",
      "bench press 6096\n",
      "close grip bench 2965\n",
      "incline bench 2962\n",
      "low bar squat 2769\n",
      "ssb squat 2429\n",
      "goblet squat 1241\n",
      "bp 1071\n",
      "pause bench 1066\n",
      "squats 1033\n",
      "trap bar deadlift 912\n",
      "speed squats 871\n",
      "pause squat 842\n",
      "box squat 788\n",
      "bench - full width - comp 773\n",
      "low-bar squat 703\n",
      "squat - low bar 686\n",
      "cg bench 681\n",
      "incline bench press 662\n",
      "pin squat 595\n",
      "touch-and-go bench press 590\n",
      "high bar squat 588\n",
      "deficit deadlift 573\n",
      "deadlift rackpull 11” 558\n",
      "conventional deadlift 536\n",
      "squat ssb box 15” 479\n",
      "pause bp +belt 441\n",
      "vee squat 38 super cent 410\n",
      "wide grip bench 405\n",
      "split squat 399\n",
      "high-bar squat 395\n",
      "tasha bench pin press 360\n",
      "tng bench 346\n",
      "duffalo bench 345\n",
      "tasha bench ram 337\n",
      "bench - full width - towel - comp 333\n",
      "slingshot bench 326\n",
      "trapbar deadlift 324\n",
      "deficit bench 312\n",
      "vee squat 306\n",
      "bench - full width - 0/0/0 303\n",
      "speed bench 293\n",
      "1 leg squat 292\n",
      "bench wide grip 291\n",
      "vee bench daddy 283\n"
     ]
    }
   ],
   "source": [
    "top = 50\n",
    "for ex, c in zip(exercises[np.argsort(-count)][:top],count[np.argsort(-count)][:top]):\n",
    "    print(ex, c)"
   ]
  },
  {
   "cell_type": "code",
   "execution_count": 403,
   "metadata": {
    "scrolled": true
   },
   "outputs": [
    {
     "name": "stdout",
     "output_type": "stream",
     "text": [
      "bench 94641\n",
      "bench other 22691\n",
      "deadlift 35970\n",
      "deadlift other 4763\n",
      "squat 77651\n",
      "squat other 30445\n"
     ]
    }
   ],
   "source": [
    "bench_clean = ['bench', 'bench press', 'bp', 'competition bench', 'comp bench']\n",
    "squat_clean = ['squat', 'back squat', 'competition squat', 'comp squat']\n",
    "deadlift_clean = [ \"deadlift\", \"sumo deadlift\", \"conventional deadlift\",\n",
    "                  \"comp deadlift\", \"competition deadlift\"]\n",
    "exercises_dirty = full_data_clean[\"exercise\"].str.lower().str.strip().tolist()\n",
    "#exercises_clean = np.empty(full_data_clean.shape[0], dtype = str)\n",
    "exercises_clean = ['']*full_data_clean.shape[0]\n",
    "\n",
    "for i in range(full_data_clean.shape[0]):\n",
    "    if exercises_dirty[i] in bench_clean:\n",
    "        exercises_clean[i] = \"bench\"\n",
    "    elif exercises_dirty[i] in squat_clean:\n",
    "        exercises_clean[i] = \"squat\"\n",
    "    elif exercises_dirty[i] in deadlift_clean:\n",
    "        exercises_clean[i] = \"deadlift\"\n",
    "    elif \"squat\" in exercises_dirty[i]:\n",
    "        exercises_clean[i] = \"squat other\"\n",
    "    elif \"bench\" in exercises_dirty[i]:\n",
    "        exercises_clean[i] = \"bench other\"\n",
    "    elif \"bp\" in exercises_dirty[i]:\n",
    "        exercises_clean[i] = \"bench other\"\n",
    "    elif \"deadlift\" in exercises_dirty[i]:\n",
    "        exercises_clean[i] = \"deadlift other\"\n",
    "    else:\n",
    "        exercises_clean[i] = \"\"\n",
    "\n",
    "i, j = np.unique(exercises_clean, return_counts = True)\n",
    "for k in range(i.shape[0]):\n",
    "    print(i[k], j[k])"
   ]
  },
  {
   "cell_type": "code",
   "execution_count": 401,
   "metadata": {},
   "outputs": [],
   "source": [
    "full_data_clean = full_data_clean.assign(exercise_clean = exercises_clean)"
   ]
  }
 ],
 "metadata": {
  "kernelspec": {
   "display_name": "Python 3",
   "language": "python",
   "name": "python3"
  },
  "language_info": {
   "codemirror_mode": {
    "name": "ipython",
    "version": 3
   },
   "file_extension": ".py",
   "mimetype": "text/x-python",
   "name": "python",
   "nbconvert_exporter": "python",
   "pygments_lexer": "ipython3",
   "version": "3.6.5"
  }
 },
 "nbformat": 4,
 "nbformat_minor": 2
}
