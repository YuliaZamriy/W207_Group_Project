{
 "cells": [
  {
   "cell_type": "markdown",
   "metadata": {
    "colab_type": "text",
    "id": "view-in-github"
   },
   "source": [
    "[View in Colaboratory](https://colab.research.google.com/github/YuliaZamriy/W207_Group_Project/blob/master/w207_openbarbell_baseline_submission_v2.ipynb)"
   ]
  },
  {
   "cell_type": "markdown",
   "metadata": {
    "colab_type": "text",
    "id": "Dgn9Us1z_9W4"
   },
   "source": [
    "# W207 Final Project\n",
    "# Part 1: Exercise Classification\n",
    "\n",
    "## 7 August 2018\n",
    "\n",
    "### Project Description\n",
    "\n",
    "OpenBarbell is a device that is used to record and measure key lifting metrics during a lifter's workout. Examples of user-entered metrics are weight, exercise label, and exercise tags. Examples of metrics captured through the device are range of motion (ROM), peak velocity and rep duration. A better understanding of these metrics can help lifters improve performance, prevent injury, build training programs, and streamline their workouts. The goal of this project is to use the data produced by OpenBarbell to add greater intelligence to the user experience.\n",
    "\n",
    "### Project Goals\n",
    "\n",
    "1. **Exercise classification**  \n",
    "Build an algorithm to determine the exercise being performed. This serves two purposes and can be broken down into two subgoals:\n",
    "   \n",
    "    1. **Label existing data**  \n",
    "        *Description:* Exercise names are acquired through user input. This field is freeform and completely optional. Hence, we would like to build an algorithm to determine the exercise for each rep based on its characteristics (weight, range of motion, velocity, etc.). This will allows us to reliably prepare and clean existing, mislabeled data.\n",
    "   \n",
    "        *Goal Benchmark:* Classify exercises with >70% accuracy\n",
    "   \n",
    "    2. **Real-time exercise logging**  \n",
    "       *Description:* Workouts can require precise timing between exercises and repetitions. We also understand that workouts can be both physically and mentally exhausting. We would like to build a model that is able to take in device-captured data and classify the exercise in real-time. This would take that burden off of the user and allow them to better focus on their workout. \n",
    "   \n",
    "       *Goal Benchmark:* Classify exercises in <1000ms\n",
    "     \n",
    "2. **Lifter segmentation**  \n",
    "    *Description:* Every indivdual has their own unique combination of lifestyle habits, health goals, and athletic proficiency. Ideally, every person would have a customized training program to fit their needs. The precursor to a customized training program is getting a better understanding of the individual. We would like to create distinct groups of lifters based on their lifting characteristics for each exercise (weight, range of motion, velocity, etc.) as a way to segment populations of lifters.\n",
    "\n",
    "    *Goal Benchmark:* Identify a users best lift, as determined by volume and weight\n",
    "\n",
    "\n",
    "### Data and Source\n",
    "\n",
    " - [Project GitHub Repository](https://github.com/YuliaZamriy/W207_Group_Project)\n",
    "\n",
    "### Team\n",
    " - Renzee Reyes\n",
    " - Tim Witthoefft\n",
    " - Jack Workman\n",
    " - Yulia Zamriy\n",
    " \n",
    "## Summary, Next Steps, and Open Questions at the Bottom"
   ]
  },
  {
   "cell_type": "markdown",
   "metadata": {
    "colab_type": "text",
    "id": "07N18Q8c_9W5"
   },
   "source": [
    "**June's Comments**: \n",
    "\n",
    "- how are we going to help user? put it in project goals\n",
    "- how are we dealing with sparse data?\n",
    "- how much data is removed?  [DONE]\n",
    "- present number of rows by each app version (if new version is majority of the data, it's ok to remove old version)  [DONE]\n",
    "- null values chart: convert to percents\n",
    "- show examples values for each label values\n",
    "- add PeakVelAccel to summary\n",
    "- include number of 0 values in .describe()\n",
    "- add conclusions on data fidelity\n",
    "- clarify what's happening on KNN/add conclusions\n",
    "- check if different k values impact confusion matrix\n",
    "- pull examples of misclassification between squats and deadlifts and maybe add a feature\n",
    "- include the features that do most heavy lifting\n",
    "- highlight the differences across models (include side by side charts)\n",
    "- conclusions: how to tie it to user experience? what type of accuracy should we shoot for? should we introduce \"uknown\" exercise for low probability predictions\n",
    "- remove ensemble logic... check if it actually improves\n",
    "- instead focus on (1) basic feature engineering; (2) explaining why some models work better than others; (3) what's good accuracy for user experience? (4) lifter segmentation"
   ]
  },
  {
   "cell_type": "code",
   "execution_count": 1,
   "metadata": {
    "colab": {
     "base_uri": "https://localhost:8080/",
     "height": 820
    },
    "colab_type": "code",
    "id": "3QptuiWS_9W5",
    "outputId": "0e2b9f0c-12f4-4704-f9b4-b8901af3aa6f"
   },
   "outputs": [
    {
     "data": {
      "text/plain": [
       "'en_US.UTF-8'"
      ]
     },
     "execution_count": 1,
     "metadata": {},
     "output_type": "execute_result"
    }
   ],
   "source": [
    "import os\n",
    "import zipfile\n",
    "import numpy as np\n",
    "import pandas as pd\n",
    "import matplotlib.pyplot as plt\n",
    "import seaborn as sns\n",
    "import locale\n",
    "import sys\n",
    "import itertools\n",
    "import json\n",
    "import random\n",
    "from locale import atof\n",
    "from sklearn import preprocessing\n",
    "from sklearn.neighbors import KNeighborsClassifier\n",
    "from sklearn.naive_bayes import GaussianNB\n",
    "from sklearn.model_selection import train_test_split\n",
    "from sklearn.model_selection import cross_val_score\n",
    "from sklearn.model_selection import KFold\n",
    "from sklearn.metrics import confusion_matrix\n",
    "from sklearn.metrics import classification_report\n",
    "from sklearn.ensemble import RandomForestClassifier\n",
    "from sklearn.pipeline import Pipeline\n",
    "from sklearn.model_selection import GridSearchCV\n",
    "from sklearn.decomposition import PCA\n",
    "from sklearn import metrics\n",
    "from sklearn.linear_model import LogisticRegression\n",
    "from IPython.display import display\n",
    "from scipy.stats import mode\n",
    "#from google.colab import files\n",
    "\n",
    "#!pip install ipywidgets\n",
    "from ipywidgets import IntProgress, HTML, VBox\n",
    "\n",
    "%matplotlib inline\n",
    "\n",
    "csv_data_file = 'ob_data_w207_filtered.csv'\n",
    "zip_data_file = 'ob_data_w207_filtered.zip'\n",
    "\n",
    "locale.setlocale(locale.LC_NUMERIC, '')"
   ]
  },
  {
   "cell_type": "code",
   "execution_count": 2,
   "metadata": {
    "colab": {
     "base_uri": "https://localhost:8080/",
     "height": 17
    },
    "colab_type": "code",
    "id": "fY49NYF__9W9",
    "outputId": "f2f81566-c0bb-4cd3-844f-c15aef7ccde6"
   },
   "outputs": [
    {
     "data": {
      "text/html": [
       "<style>.container { width:90% !important; }</style>"
      ],
      "text/plain": [
       "<IPython.core.display.HTML object>"
      ]
     },
     "metadata": {},
     "output_type": "display_data"
    }
   ],
   "source": [
    "# Jupyter viewing options\n",
    "from IPython.core.display import display, HTML\n",
    "display(HTML(\"<style>.container { width:90% !important; }</style>\"))\n",
    "pd.set_option('display.max_columns', 500)"
   ]
  },
  {
   "cell_type": "markdown",
   "metadata": {
    "colab_type": "text",
    "id": "F1eME6J6PxV2"
   },
   "source": [
    "# 1. Import Processed Data\n",
    "\n",
    "At this stage, we are following up on the work performed in the data processing notebook, which produces a csv file of clean and transformed data. Please refer to the data processing notebook for more detail on how the csv file is produced. Otherwise, we can simply import the csv into our main dataframe."
   ]
  },
  {
   "cell_type": "code",
   "execution_count": 2,
   "metadata": {
    "colab": {
     "base_uri": "https://localhost:8080/",
     "height": 198
    },
    "colab_type": "code",
    "id": "u_Eq-Cn-_9XB",
    "outputId": "72429fbb-5335-4034-b7a2-bd96c82502f7"
   },
   "outputs": [],
   "source": [
    "df_main = None\n",
    "if not os.path.exists(csv_data_file) and os.path.exists(zip_data_file):\n",
    "    zip_ref = zipfile.ZipFile(zip_data_file, 'r')\n",
    "    zip_ref.extractall()\n",
    "    zip_ref.close()\n",
    "if os.path.exists(csv_data_file):\n",
    "    df_main = pd.read_csv(csv_data_file)\n",
    "else:\n",
    "    raise Exception('Data file not found! {0}'.format(csv_data_file))"
   ]
  },
  {
   "cell_type": "markdown",
   "metadata": {
    "colab_type": "text",
    "id": "ohhh21Ie_9XD"
   },
   "source": [
    "# 2. Exploratory Data Analysis\n",
    "\n",
    "To ensure that the data contains no hidden surprises, we do a quick EDA."
   ]
  },
  {
   "cell_type": "markdown",
   "metadata": {
    "colab_type": "text",
    "id": "CEpUdS3d_9XE"
   },
   "source": [
    "## 2.1 Shape and Head"
   ]
  },
  {
   "cell_type": "code",
   "execution_count": 3,
   "metadata": {
    "colab": {
     "base_uri": "https://localhost:8080/",
     "height": 35
    },
    "colab_type": "code",
    "id": "mxbEwLQa_9XE",
    "outputId": "ba3ef5c7-9948-4435-de71-4e319e378b4e"
   },
   "outputs": [
    {
     "name": "stdout",
     "output_type": "stream",
     "text": [
      "Data shape: (181224, 45)\n"
     ]
    }
   ],
   "source": [
    "print(\"Data shape: {0}\".format(df_main.shape))"
   ]
  },
  {
   "cell_type": "code",
   "execution_count": 4,
   "metadata": {
    "colab": {
     "base_uri": "https://localhost:8080/",
     "height": 479
    },
    "colab_type": "code",
    "id": "GK_fNNMY_9XG",
    "outputId": "8e41382e-3c36-4474-bcb0-0f8cfcbe7ded"
   },
   "outputs": [
    {
     "data": {
      "text/html": [
       "<div>\n",
       "<style scoped>\n",
       "    .dataframe tbody tr th:only-of-type {\n",
       "        vertical-align: middle;\n",
       "    }\n",
       "\n",
       "    .dataframe tbody tr th {\n",
       "        vertical-align: top;\n",
       "    }\n",
       "\n",
       "    .dataframe thead th {\n",
       "        text-align: right;\n",
       "    }\n",
       "</style>\n",
       "<table border=\"1\" class=\"dataframe\">\n",
       "  <thead>\n",
       "    <tr style=\"text-align: right;\">\n",
       "      <th></th>\n",
       "      <th>Unnamed: 0</th>\n",
       "      <th>_id</th>\n",
       "      <th>deleted</th>\n",
       "      <th>endTime</th>\n",
       "      <th>exercise</th>\n",
       "      <th>initialStartTime</th>\n",
       "      <th>metric</th>\n",
       "      <th>removed_set</th>\n",
       "      <th>reps</th>\n",
       "      <th>rpe</th>\n",
       "      <th>...</th>\n",
       "      <th>PeakAccel</th>\n",
       "      <th>RepDur</th>\n",
       "      <th>TimeBWReps</th>\n",
       "      <th>TimeRepComp</th>\n",
       "      <th>TimeRepWait</th>\n",
       "      <th>SlowAllow</th>\n",
       "      <th>Backlight</th>\n",
       "      <th>MinAllow</th>\n",
       "      <th>setID_ix</th>\n",
       "      <th>RepCount</th>\n",
       "    </tr>\n",
       "  </thead>\n",
       "  <tbody>\n",
       "    <tr>\n",
       "      <th>0</th>\n",
       "      <td>0</td>\n",
       "      <td>000051e0-54b2-48d8-98d2-79f65505c3e6</td>\n",
       "      <td>NaN</td>\n",
       "      <td>NaN</td>\n",
       "      <td>Bench</td>\n",
       "      <td>2018-01-03 01:29:46.904</td>\n",
       "      <td>kgs</td>\n",
       "      <td>0.0</td>\n",
       "      <td>[{'isValid': True, 'removed': False, 'hardware...</td>\n",
       "      <td>7.5</td>\n",
       "      <td>...</td>\n",
       "      <td>11.073610</td>\n",
       "      <td>978699.0</td>\n",
       "      <td>0.0</td>\n",
       "      <td>1.752134e+09</td>\n",
       "      <td>0.0</td>\n",
       "      <td>130000.0</td>\n",
       "      <td>10000.0</td>\n",
       "      <td>150000.0</td>\n",
       "      <td>1</td>\n",
       "      <td>1.0</td>\n",
       "    </tr>\n",
       "    <tr>\n",
       "      <th>1</th>\n",
       "      <td>1</td>\n",
       "      <td>000051e0-54b2-48d8-98d2-79f65505c3e6</td>\n",
       "      <td>NaN</td>\n",
       "      <td>NaN</td>\n",
       "      <td>Bench</td>\n",
       "      <td>2018-01-03 01:29:46.904</td>\n",
       "      <td>kgs</td>\n",
       "      <td>0.0</td>\n",
       "      <td>[{'isValid': True, 'removed': False, 'hardware...</td>\n",
       "      <td>7.5</td>\n",
       "      <td>...</td>\n",
       "      <td>0.714399</td>\n",
       "      <td>915894.0</td>\n",
       "      <td>0.0</td>\n",
       "      <td>1.754801e+09</td>\n",
       "      <td>0.0</td>\n",
       "      <td>130000.0</td>\n",
       "      <td>10000.0</td>\n",
       "      <td>150000.0</td>\n",
       "      <td>1</td>\n",
       "      <td>2.0</td>\n",
       "    </tr>\n",
       "    <tr>\n",
       "      <th>2</th>\n",
       "      <td>2</td>\n",
       "      <td>000051e0-54b2-48d8-98d2-79f65505c3e6</td>\n",
       "      <td>NaN</td>\n",
       "      <td>NaN</td>\n",
       "      <td>Bench</td>\n",
       "      <td>2018-01-03 01:29:46.904</td>\n",
       "      <td>kgs</td>\n",
       "      <td>0.0</td>\n",
       "      <td>[{'isValid': True, 'removed': False, 'hardware...</td>\n",
       "      <td>7.5</td>\n",
       "      <td>...</td>\n",
       "      <td>0.730685</td>\n",
       "      <td>983460.0</td>\n",
       "      <td>0.0</td>\n",
       "      <td>1.757625e+09</td>\n",
       "      <td>0.0</td>\n",
       "      <td>130000.0</td>\n",
       "      <td>10000.0</td>\n",
       "      <td>150000.0</td>\n",
       "      <td>1</td>\n",
       "      <td>3.0</td>\n",
       "    </tr>\n",
       "    <tr>\n",
       "      <th>3</th>\n",
       "      <td>3</td>\n",
       "      <td>000051e0-54b2-48d8-98d2-79f65505c3e6</td>\n",
       "      <td>NaN</td>\n",
       "      <td>NaN</td>\n",
       "      <td>Bench</td>\n",
       "      <td>2018-01-03 01:29:46.904</td>\n",
       "      <td>kgs</td>\n",
       "      <td>0.0</td>\n",
       "      <td>[{'isValid': True, 'removed': False, 'hardware...</td>\n",
       "      <td>7.5</td>\n",
       "      <td>...</td>\n",
       "      <td>0.923557</td>\n",
       "      <td>942963.0</td>\n",
       "      <td>0.0</td>\n",
       "      <td>1.760793e+09</td>\n",
       "      <td>0.0</td>\n",
       "      <td>130000.0</td>\n",
       "      <td>10000.0</td>\n",
       "      <td>150000.0</td>\n",
       "      <td>1</td>\n",
       "      <td>4.0</td>\n",
       "    </tr>\n",
       "    <tr>\n",
       "      <th>4</th>\n",
       "      <td>4</td>\n",
       "      <td>000051e0-54b2-48d8-98d2-79f65505c3e6</td>\n",
       "      <td>NaN</td>\n",
       "      <td>NaN</td>\n",
       "      <td>Bench</td>\n",
       "      <td>2018-01-03 01:29:46.904</td>\n",
       "      <td>kgs</td>\n",
       "      <td>0.0</td>\n",
       "      <td>[{'isValid': True, 'removed': False, 'hardware...</td>\n",
       "      <td>7.5</td>\n",
       "      <td>...</td>\n",
       "      <td>0.827607</td>\n",
       "      <td>983978.0</td>\n",
       "      <td>0.0</td>\n",
       "      <td>1.764224e+09</td>\n",
       "      <td>0.0</td>\n",
       "      <td>130000.0</td>\n",
       "      <td>10000.0</td>\n",
       "      <td>150000.0</td>\n",
       "      <td>1</td>\n",
       "      <td>5.0</td>\n",
       "    </tr>\n",
       "  </tbody>\n",
       "</table>\n",
       "<p>5 rows × 45 columns</p>\n",
       "</div>"
      ],
      "text/plain": [
       "   Unnamed: 0                                   _id  deleted  endTime  \\\n",
       "0           0  000051e0-54b2-48d8-98d2-79f65505c3e6      NaN      NaN   \n",
       "1           1  000051e0-54b2-48d8-98d2-79f65505c3e6      NaN      NaN   \n",
       "2           2  000051e0-54b2-48d8-98d2-79f65505c3e6      NaN      NaN   \n",
       "3           3  000051e0-54b2-48d8-98d2-79f65505c3e6      NaN      NaN   \n",
       "4           4  000051e0-54b2-48d8-98d2-79f65505c3e6      NaN      NaN   \n",
       "\n",
       "  exercise         initialStartTime metric  removed_set  \\\n",
       "0    Bench  2018-01-03 01:29:46.904    kgs          0.0   \n",
       "1    Bench  2018-01-03 01:29:46.904    kgs          0.0   \n",
       "2    Bench  2018-01-03 01:29:46.904    kgs          0.0   \n",
       "3    Bench  2018-01-03 01:29:46.904    kgs          0.0   \n",
       "4    Bench  2018-01-03 01:29:46.904    kgs          0.0   \n",
       "\n",
       "                                                reps  rpe   ...     PeakAccel  \\\n",
       "0  [{'isValid': True, 'removed': False, 'hardware...  7.5   ...     11.073610   \n",
       "1  [{'isValid': True, 'removed': False, 'hardware...  7.5   ...      0.714399   \n",
       "2  [{'isValid': True, 'removed': False, 'hardware...  7.5   ...      0.730685   \n",
       "3  [{'isValid': True, 'removed': False, 'hardware...  7.5   ...      0.923557   \n",
       "4  [{'isValid': True, 'removed': False, 'hardware...  7.5   ...      0.827607   \n",
       "\n",
       "     RepDur  TimeBWReps   TimeRepComp TimeRepWait SlowAllow Backlight  \\\n",
       "0  978699.0         0.0  1.752134e+09         0.0  130000.0   10000.0   \n",
       "1  915894.0         0.0  1.754801e+09         0.0  130000.0   10000.0   \n",
       "2  983460.0         0.0  1.757625e+09         0.0  130000.0   10000.0   \n",
       "3  942963.0         0.0  1.760793e+09         0.0  130000.0   10000.0   \n",
       "4  983978.0         0.0  1.764224e+09         0.0  130000.0   10000.0   \n",
       "\n",
       "   MinAllow setID_ix RepCount  \n",
       "0  150000.0        1      1.0  \n",
       "1  150000.0        1      2.0  \n",
       "2  150000.0        1      3.0  \n",
       "3  150000.0        1      4.0  \n",
       "4  150000.0        1      5.0  \n",
       "\n",
       "[5 rows x 45 columns]"
      ]
     },
     "execution_count": 4,
     "metadata": {},
     "output_type": "execute_result"
    }
   ],
   "source": [
    "df_main.head()"
   ]
  },
  {
   "cell_type": "markdown",
   "metadata": {
    "colab_type": "text",
    "id": "LL-8hEX5_9XJ"
   },
   "source": [
    "## 2.2 Check for Null Values\n",
    "\n",
    "Here we observe that there are, in fact, quite a few null values in the dataset. Prior domain knowledge tells us that these are a result of older versions that do not support some of the newer fields and user input fields:\n",
    "\n",
    " - `endTime` and `startTime` replaced by `initialStartTime` and `time` in newer versions of the app\n",
    " - `rpe_num` (cleaned version of `rpe`) is entered through user input\n",
    " - `videoFileURL` and `videoType` are place holder for user's videos\n",
    "\n",
    "These null values seen here can be safely ignored."
   ]
  },
  {
   "cell_type": "code",
   "execution_count": 5,
   "metadata": {
    "colab": {
     "base_uri": "https://localhost:8080/",
     "height": 587
    },
    "colab_type": "code",
    "id": "NeBd2aFB_9XK",
    "outputId": "d50caf1d-885b-43d9-cf13-2085722b50f5"
   },
   "outputs": [
    {
     "data": {
      "image/png": "[encoded data removed]",
      "text/plain": [
       "<matplotlib.figure.Figure at 0x1a224fd978>"
      ]
     },
     "metadata": {},
     "output_type": "display_data"
    }
   ],
   "source": [
    "null_sums = df_main.isnull().sum()\n",
    "fig, ax = plt.subplots()\n",
    "fig.set_size_inches(18.5, 8.5)\n",
    "for i, null_col in enumerate(null_sums):\n",
    "    plt.bar(i, null_col)\n",
    "\n",
    "plt.title('Null Values by Column in Dataset')\n",
    "plt.xticks(list(range(len(null_sums))), null_sums.index, rotation='vertical')\n",
    "plt.show()"
   ]
  },
  {
   "cell_type": "code",
   "execution_count": 34,
   "metadata": {},
   "outputs": [
    {
     "data": {
      "text/html": [
       "<div>\n",
       "<style scoped>\n",
       "    .dataframe tbody tr th:only-of-type {\n",
       "        vertical-align: middle;\n",
       "    }\n",
       "\n",
       "    .dataframe tbody tr th {\n",
       "        vertical-align: top;\n",
       "    }\n",
       "\n",
       "    .dataframe thead th {\n",
       "        text-align: right;\n",
       "    }\n",
       "</style>\n",
       "<table border=\"1\" class=\"dataframe\">\n",
       "  <thead>\n",
       "    <tr style=\"text-align: right;\">\n",
       "      <th></th>\n",
       "      <th>deleted</th>\n",
       "      <th>endTime</th>\n",
       "      <th>removed_set</th>\n",
       "      <th>setNumber</th>\n",
       "      <th>startTime</th>\n",
       "      <th>rpe_num</th>\n",
       "      <th>weight_lbs</th>\n",
       "      <th>StartMessg</th>\n",
       "      <th>RepN</th>\n",
       "      <th>AvgVel</th>\n",
       "      <th>...</th>\n",
       "      <th>PeakAccel</th>\n",
       "      <th>RepDur</th>\n",
       "      <th>TimeBWReps</th>\n",
       "      <th>TimeRepComp</th>\n",
       "      <th>TimeRepWait</th>\n",
       "      <th>SlowAllow</th>\n",
       "      <th>Backlight</th>\n",
       "      <th>MinAllow</th>\n",
       "      <th>setID_ix</th>\n",
       "      <th>RepCount</th>\n",
       "    </tr>\n",
       "  </thead>\n",
       "  <tbody>\n",
       "    <tr>\n",
       "      <th>count</th>\n",
       "      <td>71232.000000</td>\n",
       "      <td>0.0</td>\n",
       "      <td>181224.0</td>\n",
       "      <td>181224.000000</td>\n",
       "      <td>0.0</td>\n",
       "      <td>61034.000000</td>\n",
       "      <td>181224.000000</td>\n",
       "      <td>181224.000000</td>\n",
       "      <td>181224.000000</td>\n",
       "      <td>181224.000000</td>\n",
       "      <td>...</td>\n",
       "      <td>181224.000000</td>\n",
       "      <td>1.812240e+05</td>\n",
       "      <td>181224.000000</td>\n",
       "      <td>1.812240e+05</td>\n",
       "      <td>1.812240e+05</td>\n",
       "      <td>181224.000000</td>\n",
       "      <td>181224.000000</td>\n",
       "      <td>181224.000000</td>\n",
       "      <td>181224.000000</td>\n",
       "      <td>181224.000000</td>\n",
       "    </tr>\n",
       "    <tr>\n",
       "      <th>mean</th>\n",
       "      <td>0.000000</td>\n",
       "      <td>NaN</td>\n",
       "      <td>0.0</td>\n",
       "      <td>6.493941</td>\n",
       "      <td>NaN</td>\n",
       "      <td>7.266047</td>\n",
       "      <td>237.509353</td>\n",
       "      <td>-3219.539150</td>\n",
       "      <td>24.543455</td>\n",
       "      <td>0.468691</td>\n",
       "      <td>...</td>\n",
       "      <td>-467.837734</td>\n",
       "      <td>1.129646e+06</td>\n",
       "      <td>0.351256</td>\n",
       "      <td>1.706150e+09</td>\n",
       "      <td>2.795605e+05</td>\n",
       "      <td>129349.114167</td>\n",
       "      <td>9952.900095</td>\n",
       "      <td>149247.324686</td>\n",
       "      <td>24055.649169</td>\n",
       "      <td>3.375546</td>\n",
       "    </tr>\n",
       "    <tr>\n",
       "      <th>std</th>\n",
       "      <td>0.000000</td>\n",
       "      <td>NaN</td>\n",
       "      <td>0.0</td>\n",
       "      <td>5.946106</td>\n",
       "      <td>NaN</td>\n",
       "      <td>1.541093</td>\n",
       "      <td>106.705020</td>\n",
       "      <td>468.222607</td>\n",
       "      <td>24.490327</td>\n",
       "      <td>0.223723</td>\n",
       "      <td>...</td>\n",
       "      <td>1097.396166</td>\n",
       "      <td>4.931590e+05</td>\n",
       "      <td>5.669843</td>\n",
       "      <td>1.020477e+09</td>\n",
       "      <td>6.925327e+06</td>\n",
       "      <td>9147.219381</td>\n",
       "      <td>662.377762</td>\n",
       "      <td>10577.566980</td>\n",
       "      <td>13876.404474</td>\n",
       "      <td>3.284430</td>\n",
       "    </tr>\n",
       "    <tr>\n",
       "      <th>min</th>\n",
       "      <td>0.000000</td>\n",
       "      <td>NaN</td>\n",
       "      <td>0.0</td>\n",
       "      <td>1.000000</td>\n",
       "      <td>NaN</td>\n",
       "      <td>0.000000</td>\n",
       "      <td>1.000000</td>\n",
       "      <td>-3456.000000</td>\n",
       "      <td>1.000000</td>\n",
       "      <td>0.039064</td>\n",
       "      <td>...</td>\n",
       "      <td>-9999.000000</td>\n",
       "      <td>5.000000e+00</td>\n",
       "      <td>0.000000</td>\n",
       "      <td>-9.876000e+03</td>\n",
       "      <td>0.000000e+00</td>\n",
       "      <td>76.039300</td>\n",
       "      <td>76.039900</td>\n",
       "      <td>76.029900</td>\n",
       "      <td>1.000000</td>\n",
       "      <td>1.000000</td>\n",
       "    </tr>\n",
       "    <tr>\n",
       "      <th>25%</th>\n",
       "      <td>0.000000</td>\n",
       "      <td>NaN</td>\n",
       "      <td>0.0</td>\n",
       "      <td>2.000000</td>\n",
       "      <td>NaN</td>\n",
       "      <td>6.500000</td>\n",
       "      <td>165.000000</td>\n",
       "      <td>-3456.000000</td>\n",
       "      <td>8.000000</td>\n",
       "      <td>0.309058</td>\n",
       "      <td>...</td>\n",
       "      <td>1.182262</td>\n",
       "      <td>7.780158e+05</td>\n",
       "      <td>0.000000</td>\n",
       "      <td>9.008389e+08</td>\n",
       "      <td>0.000000e+00</td>\n",
       "      <td>130000.000000</td>\n",
       "      <td>10000.000000</td>\n",
       "      <td>150000.000000</td>\n",
       "      <td>12065.000000</td>\n",
       "      <td>1.000000</td>\n",
       "    </tr>\n",
       "    <tr>\n",
       "      <th>50%</th>\n",
       "      <td>0.000000</td>\n",
       "      <td>NaN</td>\n",
       "      <td>0.0</td>\n",
       "      <td>5.000000</td>\n",
       "      <td>NaN</td>\n",
       "      <td>7.500000</td>\n",
       "      <td>225.000000</td>\n",
       "      <td>-3456.000000</td>\n",
       "      <td>18.000000</td>\n",
       "      <td>0.421928</td>\n",
       "      <td>...</td>\n",
       "      <td>4.288830</td>\n",
       "      <td>1.065460e+06</td>\n",
       "      <td>0.000000</td>\n",
       "      <td>1.486152e+09</td>\n",
       "      <td>0.000000e+00</td>\n",
       "      <td>130000.000000</td>\n",
       "      <td>10000.000000</td>\n",
       "      <td>150000.000000</td>\n",
       "      <td>24033.000000</td>\n",
       "      <td>3.000000</td>\n",
       "    </tr>\n",
       "    <tr>\n",
       "      <th>75%</th>\n",
       "      <td>0.000000</td>\n",
       "      <td>NaN</td>\n",
       "      <td>0.0</td>\n",
       "      <td>9.000000</td>\n",
       "      <td>NaN</td>\n",
       "      <td>8.000000</td>\n",
       "      <td>308.646800</td>\n",
       "      <td>-3456.000000</td>\n",
       "      <td>33.000000</td>\n",
       "      <td>0.580345</td>\n",
       "      <td>...</td>\n",
       "      <td>9.837069</td>\n",
       "      <td>1.407044e+06</td>\n",
       "      <td>0.000000</td>\n",
       "      <td>2.375322e+09</td>\n",
       "      <td>0.000000e+00</td>\n",
       "      <td>130000.000000</td>\n",
       "      <td>10000.000000</td>\n",
       "      <td>150000.000000</td>\n",
       "      <td>36057.000000</td>\n",
       "      <td>4.000000</td>\n",
       "    </tr>\n",
       "    <tr>\n",
       "      <th>max</th>\n",
       "      <td>0.000000</td>\n",
       "      <td>NaN</td>\n",
       "      <td>0.0</td>\n",
       "      <td>169.000000</td>\n",
       "      <td>NaN</td>\n",
       "      <td>10.000000</td>\n",
       "      <td>1000.000000</td>\n",
       "      <td>-1234.000000</td>\n",
       "      <td>403.000000</td>\n",
       "      <td>2.960175</td>\n",
       "      <td>...</td>\n",
       "      <td>24150.160000</td>\n",
       "      <td>6.072204e+06</td>\n",
       "      <td>2295.000000</td>\n",
       "      <td>4.294947e+09</td>\n",
       "      <td>8.366950e+08</td>\n",
       "      <td>130000.000000</td>\n",
       "      <td>10000.000000</td>\n",
       "      <td>150000.000000</td>\n",
       "      <td>48128.000000</td>\n",
       "      <td>87.000000</td>\n",
       "    </tr>\n",
       "    <tr>\n",
       "      <th>pct_missing</th>\n",
       "      <td>60.690000</td>\n",
       "      <td>100.0</td>\n",
       "      <td>0.0</td>\n",
       "      <td>0.000000</td>\n",
       "      <td>100.0</td>\n",
       "      <td>66.320000</td>\n",
       "      <td>0.000000</td>\n",
       "      <td>0.000000</td>\n",
       "      <td>0.000000</td>\n",
       "      <td>0.000000</td>\n",
       "      <td>...</td>\n",
       "      <td>0.000000</td>\n",
       "      <td>0.000000e+00</td>\n",
       "      <td>0.000000</td>\n",
       "      <td>0.000000e+00</td>\n",
       "      <td>0.000000e+00</td>\n",
       "      <td>0.000000</td>\n",
       "      <td>0.000000</td>\n",
       "      <td>0.000000</td>\n",
       "      <td>0.000000</td>\n",
       "      <td>0.000000</td>\n",
       "    </tr>\n",
       "    <tr>\n",
       "      <th>pct_zeros</th>\n",
       "      <td>39.306052</td>\n",
       "      <td>0.0</td>\n",
       "      <td>100.0</td>\n",
       "      <td>0.000000</td>\n",
       "      <td>0.0</td>\n",
       "      <td>0.027590</td>\n",
       "      <td>0.000000</td>\n",
       "      <td>0.000000</td>\n",
       "      <td>0.000000</td>\n",
       "      <td>0.000000</td>\n",
       "      <td>...</td>\n",
       "      <td>0.004414</td>\n",
       "      <td>0.000000e+00</td>\n",
       "      <td>94.022867</td>\n",
       "      <td>0.000000e+00</td>\n",
       "      <td>8.639695e+01</td>\n",
       "      <td>0.000000</td>\n",
       "      <td>0.000000</td>\n",
       "      <td>0.000000</td>\n",
       "      <td>0.000000</td>\n",
       "      <td>0.000000</td>\n",
       "    </tr>\n",
       "  </tbody>\n",
       "</table>\n",
       "<p>10 rows × 23 columns</p>\n",
       "</div>"
      ],
      "text/plain": [
       "                  deleted  endTime  removed_set      setNumber  startTime  \\\n",
       "count        71232.000000      0.0     181224.0  181224.000000        0.0   \n",
       "mean             0.000000      NaN          0.0       6.493941        NaN   \n",
       "std              0.000000      NaN          0.0       5.946106        NaN   \n",
       "min              0.000000      NaN          0.0       1.000000        NaN   \n",
       "25%              0.000000      NaN          0.0       2.000000        NaN   \n",
       "50%              0.000000      NaN          0.0       5.000000        NaN   \n",
       "75%              0.000000      NaN          0.0       9.000000        NaN   \n",
       "max              0.000000      NaN          0.0     169.000000        NaN   \n",
       "pct_missing     60.690000    100.0          0.0       0.000000      100.0   \n",
       "pct_zeros       39.306052      0.0        100.0       0.000000        0.0   \n",
       "\n",
       "                  rpe_num     weight_lbs     StartMessg           RepN  \\\n",
       "count        61034.000000  181224.000000  181224.000000  181224.000000   \n",
       "mean             7.266047     237.509353   -3219.539150      24.543455   \n",
       "std              1.541093     106.705020     468.222607      24.490327   \n",
       "min              0.000000       1.000000   -3456.000000       1.000000   \n",
       "25%              6.500000     165.000000   -3456.000000       8.000000   \n",
       "50%              7.500000     225.000000   -3456.000000      18.000000   \n",
       "75%              8.000000     308.646800   -3456.000000      33.000000   \n",
       "max             10.000000    1000.000000   -1234.000000     403.000000   \n",
       "pct_missing     66.320000       0.000000       0.000000       0.000000   \n",
       "pct_zeros        0.027590       0.000000       0.000000       0.000000   \n",
       "\n",
       "                    AvgVel      ...            PeakAccel        RepDur  \\\n",
       "count        181224.000000      ...        181224.000000  1.812240e+05   \n",
       "mean              0.468691      ...          -467.837734  1.129646e+06   \n",
       "std               0.223723      ...          1097.396166  4.931590e+05   \n",
       "min               0.039064      ...         -9999.000000  5.000000e+00   \n",
       "25%               0.309058      ...             1.182262  7.780158e+05   \n",
       "50%               0.421928      ...             4.288830  1.065460e+06   \n",
       "75%               0.580345      ...             9.837069  1.407044e+06   \n",
       "max               2.960175      ...         24150.160000  6.072204e+06   \n",
       "pct_missing       0.000000      ...             0.000000  0.000000e+00   \n",
       "pct_zeros         0.000000      ...             0.004414  0.000000e+00   \n",
       "\n",
       "                TimeBWReps   TimeRepComp   TimeRepWait      SlowAllow  \\\n",
       "count        181224.000000  1.812240e+05  1.812240e+05  181224.000000   \n",
       "mean              0.351256  1.706150e+09  2.795605e+05  129349.114167   \n",
       "std               5.669843  1.020477e+09  6.925327e+06    9147.219381   \n",
       "min               0.000000 -9.876000e+03  0.000000e+00      76.039300   \n",
       "25%               0.000000  9.008389e+08  0.000000e+00  130000.000000   \n",
       "50%               0.000000  1.486152e+09  0.000000e+00  130000.000000   \n",
       "75%               0.000000  2.375322e+09  0.000000e+00  130000.000000   \n",
       "max            2295.000000  4.294947e+09  8.366950e+08  130000.000000   \n",
       "pct_missing       0.000000  0.000000e+00  0.000000e+00       0.000000   \n",
       "pct_zeros        94.022867  0.000000e+00  8.639695e+01       0.000000   \n",
       "\n",
       "                 Backlight       MinAllow       setID_ix       RepCount  \n",
       "count        181224.000000  181224.000000  181224.000000  181224.000000  \n",
       "mean           9952.900095  149247.324686   24055.649169       3.375546  \n",
       "std             662.377762   10577.566980   13876.404474       3.284430  \n",
       "min              76.039900      76.029900       1.000000       1.000000  \n",
       "25%           10000.000000  150000.000000   12065.000000       1.000000  \n",
       "50%           10000.000000  150000.000000   24033.000000       3.000000  \n",
       "75%           10000.000000  150000.000000   36057.000000       4.000000  \n",
       "max           10000.000000  150000.000000   48128.000000      87.000000  \n",
       "pct_missing       0.000000       0.000000       0.000000       0.000000  \n",
       "pct_zeros         0.000000       0.000000       0.000000       0.000000  \n",
       "\n",
       "[10 rows x 23 columns]"
      ]
     },
     "execution_count": 34,
     "metadata": {},
     "output_type": "execute_result"
    }
   ],
   "source": [
    "def get_descr(data, features=None):\n",
    "    if features is None:\n",
    "        features = data.columns\n",
    "    data_descr = data[features].describe()\n",
    "    pct_missing = pd.Series(100-np.around(data_descr.loc['count',]/data.shape[0]*100,2))\n",
    "    pct_missing.name = 'pct_missing'\n",
    "    pct_zero = pd.Series([100*sum(data[v] == 0)/data.shape[0] for v in features])\n",
    "    pct_zero.name = 'pct_zeros'\n",
    "    pct_zero.index = pct_missing.index\n",
    "    data_descr = data_descr.append(pct_missing)\n",
    "    data_descr = data_descr.append(pct_zero)\n",
    "    return data_descr\n",
    "\n",
    "get_descr(df_main, features=['deleted', 'endTime', 'removed_set', 'setNumber', 'startTime', 'rpe_num'\n",
    "                             , 'weight_lbs', 'StartMessg', 'RepN', 'AvgVel', 'ROM', 'PeakVel', 'PeakVelLoc'\n",
    "                             , 'PeakAccel', 'RepDur', 'TimeBWReps', 'TimeRepComp', 'TimeRepWait', 'SlowAllow'\n",
    "                             , 'Backlight', 'MinAllow', 'setID_ix', 'RepCount'])"
   ]
  },
  {
   "cell_type": "markdown",
   "metadata": {
    "colab_type": "text",
    "id": "9jiO2BfX_9XM"
   },
   "source": [
    "## 2.3 Target label variable\n",
    "\n",
    "Our primary variable of interest is `exercise_clean`. As we can see based on table below, there are three possible values:\n",
    "\n",
    " - 3 *clean* values: **bench**, **deadlift**, **squat** where user entries for `exercise` were clean and specific "
   ]
  },
  {
   "cell_type": "code",
   "execution_count": 35,
   "metadata": {
    "colab": {},
    "colab_type": "code",
    "id": "fUVaWgVs_9XN",
    "outputId": "34d3d53a-6257-4106-be2a-c6715454b584"
   },
   "outputs": [
    {
     "data": {
      "text/html": [
       "<div>\n",
       "<style scoped>\n",
       "    .dataframe tbody tr th:only-of-type {\n",
       "        vertical-align: middle;\n",
       "    }\n",
       "\n",
       "    .dataframe tbody tr th {\n",
       "        vertical-align: top;\n",
       "    }\n",
       "\n",
       "    .dataframe thead th {\n",
       "        text-align: right;\n",
       "    }\n",
       "</style>\n",
       "<table border=\"1\" class=\"dataframe\">\n",
       "  <thead>\n",
       "    <tr style=\"text-align: right;\">\n",
       "      <th></th>\n",
       "      <th>Exercise</th>\n",
       "      <th>Row count</th>\n",
       "    </tr>\n",
       "  </thead>\n",
       "  <tbody>\n",
       "    <tr>\n",
       "      <th>0</th>\n",
       "      <td>bench</td>\n",
       "      <td>81938</td>\n",
       "    </tr>\n",
       "    <tr>\n",
       "      <th>1</th>\n",
       "      <td>deadlift</td>\n",
       "      <td>32540</td>\n",
       "    </tr>\n",
       "    <tr>\n",
       "      <th>2</th>\n",
       "      <td>squat</td>\n",
       "      <td>66746</td>\n",
       "    </tr>\n",
       "  </tbody>\n",
       "</table>\n",
       "</div>"
      ],
      "text/plain": [
       "   Exercise  Row count\n",
       "0     bench      81938\n",
       "1  deadlift      32540\n",
       "2     squat      66746"
      ]
     },
     "execution_count": 35,
     "metadata": {},
     "output_type": "execute_result"
    }
   ],
   "source": [
    "def get_label_distribution(label):\n",
    "    i, j = np.unique(label, return_counts = True)\n",
    "    return pd.DataFrame({\"Exercise\": i, \"Row count\": j})\n",
    "        \n",
    "get_label_distribution(df_main['exercise_clean'])"
   ]
  },
  {
   "cell_type": "markdown",
   "metadata": {
    "colab_type": "text",
    "id": "tm3DTFEc_9XQ"
   },
   "source": [
    "## 2.4 Analysis key features \n",
    "\n",
    "We are going to focus our analysis on the following set of features:\n",
    "\n",
    "*Rep* specific:\n",
    "\n",
    " - `AvgVel`: Average velocity (m/s)\n",
    " - `ROM`: Range of motion (mm)\n",
    " - `PeakVel`: Peak Velocity (m/s) \n",
    " - `PeakVelLoc`: Peak Velocity Location (%)\n",
    " - `PeakAccel`: Peak Acceleration (potentially drop as it has tracking issues)\n",
    " - `RepDur`: Duration of Rep (microseconds)\n",
    "\n",
    "*Set* specific:\n",
    "\n",
    " - `weight_lbs`: weight (in lbs) for each set (user entry). Potentially exclude it from the analysis to reduce reliance on user inputs \n",
    "\n",
    "The following *rep* specific metrics have inconsistent data and are be dropped for now:\n",
    " - `TimeBWReps`: Time between Reps (minutes)\n",
    " - `TimeRepComp`: Timestamp of Rep Completion (microseconds)\n",
    " - `TimeRepWait`: Timestamp of time \"waiting\" in rep (microseconds)"
   ]
  },
  {
   "cell_type": "code",
   "execution_count": 37,
   "metadata": {
    "colab": {},
    "colab_type": "code",
    "id": "y9Nb0xCS_9XQ",
    "outputId": "82596097-f7fb-4ef2-bdd1-41ad48943222"
   },
   "outputs": [
    {
     "data": {
      "text/html": [
       "<div>\n",
       "<style scoped>\n",
       "    .dataframe tbody tr th:only-of-type {\n",
       "        vertical-align: middle;\n",
       "    }\n",
       "\n",
       "    .dataframe tbody tr th {\n",
       "        vertical-align: top;\n",
       "    }\n",
       "\n",
       "    .dataframe thead th {\n",
       "        text-align: right;\n",
       "    }\n",
       "</style>\n",
       "<table border=\"1\" class=\"dataframe\">\n",
       "  <thead>\n",
       "    <tr style=\"text-align: right;\">\n",
       "      <th></th>\n",
       "      <th>AvgVel</th>\n",
       "      <th>ROM</th>\n",
       "      <th>PeakVel</th>\n",
       "      <th>PeakVelLoc</th>\n",
       "      <th>RepDur</th>\n",
       "      <th>weight_lbs</th>\n",
       "    </tr>\n",
       "  </thead>\n",
       "  <tbody>\n",
       "    <tr>\n",
       "      <th>count</th>\n",
       "      <td>181224.000000</td>\n",
       "      <td>181224.000000</td>\n",
       "      <td>181224.000000</td>\n",
       "      <td>181224.000000</td>\n",
       "      <td>1.812240e+05</td>\n",
       "      <td>181224.000000</td>\n",
       "    </tr>\n",
       "    <tr>\n",
       "      <th>mean</th>\n",
       "      <td>0.468691</td>\n",
       "      <td>462.169144</td>\n",
       "      <td>0.759044</td>\n",
       "      <td>72.447121</td>\n",
       "      <td>1.129646e+06</td>\n",
       "      <td>237.509353</td>\n",
       "    </tr>\n",
       "    <tr>\n",
       "      <th>std</th>\n",
       "      <td>0.223723</td>\n",
       "      <td>155.470025</td>\n",
       "      <td>0.368769</td>\n",
       "      <td>19.757754</td>\n",
       "      <td>4.931590e+05</td>\n",
       "      <td>106.705020</td>\n",
       "    </tr>\n",
       "    <tr>\n",
       "      <th>min</th>\n",
       "      <td>0.039064</td>\n",
       "      <td>150.000000</td>\n",
       "      <td>0.034893</td>\n",
       "      <td>6.000000</td>\n",
       "      <td>5.000000e+00</td>\n",
       "      <td>1.000000</td>\n",
       "    </tr>\n",
       "    <tr>\n",
       "      <th>25%</th>\n",
       "      <td>0.309058</td>\n",
       "      <td>328.000000</td>\n",
       "      <td>0.473064</td>\n",
       "      <td>65.000000</td>\n",
       "      <td>7.780158e+05</td>\n",
       "      <td>165.000000</td>\n",
       "    </tr>\n",
       "    <tr>\n",
       "      <th>50%</th>\n",
       "      <td>0.421928</td>\n",
       "      <td>443.000000</td>\n",
       "      <td>0.706708</td>\n",
       "      <td>79.000000</td>\n",
       "      <td>1.065460e+06</td>\n",
       "      <td>225.000000</td>\n",
       "    </tr>\n",
       "    <tr>\n",
       "      <th>75%</th>\n",
       "      <td>0.580345</td>\n",
       "      <td>595.000000</td>\n",
       "      <td>0.966042</td>\n",
       "      <td>87.000000</td>\n",
       "      <td>1.407044e+06</td>\n",
       "      <td>308.646800</td>\n",
       "    </tr>\n",
       "    <tr>\n",
       "      <th>max</th>\n",
       "      <td>2.960175</td>\n",
       "      <td>1761.000000</td>\n",
       "      <td>5.329412</td>\n",
       "      <td>99.000000</td>\n",
       "      <td>6.072204e+06</td>\n",
       "      <td>1000.000000</td>\n",
       "    </tr>\n",
       "  </tbody>\n",
       "</table>\n",
       "</div>"
      ],
      "text/plain": [
       "              AvgVel            ROM        PeakVel     PeakVelLoc  \\\n",
       "count  181224.000000  181224.000000  181224.000000  181224.000000   \n",
       "mean        0.468691     462.169144       0.759044      72.447121   \n",
       "std         0.223723     155.470025       0.368769      19.757754   \n",
       "min         0.039064     150.000000       0.034893       6.000000   \n",
       "25%         0.309058     328.000000       0.473064      65.000000   \n",
       "50%         0.421928     443.000000       0.706708      79.000000   \n",
       "75%         0.580345     595.000000       0.966042      87.000000   \n",
       "max         2.960175    1761.000000       5.329412      99.000000   \n",
       "\n",
       "             RepDur     weight_lbs  \n",
       "count  1.812240e+05  181224.000000  \n",
       "mean   1.129646e+06     237.509353  \n",
       "std    4.931590e+05     106.705020  \n",
       "min    5.000000e+00       1.000000  \n",
       "25%    7.780158e+05     165.000000  \n",
       "50%    1.065460e+06     225.000000  \n",
       "75%    1.407044e+06     308.646800  \n",
       "max    6.072204e+06    1000.000000  "
      ]
     },
     "execution_count": 37,
     "metadata": {},
     "output_type": "execute_result"
    }
   ],
   "source": [
    "df_main[['AvgVel', 'ROM', 'PeakVel', 'PeakVelLoc', 'RepDur', 'weight_lbs']].describe()"
   ]
  },
  {
   "cell_type": "markdown",
   "metadata": {
    "colab_type": "text",
    "id": "8b6euZ8p_9XT"
   },
   "source": [
    "# 3. Feature Engineer the Data"
   ]
  },
  {
   "cell_type": "code",
   "execution_count": 38,
   "metadata": {
    "colab": {},
    "colab_type": "code",
    "id": "RZE1X1UP_9XY",
    "outputId": "712d5748-420a-48e8-95eb-8f678e340ec4"
   },
   "outputs": [
    {
     "name": "stdout",
     "output_type": "stream",
     "text": [
      "Data shape after feature selection: (181224, 9)\n"
     ]
    }
   ],
   "source": [
    "features_to_keep = ['AvgVel', 'ROM', 'PeakVel', 'PeakVelLoc', 'RepDur', 'weight_lbs']\n",
    "primary_label = 'exercise_clean'\n",
    "id_columns = ['setID_ix', 'RepCount']\n",
    "\n",
    "# keep only the columns we care about\n",
    "df_main = df_main[[primary_label] + features_to_keep + id_columns]\n",
    "print(\"Data shape after feature selection: {0}\".format(df_main.shape))"
   ]
  },
  {
   "cell_type": "markdown",
   "metadata": {
    "colab_type": "text",
    "id": "YgiHYs0f_9Xb"
   },
   "source": [
    "#### Main training dataset summary"
   ]
  },
  {
   "cell_type": "code",
   "execution_count": 39,
   "metadata": {
    "colab": {},
    "colab_type": "code",
    "id": "iqfiXATr_9Xb",
    "outputId": "7605fccc-9564-4921-dd14-f3cc23c39315"
   },
   "outputs": [
    {
     "data": {
      "text/html": [
       "<div>\n",
       "<style scoped>\n",
       "    .dataframe tbody tr th:only-of-type {\n",
       "        vertical-align: middle;\n",
       "    }\n",
       "\n",
       "    .dataframe tbody tr th {\n",
       "        vertical-align: top;\n",
       "    }\n",
       "\n",
       "    .dataframe thead th {\n",
       "        text-align: right;\n",
       "    }\n",
       "</style>\n",
       "<table border=\"1\" class=\"dataframe\">\n",
       "  <thead>\n",
       "    <tr style=\"text-align: right;\">\n",
       "      <th></th>\n",
       "      <th>AvgVel</th>\n",
       "      <th>ROM</th>\n",
       "      <th>PeakVel</th>\n",
       "      <th>PeakVelLoc</th>\n",
       "      <th>RepDur</th>\n",
       "      <th>weight_lbs</th>\n",
       "      <th>setID_ix</th>\n",
       "      <th>RepCount</th>\n",
       "    </tr>\n",
       "  </thead>\n",
       "  <tbody>\n",
       "    <tr>\n",
       "      <th>count</th>\n",
       "      <td>181224.000000</td>\n",
       "      <td>181224.000000</td>\n",
       "      <td>181224.000000</td>\n",
       "      <td>181224.000000</td>\n",
       "      <td>1.812240e+05</td>\n",
       "      <td>181224.000000</td>\n",
       "      <td>181224.000000</td>\n",
       "      <td>181224.000000</td>\n",
       "    </tr>\n",
       "    <tr>\n",
       "      <th>mean</th>\n",
       "      <td>0.468691</td>\n",
       "      <td>462.169144</td>\n",
       "      <td>0.759044</td>\n",
       "      <td>72.447121</td>\n",
       "      <td>1.129646e+06</td>\n",
       "      <td>237.509353</td>\n",
       "      <td>24055.649169</td>\n",
       "      <td>3.375546</td>\n",
       "    </tr>\n",
       "    <tr>\n",
       "      <th>std</th>\n",
       "      <td>0.223723</td>\n",
       "      <td>155.470025</td>\n",
       "      <td>0.368769</td>\n",
       "      <td>19.757754</td>\n",
       "      <td>4.931590e+05</td>\n",
       "      <td>106.705020</td>\n",
       "      <td>13876.404474</td>\n",
       "      <td>3.284430</td>\n",
       "    </tr>\n",
       "    <tr>\n",
       "      <th>min</th>\n",
       "      <td>0.039064</td>\n",
       "      <td>150.000000</td>\n",
       "      <td>0.034893</td>\n",
       "      <td>6.000000</td>\n",
       "      <td>5.000000e+00</td>\n",
       "      <td>1.000000</td>\n",
       "      <td>1.000000</td>\n",
       "      <td>1.000000</td>\n",
       "    </tr>\n",
       "    <tr>\n",
       "      <th>25%</th>\n",
       "      <td>0.309058</td>\n",
       "      <td>328.000000</td>\n",
       "      <td>0.473064</td>\n",
       "      <td>65.000000</td>\n",
       "      <td>7.780158e+05</td>\n",
       "      <td>165.000000</td>\n",
       "      <td>12065.000000</td>\n",
       "      <td>1.000000</td>\n",
       "    </tr>\n",
       "    <tr>\n",
       "      <th>50%</th>\n",
       "      <td>0.421928</td>\n",
       "      <td>443.000000</td>\n",
       "      <td>0.706708</td>\n",
       "      <td>79.000000</td>\n",
       "      <td>1.065460e+06</td>\n",
       "      <td>225.000000</td>\n",
       "      <td>24033.000000</td>\n",
       "      <td>3.000000</td>\n",
       "    </tr>\n",
       "    <tr>\n",
       "      <th>75%</th>\n",
       "      <td>0.580345</td>\n",
       "      <td>595.000000</td>\n",
       "      <td>0.966042</td>\n",
       "      <td>87.000000</td>\n",
       "      <td>1.407044e+06</td>\n",
       "      <td>308.646800</td>\n",
       "      <td>36057.000000</td>\n",
       "      <td>4.000000</td>\n",
       "    </tr>\n",
       "    <tr>\n",
       "      <th>max</th>\n",
       "      <td>2.960175</td>\n",
       "      <td>1761.000000</td>\n",
       "      <td>5.329412</td>\n",
       "      <td>99.000000</td>\n",
       "      <td>6.072204e+06</td>\n",
       "      <td>1000.000000</td>\n",
       "      <td>48128.000000</td>\n",
       "      <td>87.000000</td>\n",
       "    </tr>\n",
       "  </tbody>\n",
       "</table>\n",
       "</div>"
      ],
      "text/plain": [
       "              AvgVel            ROM        PeakVel     PeakVelLoc  \\\n",
       "count  181224.000000  181224.000000  181224.000000  181224.000000   \n",
       "mean        0.468691     462.169144       0.759044      72.447121   \n",
       "std         0.223723     155.470025       0.368769      19.757754   \n",
       "min         0.039064     150.000000       0.034893       6.000000   \n",
       "25%         0.309058     328.000000       0.473064      65.000000   \n",
       "50%         0.421928     443.000000       0.706708      79.000000   \n",
       "75%         0.580345     595.000000       0.966042      87.000000   \n",
       "max         2.960175    1761.000000       5.329412      99.000000   \n",
       "\n",
       "             RepDur     weight_lbs       setID_ix       RepCount  \n",
       "count  1.812240e+05  181224.000000  181224.000000  181224.000000  \n",
       "mean   1.129646e+06     237.509353   24055.649169       3.375546  \n",
       "std    4.931590e+05     106.705020   13876.404474       3.284430  \n",
       "min    5.000000e+00       1.000000       1.000000       1.000000  \n",
       "25%    7.780158e+05     165.000000   12065.000000       1.000000  \n",
       "50%    1.065460e+06     225.000000   24033.000000       3.000000  \n",
       "75%    1.407044e+06     308.646800   36057.000000       4.000000  \n",
       "max    6.072204e+06    1000.000000   48128.000000      87.000000  "
      ]
     },
     "execution_count": 39,
     "metadata": {},
     "output_type": "execute_result"
    }
   ],
   "source": [
    "df_main.describe()"
   ]
  },
  {
   "cell_type": "markdown",
   "metadata": {
    "colab_type": "text",
    "id": "S2Tdrf2O_9Xh"
   },
   "source": [
    "## 3.2 Factorize target variable"
   ]
  },
  {
   "cell_type": "code",
   "execution_count": 40,
   "metadata": {
    "colab": {},
    "colab_type": "code",
    "id": "ZR6RqZuR_9Xh",
    "outputId": "732d33f1-668b-4132-971a-b382ced36d93"
   },
   "outputs": [
    {
     "name": "stdout",
     "output_type": "stream",
     "text": [
      "Index(['bench', 'deadlift', 'squat'], dtype='object')\n"
     ]
    },
    {
     "data": {
      "text/html": [
       "<div>\n",
       "<style scoped>\n",
       "    .dataframe tbody tr th:only-of-type {\n",
       "        vertical-align: middle;\n",
       "    }\n",
       "\n",
       "    .dataframe tbody tr th {\n",
       "        vertical-align: top;\n",
       "    }\n",
       "\n",
       "    .dataframe thead th {\n",
       "        text-align: right;\n",
       "    }\n",
       "</style>\n",
       "<table border=\"1\" class=\"dataframe\">\n",
       "  <thead>\n",
       "    <tr style=\"text-align: right;\">\n",
       "      <th></th>\n",
       "      <th>Exercise</th>\n",
       "      <th>Row count</th>\n",
       "    </tr>\n",
       "  </thead>\n",
       "  <tbody>\n",
       "    <tr>\n",
       "      <th>0</th>\n",
       "      <td>0</td>\n",
       "      <td>81938</td>\n",
       "    </tr>\n",
       "    <tr>\n",
       "      <th>1</th>\n",
       "      <td>1</td>\n",
       "      <td>32540</td>\n",
       "    </tr>\n",
       "    <tr>\n",
       "      <th>2</th>\n",
       "      <td>2</td>\n",
       "      <td>66746</td>\n",
       "    </tr>\n",
       "  </tbody>\n",
       "</table>\n",
       "</div>"
      ],
      "text/plain": [
       "   Exercise  Row count\n",
       "0         0      81938\n",
       "1         1      32540\n",
       "2         2      66746"
      ]
     },
     "execution_count": 40,
     "metadata": {},
     "output_type": "execute_result"
    }
   ],
   "source": [
    "# creating primary target label array\n",
    "labels_main_num, labels_main_names = pd.factorize(df_main[primary_label], sort=True)\n",
    "print(labels_main_names)\n",
    "get_label_distribution(labels_main_num)"
   ]
  },
  {
   "cell_type": "markdown",
   "metadata": {
    "colab_type": "text",
    "id": "P3-PUTCF_9Xp"
   },
   "source": [
    "## 3.3 Feature Engineering\n",
    "\n",
    "Todo!"
   ]
  },
  {
   "cell_type": "code",
   "execution_count": null,
   "metadata": {
    "colab": {},
    "colab_type": "code",
    "id": "KGUqjeOZ_9Xp"
   },
   "outputs": [],
   "source": [
    "def feature_engineer_data(data):\n",
    "    # todo\n",
    "    return data"
   ]
  },
  {
   "cell_type": "markdown",
   "metadata": {
    "colab_type": "text",
    "id": "VGfomy4v_9Xs"
   },
   "source": [
    "#### Remove target and id variables from feature dataset"
   ]
  },
  {
   "cell_type": "code",
   "execution_count": 41,
   "metadata": {
    "colab": {},
    "colab_type": "code",
    "id": "3x8acrq8_9Xt"
   },
   "outputs": [],
   "source": [
    "df_main = df_main.drop(primary_label, axis=1)"
   ]
  },
  {
   "cell_type": "markdown",
   "metadata": {
    "colab_type": "text",
    "id": "I0RJyQEv_9Xv"
   },
   "source": [
    "# 4. Separate Data Into Train, Dev, & Test Sets\n",
    "\n",
    "For this project, we are splitting the dataset into the following three categories:\n",
    "1. Train - 80%\n",
    "2. Dev - 10%\n",
    "3. Test - 10%\n",
    "\n",
    "Train will be used to train the model. We will use Dev to test our pipeline and model modifications. We will use Test as a final checkpoint of model performance.\n"
   ]
  },
  {
   "cell_type": "markdown",
   "metadata": {
    "colab_type": "text",
    "id": "QDtlP9dy_9Xx"
   },
   "source": [
    "## 4.1 Shuffle and Partition main dataset"
   ]
  },
  {
   "cell_type": "code",
   "execution_count": 43,
   "metadata": {
    "colab": {},
    "colab_type": "code",
    "id": "sfAVULDS_9X0",
    "outputId": "b8759afd-81d1-4c57-bc39-a21d098ab3ed"
   },
   "outputs": [
    {
     "name": "stdout",
     "output_type": "stream",
     "text": [
      "Dev data & labels shapes: (18124, 8), 18124\n",
      "Test data & labels shapes: (18123, 8), 18123\n",
      "Train data & labels shapes: (144977, 8), 144977\n"
     ]
    }
   ],
   "source": [
    "def partition_data(data, labels, dev_pct, test_pct, seed):\n",
    "    \"\"\"\n",
    "    Partitions input dataset into training, development and testing \n",
    "    \n",
    "    Args:\n",
    "        data: feature dataset\n",
    "        labels: array of target labels\n",
    "        dev_pct: float, percent of data to allocate to development\n",
    "        test_pct: float, percent of data to allocate to testing\n",
    "        seed: int, random seed\n",
    "        \n",
    "    Returns:\n",
    "        6-tuple with 3 feature datasets and 3 target label arrays\n",
    "    \"\"\"\n",
    "    \n",
    "    data_shuffled = [data for _, data in data.groupby('setID_ix')]\n",
    "    random.seed(seed)\n",
    "    random.shuffle(data_shuffled)\n",
    "    data_shuffled = pd.concat(data_shuffled)\n",
    "\n",
    "    labels_shuffled = []\n",
    "    for row in data_shuffled.itertuples():\n",
    "        labels_shuffled.append(labels[row.Index])\n",
    "        \n",
    "    data_shuffled = data_shuffled.reset_index(drop=True)\n",
    "\n",
    "    dev_cnt = int(np.round(len(data_shuffled) * dev_pct))\n",
    "    while (data_shuffled.iloc[dev_cnt]['setID_ix'] == data_shuffled.iloc[dev_cnt + 1]['setID_ix']):\n",
    "        dev_cnt += 1\n",
    "        \n",
    "    test_cnt = int(np.round(len(data_shuffled) * test_pct))\n",
    "    while (data_shuffled.iloc[dev_cnt + test_cnt]['setID_ix'] == data_shuffled.iloc[dev_cnt + test_cnt + 1]['setID_ix']):\n",
    "        test_cnt += 1\n",
    "    \n",
    "    dev_data, dev_labels = data_shuffled[:dev_cnt], labels_shuffled[:dev_cnt]\n",
    "    test_data, test_labels = data_shuffled[dev_cnt:dev_cnt + test_cnt], labels_shuffled[dev_cnt:dev_cnt + test_cnt]\n",
    "    train_data, train_labels = data_shuffled[dev_cnt + test_cnt:], labels_shuffled[dev_cnt + test_cnt:]\n",
    "    \n",
    "    return train_data, test_data, dev_data, train_labels, test_labels, dev_labels\n",
    "\n",
    "\n",
    "train_data, test_data, dev_data, train_labels, test_labels, dev_labels = partition_data(df_main, labels_main_num, .1, .1, 5)\n",
    "\n",
    "print(f'Dev data & labels shapes: {dev_data.shape}, {len(dev_labels)}')\n",
    "print(f'Test data & labels shapes: {test_data.shape}, {len(test_labels)}')\n",
    "print(f'Train data & labels shapes: {train_data.shape}, {len(train_labels)}')\n"
   ]
  },
  {
   "cell_type": "markdown",
   "metadata": {
    "colab_type": "text",
    "id": "bNH3YKHx_9X4"
   },
   "source": [
    "## 4.3 Standardize training dataset"
   ]
  },
  {
   "cell_type": "code",
   "execution_count": 23,
   "metadata": {
    "colab": {},
    "colab_type": "code",
    "id": "oIq-u_-A_9X4",
    "outputId": "2c384974-632f-4658-9bd8-fb7b71a36f36"
   },
   "outputs": [
    {
     "name": "stdout",
     "output_type": "stream",
     "text": [
      "\n",
      "Means of standardized features:\n",
      " [ 0. -0. -0.  0.  0. -0.]\n",
      "STDV of transform features:\n",
      " [1. 1. 1. 1. 1. 1.]\n",
      "\n",
      "Means of standardized features:\n",
      " [-0.  0.  0. -0.  0.  0.]\n",
      "STDV of transform features:\n",
      " [0.99 1.   0.99 1.   1.   1.01]\n",
      "\n",
      "Means of standardized features:\n",
      " [-0.   -0.01 -0.   -0.01 -0.01 -0.  ]\n",
      "STDV of transform features:\n",
      " [1.   0.99 0.99 1.01 0.99 1.  ]\n",
      "\n",
      "Means of standardized features:\n",
      " [ 0.15  0.01  0.11 -0.07 -0.21 -0.12]\n",
      "STDV of transform features:\n",
      " [0.97 0.99 1.02 1.04 0.9  0.93]\n"
     ]
    }
   ],
   "source": [
    "def standardize_data(train_data, test_data, dev_data, data_fit):\n",
    "    \"\"\"\n",
    "    Standardize input dataset and apply it to the second input dataset\n",
    "    \n",
    "    Args:\n",
    "        train_data: train dataset to apply standardization to\n",
    "        test_data: test dataset to apply standardization to\n",
    "        dev_data: dev dataset to apply standardization to\n",
    "        data_fit: dataset used to fit standardization\n",
    "    \n",
    "    Returns:\n",
    "        standardized dataset\n",
    "    \"\"\"\n",
    "    \n",
    "    scaler = preprocessing.StandardScaler().fit(data_fit)\n",
    "    data_std = scaler.transform(data_transform)\n",
    "    print(f\"\\nMeans of standardized features:\\n {np.around(np.mean(data_std, axis = 0),2)}\")\n",
    "    print(f\"STDV of transform features:\\n {np.around(np.std(data_std, axis = 0),2)}\")\n",
    "    return data_std\n",
    "\n",
    "\n",
    "# first need to remove id columns since they are not features\n",
    "train_data_noids = train_data.drop(id_columns, axis = 1)\n",
    "dev_data_noids = dev_data.drop(id_columns, axis = 1)\n",
    "test_data_noids = test_data.drop(id_columns, axis = 1)\n",
    "df_other_noids = df_other.drop(id_columns, axis = 1)\n",
    "train_data_std = standardize_data(train_data_noids, train_data_noids)\n",
    "dev_data_std = standardize_data(train_data_noids, dev_data_noids)\n",
    "test_data_std = standardize_data(train_data_noids, test_data_noids)\n",
    "df_other_std = standardize_data(train_data_noids, df_other_noids)"
   ]
  },
  {
   "cell_type": "markdown",
   "metadata": {
    "colab_type": "text",
    "id": "lV4SOo-U_9X6"
   },
   "source": [
    "# 5. Train and Test the Model"
   ]
  },
  {
   "cell_type": "markdown",
   "metadata": {
    "colab_type": "text",
    "id": "tXkIlqs8_9X6"
   },
   "source": [
    "## 5.1 Define general function for classfication"
   ]
  },
  {
   "cell_type": "markdown",
   "metadata": {
    "colab_type": "text",
    "id": "yUBSrE0e_9X7"
   },
   "source": [
    "### TODO:\n",
    "\n",
    " - adjust `argv` to make it more general"
   ]
  },
  {
   "cell_type": "code",
   "execution_count": 24,
   "metadata": {
    "colab": {},
    "colab_type": "code",
    "id": "KjblSi84_9X7"
   },
   "outputs": [],
   "source": [
    "# DROP\n",
    "\n",
    "def make_classifier(classifier, train, train_labs, dev, dev_labs, lab_names, printout, *argv):\n",
    "    \n",
    "    \n",
    "    if argv:\n",
    "        clsf = classifier(argv[0])\n",
    "        print(f\"\\nResults for key parameter value = {argv[0]}\")\n",
    "    else:\n",
    "        clsf = classifier()\n",
    "    clsf.fit(train, train_labs)\n",
    "    pred_labs = clsf.predict(dev)\n",
    "    print(f\"Accuracy on non-training data: {clsf.score(dev, dev_labs)*100:.2f}%\")\n",
    "    \n",
    "    if printout == True:\n",
    "        get_performance(dev_labs, pred_labs, lab_names)\n",
    "    \n",
    "    return pred_labs"
   ]
  },
  {
   "cell_type": "code",
   "execution_count": 25,
   "metadata": {
    "colab": {},
    "colab_type": "code",
    "id": "8yy1QXdE_9X9"
   },
   "outputs": [],
   "source": [
    "# borrowed from scikit learn tutorial\n",
    "# http://scikit-learn.org/stable/auto_examples/model_selection/plot_confusion_matrix.html#sphx-glr-auto-examples-model-selection-plot-confusion-matrix-py\n",
    "\n",
    "np.set_printoptions(precision=2)\n",
    "\n",
    "def plot_confusion_matrix(true_labs, pred_labs,\n",
    "                          lab_names,\n",
    "                          normalize=False,\n",
    "                          title='Confusion matrix',\n",
    "                          cmap=plt.cm.Blues):\n",
    "    \"\"\"\n",
    "    This function prints and plots the confusion matrix.\n",
    "    Normalization can be applied by setting `normalize=True`.\n",
    "    \"\"\"\n",
    "    \n",
    "    cm = confusion_matrix(true_labs, pred_labs)\n",
    "    if normalize:\n",
    "        cm = cm.astype('float') / cm.sum(axis=1)[:, np.newaxis]\n",
    "    \n",
    "    plt.figure()\n",
    "    plt.imshow(cm, interpolation='nearest', cmap=cmap)\n",
    "    plt.title(title)\n",
    "    plt.colorbar()\n",
    "    tick_marks = np.arange(len(lab_names))\n",
    "    plt.xticks(tick_marks, lab_names, rotation=45)\n",
    "    plt.yticks(tick_marks, lab_names)\n",
    "\n",
    "    fmt = '.2f' if normalize else 'd'\n",
    "    thresh = cm.max() / 2.\n",
    "    for i, j in itertools.product(range(cm.shape[0]), range(cm.shape[1])):\n",
    "        plt.text(j, i, format(cm[i, j], fmt),\n",
    "                 horizontalalignment=\"center\",\n",
    "                 color=\"white\" if cm[i, j] > thresh else \"black\")\n",
    "\n",
    "    plt.tight_layout()\n",
    "    plt.ylabel('True label')\n",
    "    plt.xlabel('Predicted label')\n",
    "    plt.show()"
   ]
  },
  {
   "cell_type": "code",
   "execution_count": 26,
   "metadata": {
    "colab": {},
    "colab_type": "code",
    "id": "QuNXlNMk_9X-"
   },
   "outputs": [],
   "source": [
    "def get_performance(true_labs, pred_labs, lab_names):\n",
    "\n",
    "    print(\"=\"*50)\n",
    "    print(\"Classification report by exercise:\")\n",
    "    print(classification_report(true_labs, pred_labs, target_names=lab_names))\n",
    "    print(\"=\"*50)\n",
    "    print(\"Confusion matrix:\")\n",
    "    print(pd.DataFrame(confusion_matrix(true_labs, pred_labs), columns=lab_names, index=lab_names))\n",
    "    plot_confusion_matrix(true_labs, pred_labs, lab_names, normalize=True, title='Normalized Confusion Matrix')"
   ]
  },
  {
   "cell_type": "markdown",
   "metadata": {
    "colab_type": "text",
    "id": "z6t8UffL_9YA"
   },
   "source": [
    "## 5.2 KNN\n",
    "\n",
    "**Key findings**:\n",
    "\n",
    " - It appears that k value doesn't really matter\n",
    " - Validates well on development dataset with clean labels\n",
    " - Drops 10 points in accuracy on other data\n",
    " - Deadlift classification is an issue, especially on the \"other\" data"
   ]
  },
  {
   "cell_type": "markdown",
   "metadata": {
    "colab_type": "text",
    "id": "xJPUeyvu_9YB"
   },
   "source": [
    "### 5.2.1 What k to use?"
   ]
  },
  {
   "cell_type": "code",
   "execution_count": 27,
   "metadata": {
    "colab": {},
    "colab_type": "code",
    "id": "j_JUc3Hi_9YC",
    "outputId": "08746c39-ccc8-4022-ab89-182bcfb9eda5"
   },
   "outputs": [
    {
     "name": "stdout",
     "output_type": "stream",
     "text": [
      "\n",
      "Results for key parameter value = 1\n",
      "Accuracy on non-training data: 94.95%\n",
      "\n",
      "Results for key parameter value = 2\n",
      "Accuracy on non-training data: 94.68%\n",
      "\n",
      "Results for key parameter value = 3\n",
      "Accuracy on non-training data: 95.45%\n",
      "\n",
      "Results for key parameter value = 4\n",
      "Accuracy on non-training data: 95.35%\n",
      "\n",
      "Results for key parameter value = 5\n",
      "Accuracy on non-training data: 95.62%\n",
      "\n",
      "Results for key parameter value = 6\n",
      "Accuracy on non-training data: 95.55%\n",
      "\n",
      "Results for key parameter value = 7\n",
      "Accuracy on non-training data: 95.65%\n",
      "\n",
      "Results for key parameter value = 8\n",
      "Accuracy on non-training data: 95.58%\n",
      "\n",
      "Results for key parameter value = 9\n",
      "Accuracy on non-training data: 95.56%\n",
      "\n",
      "Results for key parameter value = 10\n",
      "Accuracy on non-training data: 95.49%\n"
     ]
    }
   ],
   "source": [
    "for k in range(1, 11):\n",
    "    make_classifier(KNeighborsClassifier, train_data_std, train_labels, dev_data_std, dev_labels, labels_main_names, False, k)"
   ]
  },
  {
   "cell_type": "markdown",
   "metadata": {
    "colab_type": "text",
    "id": "oeSjKDtW_9YE"
   },
   "source": [
    "### 5.2.2 Train the model with k = 1"
   ]
  },
  {
   "cell_type": "code",
   "execution_count": 143,
   "metadata": {},
   "outputs": [
    {
     "name": "stdout",
     "output_type": "stream",
     "text": [
      "==================================================\n",
      "Classification report by exercise:\n",
      "             precision    recall  f1-score   support\n",
      "\n",
      "      bench       0.98      0.98      0.98      9003\n",
      "   deadlift       0.89      0.88      0.89      3430\n",
      "      squat       0.94      0.94      0.94      7347\n",
      "\n",
      "avg / total       0.95      0.95      0.95     19780\n",
      "\n",
      "==================================================\n",
      "Confusion matrix:\n",
      "          bench  deadlift  squat\n",
      "bench      8830        65    108\n",
      "deadlift     85      3033    312\n",
      "squat       122       306   6919\n"
     ]
    },
    {
     "data": {
      "image/png": "[encoded data removed]",
      "text/plain": [
       "<matplotlib.figure.Figure at 0x1a1bd4bdd8>"
      ]
     },
     "metadata": {},
     "output_type": "display_data"
    }
   ],
   "source": [
    "# Model K nearest neighbors\n",
    "\n",
    "knn_model = KNeighborsClassifier(n_neighbors=1)\n",
    "knn_model.fit(train_data_std, train_labels)\n",
    "\n",
    "knn_predicts = knn_model.predict(dev_data_std)\n",
    "\n",
    "# Score and Evaluate KNN\n",
    "get_performance(dev_labels, knn_predicts, labels_main_names)"
   ]
  },
  {
   "cell_type": "code",
   "execution_count": 144,
   "metadata": {
    "colab": {},
    "colab_type": "code",
    "id": "f3foRYOE_9YF",
    "outputId": "bf638246-d592-4bee-f774-95d8be9b5d08"
   },
   "outputs": [],
   "source": [
    "# old code\n",
    "# knn_dev_prediciton = make_classifier(KNeighborsClassifier, train_data_std, train_labels, dev_data_std, dev_labels, labels_main_names, True, 1)\n"
   ]
  },
  {
   "cell_type": "markdown",
   "metadata": {
    "colab_type": "text",
    "id": "byb8tuZQ_9YI"
   },
   "source": [
    "### 5.2.3 Check performance on \"other\" labels"
   ]
  },
  {
   "cell_type": "code",
   "execution_count": 29,
   "metadata": {
    "colab": {},
    "colab_type": "code",
    "id": "YK0mLx8I_9YI",
    "outputId": "6f876cd7-9944-446a-ec0d-142f3211cb70"
   },
   "outputs": [
    {
     "name": "stdout",
     "output_type": "stream",
     "text": [
      "\n",
      "Results for key parameter value = 1\n",
      "Accuracy on non-training data: 85.13%\n",
      "==================================================\n",
      "Classification report by exercise:\n",
      "                precision    recall  f1-score   support\n",
      "\n",
      "   bench other       0.90      0.95      0.92     33223\n",
      "deadlift other       0.47      0.72      0.57      7151\n",
      "   squat other       0.92      0.79      0.85     40147\n",
      "\n",
      "   avg / total       0.87      0.85      0.86     80521\n",
      "\n",
      "==================================================\n",
      "Confusion matrix:\n",
      "                bench other  deadlift other  squat other\n",
      "bench other           31607             531         1085\n",
      "deadlift other          345            5147         1659\n",
      "squat other            3193            5160        31794\n"
     ]
    },
    {
     "data": {
      "image/png": "[encoded data removed]",
      "text/plain": [
       "<matplotlib.figure.Figure at 0x1a0fb77be0>"
      ]
     },
     "metadata": {},
     "output_type": "display_data"
    }
   ],
   "source": [
    "knn_other_prediction = make_classifier(KNeighborsClassifier, train_data_std, train_labels, df_other_std, labels_other_num, labels_other_names, True, 1)"
   ]
  },
  {
   "cell_type": "markdown",
   "metadata": {
    "colab_type": "text",
    "id": "iIbJisoX_9YL"
   },
   "source": [
    "## 5.3 Gaussian NB\n",
    "\n",
    "**Key findings**:\n",
    "\n",
    " - Lower accuracy of development data compared to KNN\n",
    " - Poor performance for deadlift classification\n",
    " - No drop in accuracy on \"other\" data (same accuracy as in KNN)\n",
    " - But dealift accuracy is still lagging"
   ]
  },
  {
   "cell_type": "markdown",
   "metadata": {
    "colab_type": "text",
    "id": "DmQ682LK_9YM"
   },
   "source": [
    "### 5.3.1 Model without any customization and validate on development data"
   ]
  },
  {
   "cell_type": "code",
   "execution_count": 145,
   "metadata": {
    "colab": {},
    "colab_type": "code",
    "id": "WLjXDB-6_9YM",
    "outputId": "a8e73c0a-0cc4-4ab5-8619-d53f2c1bc985"
   },
   "outputs": [
    {
     "name": "stdout",
     "output_type": "stream",
     "text": [
      "==================================================\n",
      "Classification report by exercise:\n",
      "             precision    recall  f1-score   support\n",
      "\n",
      "      bench       0.98      0.98      0.98      9003\n",
      "   deadlift       0.89      0.88      0.89      3430\n",
      "      squat       0.94      0.94      0.94      7347\n",
      "\n",
      "avg / total       0.95      0.95      0.95     19780\n",
      "\n",
      "==================================================\n",
      "Confusion matrix:\n",
      "          bench  deadlift  squat\n",
      "bench      8830        65    108\n",
      "deadlift     85      3033    312\n",
      "squat       122       306   6919\n"
     ]
    },
    {
     "data": {
      "image/png": "[encoded data removed]",
      "text/plain": [
       "<matplotlib.figure.Figure at 0x1a2b98a2e8>"
      ]
     },
     "metadata": {},
     "output_type": "display_data"
    }
   ],
   "source": [
    "# old code\n",
    "# gnb_dev_predictions = make_classifier(GaussianNB, train_data_std, train_labels, dev_data_std, dev_labels, labels_main_names, True)\n",
    "\n",
    "GNB_model = GaussianNB()\n",
    "GNB_model.fit(train_data_std, train_labels)\n",
    "GNB_predicts = GNB_model.predict(dev_data_std)\n",
    "\n",
    "get_performance(dev_labels, knn_predicts, labels_main_names)"
   ]
  },
  {
   "cell_type": "markdown",
   "metadata": {
    "colab_type": "text",
    "id": "qtymu1oj_9YP"
   },
   "source": [
    "### 5.3.2 Model performance on \"other\" labels"
   ]
  },
  {
   "cell_type": "code",
   "execution_count": 31,
   "metadata": {
    "colab": {},
    "colab_type": "code",
    "id": "eaN-bvC0_9YP",
    "outputId": "3902ee01-9eb5-440a-ab7b-d1d2e2e148de"
   },
   "outputs": [
    {
     "name": "stdout",
     "output_type": "stream",
     "text": [
      "Accuracy on non-training data: 87.10%\n",
      "==================================================\n",
      "Classification report by exercise:\n",
      "                precision    recall  f1-score   support\n",
      "\n",
      "   bench other       0.90      0.97      0.93     33223\n",
      "deadlift other       0.54      0.74      0.62      7151\n",
      "   squat other       0.94      0.81      0.87     40147\n",
      "\n",
      "   avg / total       0.89      0.87      0.87     80521\n",
      "\n",
      "==================================================\n",
      "Confusion matrix:\n",
      "                bench other  deadlift other  squat other\n",
      "bench other           32259             304          660\n",
      "deadlift other          342            5281         1528\n",
      "squat other            3297            4257        32593\n"
     ]
    },
    {
     "data": {
      "image/png": "[encoded data removed]",
      "text/plain": [
       "<matplotlib.figure.Figure at 0x10ac30c18>"
      ]
     },
     "metadata": {},
     "output_type": "display_data"
    }
   ],
   "source": [
    "gnb_other_prediction = make_classifier(KNeighborsClassifier, train_data_std, train_labels, df_other_std, labels_other_num, labels_other_names, True)"
   ]
  },
  {
   "cell_type": "markdown",
   "metadata": {
    "colab_type": "text",
    "id": "2Yj3CInK_9YQ"
   },
   "source": [
    "## 5.4 Decision Trees"
   ]
  },
  {
   "cell_type": "markdown",
   "metadata": {
    "colab_type": "text",
    "id": "OUHogmch_9YR"
   },
   "source": [
    "### 5.4.1 Model formation"
   ]
  },
  {
   "cell_type": "markdown",
   "metadata": {
    "colab_type": "text",
    "id": "VHsWz7yH_9YR"
   },
   "source": [
    "**Key findings**:\n",
    "\n",
    " - Good model performance on development data\n",
    " - Deadlift classification again is lagging in accuracy\n",
    " - Most of the confusion is between squat and deadlift"
   ]
  },
  {
   "cell_type": "code",
   "execution_count": 106,
   "metadata": {
    "colab": {},
    "colab_type": "code",
    "id": "Nh9-tDEy_9YV"
   },
   "outputs": [],
   "source": [
    "# Random Forest model\n",
    "\n",
    "rf_model = RandomForestClassifier(n_estimators=5)\n",
    "rf_model.fit(train_data_std, train_labels)\n",
    "rf_dev_predictions = rf_model.predict(dev_data_std)"
   ]
  },
  {
   "cell_type": "markdown",
   "metadata": {
    "colab_type": "text",
    "id": "ufoJ04fv_9YX"
   },
   "source": [
    "### 5.4.2 Model evaluation on development data"
   ]
  },
  {
   "cell_type": "code",
   "execution_count": 107,
   "metadata": {
    "colab": {},
    "colab_type": "code",
    "id": "A51U58lR_9YX",
    "outputId": "684798a3-7a98-4514-eebf-17a61cb4946d"
   },
   "outputs": [
    {
     "name": "stdout",
     "output_type": "stream",
     "text": [
      "Accuracy on development data: 95.19%\n",
      "==================================================\n",
      "Classification report by exercise:\n",
      "             precision    recall  f1-score   support\n",
      "\n",
      "      bench       0.97      0.98      0.98      9003\n",
      "   deadlift       0.90      0.88      0.89      3430\n",
      "      squat       0.95      0.94      0.95      7347\n",
      "\n",
      "avg / total       0.95      0.95      0.95     19780\n",
      "\n",
      "==================================================\n",
      "Confusion matrix:\n",
      "          bench  deadlift  squat\n",
      "bench      8866        63     74\n",
      "deadlift    119      3014    297\n",
      "squat       140       271   6936\n"
     ]
    },
    {
     "data": {
      "image/png": "[encoded data removed]",
      "text/plain": [
       "<matplotlib.figure.Figure at 0x1a17868860>"
      ]
     },
     "metadata": {},
     "output_type": "display_data"
    }
   ],
   "source": [
    "print(f\"Accuracy on development data: {grid_search.score(dev_data_noids, dev_labels)*100:.2f}%\")\n",
    "get_performance(dev_labels, rf_dev_predictions, labels_main_names)"
   ]
  },
  {
   "cell_type": "code",
   "execution_count": 109,
   "metadata": {},
   "outputs": [
    {
     "name": "stdout",
     "output_type": "stream",
     "text": [
      "     features  importance\n",
      "1         ROM    0.395726\n",
      "3  PeakVelLoc    0.169864\n",
      "2     PeakVel    0.151848\n",
      "5  weight_lbs    0.138961\n",
      "4      RepDur    0.083518\n",
      "0      AvgVel    0.060083\n"
     ]
    }
   ],
   "source": [
    "# What were the most useful features?\n",
    "\n",
    "importance = rf_model.feature_importances_   # extract feature importance attribute\n",
    "features = dev_data_noids.columns\n",
    "importance_table = pd.DataFrame({'importance': importance, 'features': features})  # make table\n",
    "importance_table.sort_values('importance', ascending=False, inplace=True)\n",
    "\n",
    "print(importance_table)"
   ]
  },
  {
   "cell_type": "markdown",
   "metadata": {},
   "source": [
    "* The most important feature was ROM - range of motion.  This makes sense, considering the different exercises target different muscle groups and involve different motions\n",
    "* PeakVel, PeakVelLoc, weight_lbs, and RepDur all had very similar contribution to the decision tree\n",
    "* The least-important feature was AvgVel - average velocity, which is surprising but may indicate that individuals have very different capabilities"
   ]
  },
  {
   "cell_type": "markdown",
   "metadata": {
    "colab_type": "text",
    "id": "G-pzn7vW_9Ya"
   },
   "source": [
    "### 5.4.3 Model performance on \"other\" labels"
   ]
  },
  {
   "cell_type": "code",
   "execution_count": 34,
   "metadata": {
    "colab": {},
    "colab_type": "code",
    "id": "SrnYu1T__9Ya",
    "outputId": "03d6b2a4-60dd-4da5-b95c-21700c862fe0"
   },
   "outputs": [
    {
     "name": "stdout",
     "output_type": "stream",
     "text": [
      "Accuracy on testing data: 87.06%\n",
      "==================================================\n",
      "Classification report by exercise:\n",
      "                precision    recall  f1-score   support\n",
      "\n",
      "   bench other       0.89      0.98      0.93     33223\n",
      "deadlift other       0.54      0.73      0.62      7151\n",
      "   squat other       0.94      0.81      0.87     40147\n",
      "\n",
      "   avg / total       0.88      0.87      0.87     80521\n",
      "\n",
      "==================================================\n",
      "Confusion matrix:\n",
      "                bench other  deadlift other  squat other\n",
      "bench other           32436             251          536\n",
      "deadlift other          401            5242         1508\n",
      "squat other            3565            4161        32421\n"
     ]
    },
    {
     "data": {
      "image/png": "[encoded data removed]",
      "text/plain": [
       "<matplotlib.figure.Figure at 0x1a123e9be0>"
      ]
     },
     "metadata": {},
     "output_type": "display_data"
    }
   ],
   "source": [
    "rf_other_predictions = grid_search.predict(df_other_noids)\n",
    "print(f\"Accuracy on testing data: {grid_search.score(df_other_noids, labels_other_num)*100:.2f}%\")\n",
    "get_performance(labels_other_num, rf_other_predictions, labels_other_names)"
   ]
  },
  {
   "cell_type": "markdown",
   "metadata": {},
   "source": [
    "## 5.5 Comparing Models\n",
    "\n",
    "To show more clearly the performance and robustness of each model, a 20-fold cross-validation is run on the training set.  For each fold, the accuracy is recorded.  This analysis provides an indication of how sensitive the model is to the training set.\n",
    "\n",
    "* KNN and Random Forests perform very similarly, with accuracies of 94+% and low standard deviations for the 20-fold CV test.\n",
    "* Gaussian Naive Bayes and Logistic Regression perform noticably worse, with accuracies of 87% and 85%, respectively.\n",
    "* The variation of the GNB and Logistic models was also higher than KNN and RF, implying that these models may be more sensitive to the specific training data values and outliers.\n"
   ]
  },
  {
   "cell_type": "code",
   "execution_count": 146,
   "metadata": {},
   "outputs": [
    {
     "name": "stdout",
     "output_type": "stream",
     "text": [
      "RandomForest: 0.948596 (0.002077)\n",
      "KNN: 0.946372 (0.002116)\n",
      "GNB: 0.872787 (0.004235)\n",
      "LogisticRegression: 0.850801 (0.003714)\n"
     ]
    },
    {
     "data": {
      "image/png": "[encoded data removed]",
      "text/plain": [
       "<matplotlib.figure.Figure at 0x1a2c588dd8>"
      ]
     },
     "metadata": {},
     "output_type": "display_data"
    }
   ],
   "source": [
    "# Comparing models\n",
    "# with assistance from:   https://machinelearningmastery.com/compare-machine-learning-algorithms-python-scikit-learn/\n",
    "\n",
    "\n",
    "models = [('RandomForest', rf_model),\n",
    "          ('KNN', knn_model),\n",
    "          ('GNB', GNB_model),\n",
    "          ('LogisticRegression', LogisticRegression())\n",
    "         ]\n",
    "\n",
    "results = []\n",
    "names = []\n",
    "\n",
    "for name, model in models:\n",
    "    \n",
    "    kfold = KFold(n_splits=20, random_state=42)\n",
    "    cv_results = cross_val_score(model, train_data_std, train_labels, cv=kfold, scoring='accuracy')\n",
    "    results.append(cv_results)\n",
    "    names.append(name)\n",
    "    \n",
    "    msg = \"%s: %f (%f)\" % (name, cv_results.mean(), cv_results.std())\n",
    "    print(msg)\n",
    "\n",
    "# boxplot algorithm comparison\n",
    "fig = plt.figure()\n",
    "fig.suptitle('Algorithm Comparison')\n",
    "ax = fig.add_subplot(111)\n",
    "plt.boxplot(results)\n",
    "ax.set_xticklabels(names)\n",
    "plt.show()\n",
    "              "
   ]
  },
  {
   "cell_type": "markdown",
   "metadata": {
    "colab_type": "text",
    "id": "G1x4sdv9_9Yc"
   },
   "source": [
    "# 6. Post-Model Custom Logic\n",
    "\n",
    "As well as optimizing model hyper-parameters, we can also apply custom logic after the final classification. For example, we can implement custom ensemble logic, similar to the random forest algorithm, to ensure reps within the same set are classified similarly."
   ]
  },
  {
   "cell_type": "markdown",
   "metadata": {
    "colab_type": "text",
    "id": "UzxmR54E_9Yd"
   },
   "source": [
    "### TODO: \n",
    " \n",
    " - modify the below function to accept two ID columns (setID and RepCount)"
   ]
  },
  {
   "cell_type": "code",
   "execution_count": null,
   "metadata": {
    "colab": {},
    "colab_type": "code",
    "id": "Qir_6-1l_9Yd"
   },
   "outputs": [],
   "source": [
    "def set_ensemble_consensus(predictions, set_ids):\n",
    "    consensus_pred = predictions\n",
    "    \n",
    "    for i, setID in enumerate(set_ids):\n",
    "        set_ix = [i for i in range(len(set_ids)) if set_ids[i] == setID]\n",
    "        set_pred_mode = mode(consensus_pred[set_ix])[0][0]\n",
    "        consensus_pred[i] = set_pred_mode\n",
    "        \n",
    "    return consensus_pred\n",
    "\n",
    "\n",
    "# consensus_pred = set_ensemble_consensus(knn_test_prediciton, test_data['setID'].tolist())\n",
    "# correct_ct = 0\n",
    "# for i, prediction in enumerate(consensus_pred):\n",
    "#     if prediction == test_labels.iloc[i]:\n",
    "#         correct_ct += 1\n",
    "    \n",
    "# print(\"Ensemble Accuracy: \", correct_ct / test_labels.size)"
   ]
  },
  {
   "cell_type": "markdown",
   "metadata": {
    "colab_type": "text",
    "id": "i-QrPlfc_9Yf"
   },
   "source": [
    "# Summary\n",
    "\n",
    "Our group has successfully put together a pipeline where we can rapidly iterate on improving our model. The remaining time before submission will be spent analyzing, iterating, and improving our model's performance.\n",
    "\n",
    "# Next Steps\n",
    "\n",
    "- Continue analyzing the data to improve cleaning and feature engineering\n",
    "- Explore the reasons for poor deadlift classification\n",
    "- Explore additional machine learning algorithms to determine which is best for this dataset and problem\n",
    "- Develop a more robust method of scoring performance to guide what needs to be improved in the pipeline and model\n",
    "- Apply ensemble logic to selected algorithms\n",
    "- Apply an unsupervised algorithm for Goal #2: Lifter Segmentation\n",
    "\n",
    "# Open Questions\n",
    "\n",
    "- What model algorithm gives the best performance and why?\n",
    "- Do we need to build a separate model for Big 3 lifts with \"other\" label? \n",
    "- What's the best way to handle null values? \n",
    "- How should we treat outliers?"
   ]
  }
 ],
 "metadata": {
  "accelerator": "GPU",
  "colab": {
   "include_colab_link": true,
   "name": "w207_openbarbell_baseline_submission.ipynb",
   "provenance": [],
   "version": "0.3.2"
  },
  "kernelspec": {
   "display_name": "Python 3",
   "language": "python",
   "name": "python3"
  },
  "language_info": {
   "codemirror_mode": {
    "name": "ipython",
    "version": 3
   },
   "file_extension": ".py",
   "mimetype": "text/x-python",
   "name": "python",
   "nbconvert_exporter": "python",
   "pygments_lexer": "ipython3",
   "version": "3.6.4"
  }
 },
 "nbformat": 4,
 "nbformat_minor": 2
}
